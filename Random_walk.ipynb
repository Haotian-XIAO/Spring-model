{
 "cells": [
  {
   "cell_type": "code",
   "execution_count": 11,
   "id": "cb4ae1f6-0a8f-44e2-9ff5-c9d88259a6fb",
   "metadata": {},
   "outputs": [
    {
     "data": {
      "text/html": [
       "<pre style=\"white-space:pre;overflow-x:auto;line-height:normal;font-family:Menlo,'DejaVu Sans Mono',consolas,'Courier New',monospace\"><span style=\"color: #808000; text-decoration-color: #808000; font-weight: bold\">Warning:</span><span style=\"color: #808000; text-decoration-color: #808000\"> VTK requires 3D points, but 2D points given. Appending </span><span style=\"color: #808000; text-decoration-color: #808000; font-weight: bold\">0</span><span style=\"color: #808000; text-decoration-color: #808000\"> third component.</span>\n",
       "</pre>\n"
      ],
      "text/plain": [
       "\u001b[1;33mWarning:\u001b[0m\u001b[33m VTK requires 3D points, but 2D points given. Appending \u001b[0m\u001b[1;33m0\u001b[0m\u001b[33m third component.\u001b[0m\n"
      ]
     },
     "metadata": {},
     "output_type": "display_data"
    }
   ],
   "source": [
    "from hexalattice.hexalattice import create_hex_grid\n",
    "import numpy as np\n",
    "import meshio\n",
    "import matplotlib.pyplot as plt\n",
    "import time\n",
    "from tqdm.auto import tqdm\n",
    "import os\n",
    "from collections import deque\n",
    "from numba import jit\n",
    "\n",
    "output_folder = \"simulation_results\"\n",
    "os.makedirs(output_folder, exist_ok=True)\n",
    "\n",
    "# Parameters for the hexagonal grid\n",
    "nx, ny = 25, 40  # Number of hexagons in the x and y directions\n",
    "dx = 1           # Distance between centers of hexagons\n",
    "\n",
    "# Create hexagonal grid\n",
    "hex_centers, hex_grid = create_hex_grid(nx=nx, ny=ny, do_plot=False, min_diam=dx)\n",
    "\n",
    "def get_hex_vertices(center):\n",
    "    # Get vertices of hexagon with given center\n",
    "    radius = 2/np.sqrt(3)*dx/2\n",
    "    angles = np.linspace(0, 2 * np.pi, 7)[:-1]  # 6 vertices\n",
    "    vertices = np.column_stack((center[0] + radius * np.cos(angles + np.pi/2),\n",
    "                                center[1] + radius * np.sin(angles + np.pi/2)))\n",
    "    return vertices\n",
    "\n",
    "# Collect all vertices in the grid\n",
    "hex_vertices_list = []\n",
    "for center in hex_centers:\n",
    "    hex_vertices_list.append(get_hex_vertices(center))\n",
    "hex_vertices_array = np.vstack(hex_vertices_list)\n",
    "\n",
    "# Ensure unique vertices and reshape cells\n",
    "unique_vertices, indices = np.unique(hex_vertices_array.round(decimals=6), axis=0, return_inverse=True)\n",
    "hex_cells = np.reshape(indices, (-1, 6))\n",
    "\n",
    "# Define unique edges\n",
    "unique_edges = []\n",
    "for hexagon in hex_cells:\n",
    "    for i in range(len(hexagon)):\n",
    "        node1 = hexagon[i]\n",
    "        node2 = hexagon[(i + 1) % len(hexagon)]  \n",
    "        edge = tuple(sorted((node1, node2)))  \n",
    "        if edge not in unique_edges:\n",
    "            unique_edges.append(edge)\n",
    "\n",
    "# Identify boundary nodes and edges\n",
    "point_ids = np.arange(len(unique_vertices))\n",
    "boundary_id = np.zeros(len(unique_vertices))\n",
    "\n",
    "boundary_l, boundary_r, boundary_t, boundary_b = [], [], [], []\n",
    "for i in point_ids:\n",
    "    idx = np.where(hex_cells == i)\n",
    "    if (1 in idx[1] and 5 not in idx[1]) or (2 in idx[1] and 4 not in idx[1]):\n",
    "        boundary_l.append(i)\n",
    "    if (5 in idx[1] and 1 not in idx[1]) or (4 in idx[1] and 2 not in idx[1]):\n",
    "        boundary_r.append(i)\n",
    "    if (0 in idx[1] and 2 not in idx[1] and 4 not in idx[1]) or (1 in idx[1] and 3 not in idx[1] and 5 in idx[1]):\n",
    "        boundary_t.append(i)\n",
    "    if (3 in idx[1] and 1 not in idx[1] and 5 not in idx[1]) or (4 in idx[1] and 0 not in idx[1] and 2 in idx[1]):\n",
    "        boundary_b.append(i)\n",
    "\n",
    "boundary_id[np.unique(boundary_t)] = 1\n",
    "boundary_id[np.unique(boundary_b)] = 2\n",
    "boundary_id[np.unique(boundary_l)] = 3\n",
    "boundary_id[np.unique(boundary_r)] = 4\n",
    "\n",
    "# Identify edges on/connected to boundary\n",
    "boundary_status = np.zeros(len(unique_edges))\n",
    "for e in range(len(unique_edges)):\n",
    "    node1, node2 = unique_edges[e]\n",
    "    if boundary_id[node1] > 0 and boundary_id[node2] > 0:\n",
    "        boundary_status[e] = 2\n",
    "    elif (boundary_id[node1] > 0 and boundary_id[node2] == 0) or (boundary_id[node1] == 0 and boundary_id[node2] > 0):\n",
    "        boundary_status[e] = 1\n",
    "\n",
    "# Export to VTK\n",
    "points = unique_vertices\n",
    "mesh = meshio.Mesh(points, [(\"line\", unique_edges)], point_data={'Boundary_nodes': boundary_id}, cell_data={'Boundary_edges': [boundary_status]})\n",
    "\n",
    "output_file_edge = os.path.join(output_folder, \"hexagonal_mesh_EDGE.vtk\")\n",
    "meshio.write(output_file_edge, mesh)\n",
    "\n",
    "# Agent-related constants\n",
    "At = 10.0         # Fibrotic threshold for cross-sectional area\n",
    "A0 = 1            # Initial cross-sectional area\n",
    "epsilon_s = 1.0   # Target strain\n",
    "beta = 3.0        # Steepness for stiffness Hill function\n",
    "gamma = 1.0       # Steepness for strain Hill function\n",
    "w1, w2 = 1, 1.0 # Weights for strain and stiffness contributions\n",
    "c = 0.5*w1 + w2*(A0 / At) ** beta / ((A0 / At) ** beta + 1)\n",
    "r = 1.0             # Memory factor\n",
    "P = 0.2           # Scaling constant for spring constant update\n",
    "p1 = 0.01         # Probability of new Agent appearing\n",
    "D_0 = 0.3          # Initial agent density\n",
    "Dmax = 3\n",
    "\n",
    "\n",
    "\n",
    "\n",
    "# Initialize Agent Parameters\n",
    "num_springs = len(unique_edges)\n",
    "epsilon = np.ones(num_springs)   # Initial strain for each spring\n",
    "a = np.zeros(num_springs)         # Initial activation level for each spring\n",
    "D = np.full(num_springs, 0.3)     # Initial agent density for each spring\n"
   ]
  },
  {
   "cell_type": "code",
   "execution_count": 12,
   "id": "2124ec71-60fb-470a-b975-1da17846f4d3",
   "metadata": {},
   "outputs": [],
   "source": [
    "def identify_regions(spring_constants, k_fibrosis, k_normal):\n",
    "    \"\"\"\n",
    "    Identify which springs are inside the stiffened region and which are on the edge.\n",
    "    Returns two boolean arrays: inside_region, edge_region.\n",
    "    \"\"\"\n",
    "    inside_region = np.zeros(len(spring_constants), dtype=bool)\n",
    "    edge_region = np.zeros(len(spring_constants), dtype=bool)\n",
    "    \n",
    "    # Iterate over each spring\n",
    "    for spring_index, k_value in enumerate(spring_constants):\n",
    "        # Identify neighbors of the current spring\n",
    "        nodes = edges[spring_index]\n",
    "        connected = np.where((nodes[0] == edges[:, 0]) | \n",
    "                             (nodes[0] == edges[:, 1]) | \n",
    "                             (nodes[1] == edges[:, 0]) | \n",
    "                             (nodes[1] == edges[:, 1]))[0]\n",
    "        \n",
    "        neighbor_stiffness = spring_constants[connected]\n",
    "        \n",
    "        # If all neighbors are stiff, the spring is inside the stiffened region\n",
    "        if np.all(neighbor_stiffness >= 30):\n",
    "            inside_region[spring_index] = True\n",
    "        # If some neighbors are stiff and some are normal, it's on the edge\n",
    "        elif np.any(neighbor_stiffness >= 30) and np.any(neighbor_stiffness == 30):\n",
    "            edge_region[spring_index] = True\n",
    "    \n",
    "    return inside_region, edge_region\n",
    "\n",
    "def compute_strain_and_stress(points, edges, l0, spring_constants):\n",
    "    \"\"\"\n",
    "    Compute strain and stress for each spring based on the current positions.\n",
    "    Returns two arrays: strain and stress.\n",
    "    \"\"\"\n",
    "    strain = np.zeros(len(edges))\n",
    "    stress = np.zeros(len(edges))\n",
    "\n",
    "    for i, edge in enumerate(edges):\n",
    "        node1, node2 = edge\n",
    "        p1, p2 = points[node1], points[node2]\n",
    "\n",
    "        # Calculate current length of the spring\n",
    "        current_length = np.linalg.norm(p2 - p1)\n",
    "        \n",
    "        # Calculate strain and stress\n",
    "        strain[i] = (current_length - l0) / l0\n",
    "        stress[i] = spring_constants[i] * strain[i]\n",
    "\n",
    "    return strain, stress\n",
    "\n",
    "\n",
    "def compute_spring_force(p1, p2, l0, k):\n",
    "    current_length = np.linalg.norm(p2 - p1)\n",
    "    displacement = current_length - l0\n",
    "    force_magnitude = k * displacement  # Force magnitude based on spring constant\n",
    "\n",
    "    direction = (p2 - p1) / current_length\n",
    "    force = force_magnitude * direction\n",
    "    return force\n",
    "\n",
    "# Calculate forces on each node from all connected springs\n",
    "@jit(nopython=True)\n",
    "def compute_total_forces_numba(forces_on_nodes, points, edges, l0, spring_constants):\n",
    "    forces_on_nodes[:] = 0  # Reset forces to zero at each iteration\n",
    "    for i in range(len(edges)):\n",
    "        node1, node2 = edges[i]\n",
    "        p1, p2 = points[node1], points[node2]\n",
    "\n",
    "        # Compute force directly without additional function call\n",
    "        current_length = np.linalg.norm(p2 - p1)\n",
    "        displacement = current_length - l0\n",
    "        force_magnitude = spring_constants[i] * displacement\n",
    "        direction = (p2 - p1) / current_length\n",
    "\n",
    "        force = force_magnitude * direction\n",
    "\n",
    "        forces_on_nodes[node1] += force\n",
    "        forces_on_nodes[node2] -= force  # Opposite force on node2\n",
    "\n",
    "@jit(nopython=True)\n",
    "def move_nodes_numba(points, forces_on_nodes, mu, free_nodes):\n",
    "    for i in free_nodes[0]:  # Iterate only over free nodes\n",
    "        points[i] += mu * forces_on_nodes[i]\n",
    "\n",
    "@jit(nopython=True)\n",
    "def compute_total_energy_numba(points, edges, l0, spring_constants):\n",
    "    total_energy = 0.0\n",
    "    for i in range(len(edges)):\n",
    "        node1, node2 = edges[i]\n",
    "        p1, p2 = points[node1], points[node2]\n",
    "\n",
    "        # Calculate energy directly\n",
    "        current_length = np.linalg.norm(p2 - p1)\n",
    "        displacement = current_length - l0\n",
    "        energy = 0.5 * spring_constants[i] * displacement ** 2\n",
    "        total_energy += energy\n",
    "    return total_energy\n",
    "\n",
    "# Remove specified edges and corresponding spring constants\n",
    "def remove_edge(edges, points, spring_constants, removed_id):\n",
    "    point_ids = np.arange(len(points))\n",
    "    \n",
    "    # Step 1: Remove edges that should be removed\n",
    "    for i in removed_id:\n",
    "        edges = np.delete(edges, i, axis=0)\n",
    "        spring_constants = np.delete(spring_constants, i, axis=0)\n",
    "\n",
    "    # Step 2: Remove edges that have become disconnected after Step 1\n",
    "    for i in point_ids:\n",
    "        idx = np.where(edges == i)\n",
    "        n_of_edges = len(idx[0])\n",
    "\n",
    "        if n_of_edges==1:\n",
    "            edges = np.delete(edges, idx[0], axis=0)\n",
    "            spring_constants = np.delete(spring_constants, idx[0], axis=0)\n",
    "\n",
    "    return edges, spring_constants\n",
    "\n",
    "# # # # # # # # # # # # # # # # # # # # # # # # # # # # # #\n",
    "\n",
    "# Functions for agent-specific updates\n",
    "# Stiffness-based activation\n",
    "# Parameters for softening phase\n",
    "\n",
    "\n",
    "# Functions for agent-specific updates\n",
    "\n",
    "# Stiffness-based activation\n",
    "def calc_aK(A, At, beta):\n",
    "    return (A / At) ** beta / ((A / At) ** beta + 1)\n",
    "\n",
    "# Strain-based activation\n",
    "def calc_aepsilon(epsilon, epsilon_s, gamma):\n",
    "    return (epsilon / epsilon_s) ** gamma / ((epsilon / epsilon_s) ** gamma + 1)\n",
    "\n",
    "# Update the activation with memory effect\n",
    "def update_activation(a, a_epsilon, a_K, w1, w2, c, r):\n",
    "    return a * (1 - r) + r * (w1 * a_epsilon + w2 * a_K - c)\n",
    "\n",
    "# Update agent density\n",
    "def update_agent_density(D, a, p1, n, s, D_0, Dmax, w2):\n",
    "    X = Dmax / D_0\n",
    "    p2 = p1 * n / (s * D_0)\n",
    "    p3 = (p2 * (1 - (1 / X))) / (w2 - 0.5)\n",
    "    return D + (p1 * n / s) + (p3 * a - p2) * D\n",
    "\n",
    "def calculate_spring_constants(areas, young_modulus, l0):\n",
    "    \"\"\"Calculate spring constants based on area and Young's modulus.\"\"\"\n",
    "    return (young_modulus * areas) #/ l0\n",
    "\n",
    "\n",
    "def update_modulus_and_area(E, A, spring_constants, a, D, P_modulus, P_area, soften_triggered, soften_duration, recovery_rate, E_baseline, one_time_triggered):\n",
    "    \"\"\"\n",
    "    Update Young's modulus (E) with individual softening and recovery behavior that triggers only once,\n",
    "    and update area (A) directly based on agent activation.\n",
    "    \"\"\"\n",
    "    new_E = E.copy()\n",
    "    new_A = A.copy()\n",
    "    \n",
    "    for i in range(len(a)):\n",
    "        # Check if stiffness exceeds threshold to trigger softening for E (only if not triggered before)\n",
    "        if spring_constants[i] > 5 and not one_time_triggered[i]:\n",
    "            soften_triggered[i] = True\n",
    "            one_time_triggered[i] = True  # Mark as triggered once permanently\n",
    "\n",
    "        # Update area A directly based on agent activation\n",
    "        new_A[i] += P_area * a[i] * D[i]  # Adjust A continuously based on agent effect\n",
    "\n",
    "        # Update modulus E with softening and recovery behavior\n",
    "        if soften_triggered[i]:\n",
    "            if soften_duration[i] > 0:\n",
    "                # Apply softening phase\n",
    "                new_E[i] = max(new_E[i] - P_modulus * a[i] * D[i], 0.1)  # Ensure E doesn't drop below 0.1\n",
    "                soften_duration[i] -= 1  # Decrease remaining softening time\n",
    "            else:\n",
    "                # Recovery phase: incrementally restore E towards E_baseline\n",
    "                new_E[i] = min(new_E[i] + recovery_rate * (E_baseline - new_E[i]), E_baseline)\n",
    "                if new_E[i] >= E_baseline:  # Once recovered to baseline, reset softening trigger\n",
    "                    soften_triggered[i] = False\n",
    "\n",
    "    return new_A , new_E\n",
    "\n",
    "# Update spring constants with a softening phase followed by normal behavior\n",
    "def update_spring_constant(spring_constants, a, D, P, phase):\n",
    "    new_spring_constants = spring_constants.copy()\n",
    "    \n",
    "    for i in range(len(a)):\n",
    "        if phase < softening_duration:\n",
    "            # Apply softening during the initial phase\n",
    "            new_spring_constants[i] += P * a[i] * D[i]\n",
    "            #softened_stiffness = spring_constants[i] * (1 - softening_factor * a[i] * D[i])\n",
    "            #new_spring_constants[i] = max(softened_stiffness, 0)  # Prevent negative stiffness\n",
    "        else:\n",
    "            # Normal behavior after softening phase: no further modification\n",
    "            new_spring_constants[i] += P * a[i] * D[i]\n",
    "        \n",
    "        # Optional: Update history with new stiffness value\n",
    "        spring_history[i].append(new_spring_constants[i])\n",
    "    \n",
    "    return new_spring_constants\n",
    "\n",
    "def plot_energy(energy):\n",
    "\n",
    "    plt.plot(energy)\n",
    "\n",
    "    plt.xlabel(\"Number of iterations\")\n",
    "    plt.ylabel(\"Total energy\")\n",
    "\n",
    "    plt.show()\n",
    "    plt.clf()"
   ]
  },
  {
   "cell_type": "code",
   "execution_count": 13,
   "id": "66c8e995-f0e0-4c54-a0df-c46a16ac876e",
   "metadata": {},
   "outputs": [],
   "source": [
    "def simulate(points, edges, l0, spring_constants, mu, T, tolerance, max_iterations, free_nodes, plot_bar=True, print_results=False, energy_plot=True):\n",
    "    if plot_bar:\n",
    "        progress_bar = tqdm(total=max_iterations, desc=\"Simulation Progress\")\n",
    "\n",
    "    iteration = 0\n",
    "    previous_energy = compute_total_energy_numba(points, edges, l0, spring_constants)\n",
    "    delta_energy = 10\n",
    "    stagnation_counter = 0\n",
    "    stagnation = False\n",
    "\n",
    "    # Set up tracking for energy\n",
    "    energy = [] if energy_plot else None\n",
    "    forces_on_nodes = np.zeros_like(points)  # Initialize forces array\n",
    "\n",
    "    while iteration < max_iterations and not stagnation:\n",
    "        # In-place force calculation\n",
    "        compute_total_forces_numba(forces_on_nodes, points, edges, l0, spring_constants)\n",
    "\n",
    "        temp_points = points.copy()\n",
    "        # In-place node movement\n",
    "        move_nodes_numba(temp_points, forces_on_nodes, mu, free_nodes)\n",
    "\n",
    "        # In-place energy calculation\n",
    "        new_energy = compute_total_energy_numba(temp_points, edges, l0, spring_constants)\n",
    "\n",
    "        if energy_plot:\n",
    "            energy.append(new_energy)\n",
    "\n",
    "        delta_energy = new_energy - previous_energy\n",
    "        relative_energy_change = abs(delta_energy) / abs(new_energy)\n",
    "        stagnation_counter = stagnation_counter + 1 if relative_energy_change < tolerance else 0\n",
    "        stagnation = stagnation_counter >= 20\n",
    "\n",
    "        # Acceptance criteria\n",
    "        if delta_energy < 0:\n",
    "            previous_energy = new_energy\n",
    "            points = temp_points\n",
    "            mu *= 1.1\n",
    "            P = 0\n",
    "        else:\n",
    "            P = np.exp(-delta_energy / T)\n",
    "            if np.random.random() < P:\n",
    "                previous_energy = new_energy\n",
    "                points = temp_points\n",
    "            else:\n",
    "                mu *= 0.9  # Reject configuration\n",
    "\n",
    "        T *= 0.99\n",
    "        iteration += 1\n",
    "        if plot_bar:\n",
    "            progress_bar.update(1)\n",
    "\n",
    "        if print_results and (iteration == 1 or iteration % 250 == 0):\n",
    "            print(f\"Iteration {iteration}, mu: {mu}, T: {T}, P = {P}\")\n",
    "            print(f\"New energy: {new_energy}\")\n",
    "            print(\"Energy change:\", delta_energy)\n",
    "            print(\"Number of edges:\", len(edges))\n",
    "\n",
    "    if energy_plot:\n",
    "        plot_energy(energy)\n",
    "\n",
    "    return points, edges, spring_constants"
   ]
  },
  {
   "cell_type": "code",
   "execution_count": 14,
   "id": "ce137c31-8f6f-4160-ab43-b967ff7dd274",
   "metadata": {},
   "outputs": [
    {
     "data": {
      "application/vnd.jupyter.widget-view+json": {
       "model_id": "d9548e42e02e4c6dabf90a7b689ff95f",
       "version_major": 2,
       "version_minor": 0
      },
      "text/plain": [
       "Simulation Progress:   0%|          | 0/2000 [00:00<?, ?it/s]"
      ]
     },
     "metadata": {},
     "output_type": "display_data"
    },
    {
     "data": {
      "image/png": "[encoded data removed]",
      "text/plain": [
       "<Figure size 640x480 with 1 Axes>"
      ]
     },
     "metadata": {},
     "output_type": "display_data"
    },
    {
     "data": {
      "text/html": [
       "<pre style=\"white-space:pre;overflow-x:auto;line-height:normal;font-family:Menlo,'DejaVu Sans Mono',consolas,'Courier New',monospace\"><span style=\"color: #808000; text-decoration-color: #808000; font-weight: bold\">Warning:</span><span style=\"color: #808000; text-decoration-color: #808000\"> VTK requires 3D points, but 2D points given. Appending </span><span style=\"color: #808000; text-decoration-color: #808000; font-weight: bold\">0</span><span style=\"color: #808000; text-decoration-color: #808000\"> third component.</span>\n",
       "</pre>\n"
      ],
      "text/plain": [
       "\u001b[1;33mWarning:\u001b[0m\u001b[33m VTK requires 3D points, but 2D points given. Appending \u001b[0m\u001b[1;33m0\u001b[0m\u001b[33m third component.\u001b[0m\n"
      ]
     },
     "metadata": {},
     "output_type": "display_data"
    },
    {
     "data": {
      "text/plain": [
       "<Figure size 640x480 with 0 Axes>"
      ]
     },
     "metadata": {},
     "output_type": "display_data"
    }
   ],
   "source": [
    "# Load the mesh with edges\n",
    "mesh_path = \"simulation_results/hexagonal_mesh_EDGE.vtk\"  # Specify the path to the mesh file\n",
    "mesh_EDGE = meshio.read(mesh_path)  # Load edges from VTK file\n",
    "\n",
    "# Extract the points (coordinates) and edges (line cells)\n",
    "points = mesh_EDGE.points[:, :2]  # Use only x, y coordinates for 2D mesh\n",
    "edges = mesh_EDGE.cells_dict['line']  # Get line elements representing edges\n",
    "\n",
    "# Boundary identification\n",
    "boundary_node_ids = mesh_EDGE.point_data['Boundary_nodes']\n",
    "boundary_edge_ids = mesh_EDGE.cell_data['Boundary_edges'][0]\n",
    "\n",
    "# Simulation parameters\n",
    "k_normal = 1.0             # Normal spring constant for healthy springs\n",
    "k_fibrosis = 100 * k_normal  # Increased stiffness for fibrotic springs\n",
    "dx = 1.0                    # Initial distance factor (ensure you update this as needed)\n",
    "l0 = 0.4 * (2 / np.sqrt(3) * dx / 2)  # Rest length for the springs\n",
    "mu = 0.01                   # Initial step size for nodal movement\n",
    "T = 1.0                     # Initial temperature for simulated annealing\n",
    "alpha = 0.4                # Proportion of springs that will become fibrotic\n",
    "max_iterations = 1200        # Maximum iterations for each convergence cycle\n",
    "tolerance = 1e-7            # Tolerance for convergence based on relative energy change\n",
    "walk_length = 300           # Length of the random walk for fibrosis spread\n",
    "soften_rate = 1             # Softening rate for agents in specific regions\n",
    "P_modulus = 0.0005\n",
    "\n",
    "softening_factor = 0.001    # Factor to reduce stiffness during the softening phase\n",
    "\n",
    "# Initialize a history tracking list for each spring (optional)\n",
    "history_length = 10       # Number of past values to keep for each spring\n",
    "\n",
    "# Set initial spring constants\n",
    "E_initial = 1.0  # Set baseline Young's modulus value\n",
    "young_modulus = np.full(len(edges), E_initial) \n",
    "spring_constants = np.full(len(edges), k_normal)  # All springs start with normal stiffness\n",
    "spring_history = [deque([k], maxlen=history_length) for k in spring_constants]  # Stiffness history\n",
    "# Free nodes (not on boundary)\n",
    "free_nodes = np.where(boundary_node_ids == 0)\n",
    "\n",
    "soften_triggered = np.zeros(len(spring_constants), dtype=bool)  # Track if softening has been triggered\n",
    "soften_duration = np.full(len(spring_constants), 150)  # Duration of softening for each spring\n",
    "recovery_rate = 0.003  # Rate at which E recovers after softening\n",
    "E_baseline = 1.0  # Target baseline value for E\n",
    "\n",
    "# Run the random walk for fibrosis initialization\n",
    "healthy_ids = np.where((spring_constants == k_normal))[0]\n",
    "while len(healthy_ids) / len(edges) > 1 - alpha:\n",
    "    #feasible_ids = np.where(spring_constants == k_normal)[0]\n",
    "    feasible_ids = np.where((spring_constants==k_normal)&(boundary_edge_ids == 1 ))[0]\n",
    "    new_stiff = np.random.choice(feasible_ids)\n",
    "    spring_constants[new_stiff] = k_fibrosis\n",
    "\n",
    "    # Do random walk (spread fibrosis)\n",
    "    for i in range(walk_length):\n",
    "        nodes = edges[new_stiff]\n",
    "        connected = np.where(\n",
    "            (nodes[0] == edges[:, 0]) | (nodes[0] == edges[:, 1]) | (nodes[1] == edges[:, 0]) | (nodes[1] == edges[:, 1])\n",
    "        )\n",
    "        new_stiff = np.random.choice(connected[0])\n",
    "        spring_constants[new_stiff] = k_fibrosis\n",
    "\n",
    "    # Update\n",
    "    healthy_ids = np.where((spring_constants == k_normal))[0]\n",
    "\n",
    "# Pre-converge step\n",
    "points = np.asarray(points, dtype=np.float64)\n",
    "edges = np.asarray(edges, dtype=np.int32)\n",
    "spring_constants = np.asarray(spring_constants, dtype=np.float64)\n",
    "\n",
    "pre_convergence_iterations = 2000\n",
    "final_positions, final_edges, final_spring_constants = simulate(\n",
    "    points, edges, l0, spring_constants, mu, T, tolerance, pre_convergence_iterations, free_nodes\n",
    ")\n",
    "\n",
    "points = final_positions\n",
    "edges = final_edges\n",
    "spring_constants = final_spring_constants\n",
    "A = spring_constants\n",
    "strain, stress = compute_strain_and_stress(final_positions, edges, l0, spring_constants)\n",
    "filename = os.path.join(output_folder, \"hexagonal_mesh_final_result_EDGE_init.vtk\")\n",
    "meshio.write(\n",
    "    filename,\n",
    "    meshio.Mesh(\n",
    "        final_positions,\n",
    "        cells=[(\"line\", final_edges)],\n",
    "        cell_data={\n",
    "            \"Stiffness\": [spring_constants],\n",
    "            \"Strain\": [strain],\n",
    "            \"Stress\": [stress]\n",
    "        }\n",
    "    )\n",
    ")\n"
   ]
  },
  {
   "cell_type": "code",
   "execution_count": 15,
   "id": "19ea7194",
   "metadata": {},
   "outputs": [
    {
     "name": "stdout",
     "output_type": "stream",
     "text": [
      "Agent-based simulation\n",
      "Phase: 0, D max: 0.3138666309774727, Mean Stiffness: 41.29855874398692\n"
     ]
    },
    {
     "data": {
      "text/html": [
       "<pre style=\"white-space:pre;overflow-x:auto;line-height:normal;font-family:Menlo,'DejaVu Sans Mono',consolas,'Courier New',monospace\"><span style=\"color: #808000; text-decoration-color: #808000; font-weight: bold\">Warning:</span><span style=\"color: #808000; text-decoration-color: #808000\"> VTK requires 3D points, but 2D points given. Appending </span><span style=\"color: #808000; text-decoration-color: #808000; font-weight: bold\">0</span><span style=\"color: #808000; text-decoration-color: #808000\"> third component.</span>\n",
       "</pre>\n"
      ],
      "text/plain": [
       "\u001b[1;33mWarning:\u001b[0m\u001b[33m VTK requires 3D points, but 2D points given. Appending \u001b[0m\u001b[1;33m0\u001b[0m\u001b[33m third component.\u001b[0m\n"
      ]
     },
     "metadata": {},
     "output_type": "display_data"
    },
    {
     "name": "stdout",
     "output_type": "stream",
     "text": [
      "Phase: 2, D max: 0.3427370978593322, Mean Stiffness: 41.34326661859739\n"
     ]
    },
    {
     "data": {
      "text/html": [
       "<pre style=\"white-space:pre;overflow-x:auto;line-height:normal;font-family:Menlo,'DejaVu Sans Mono',consolas,'Courier New',monospace\"><span style=\"color: #808000; text-decoration-color: #808000; font-weight: bold\">Warning:</span><span style=\"color: #808000; text-decoration-color: #808000\"> VTK requires 3D points, but 2D points given. Appending </span><span style=\"color: #808000; text-decoration-color: #808000; font-weight: bold\">0</span><span style=\"color: #808000; text-decoration-color: #808000\"> third component.</span>\n",
       "</pre>\n"
      ],
      "text/plain": [
       "\u001b[1;33mWarning:\u001b[0m\u001b[33m VTK requires 3D points, but 2D points given. Appending \u001b[0m\u001b[1;33m0\u001b[0m\u001b[33m third component.\u001b[0m\n"
      ]
     },
     "metadata": {},
     "output_type": "display_data"
    },
    {
     "name": "stdout",
     "output_type": "stream",
     "text": [
      "Phase: 4, D max: 0.37311082739214363, Mean Stiffness: 41.39031825797907\n"
     ]
    },
    {
     "data": {
      "text/html": [
       "<pre style=\"white-space:pre;overflow-x:auto;line-height:normal;font-family:Menlo,'DejaVu Sans Mono',consolas,'Courier New',monospace\"><span style=\"color: #808000; text-decoration-color: #808000; font-weight: bold\">Warning:</span><span style=\"color: #808000; text-decoration-color: #808000\"> VTK requires 3D points, but 2D points given. Appending </span><span style=\"color: #808000; text-decoration-color: #808000; font-weight: bold\">0</span><span style=\"color: #808000; text-decoration-color: #808000\"> third component.</span>\n",
       "</pre>\n"
      ],
      "text/plain": [
       "\u001b[1;33mWarning:\u001b[0m\u001b[33m VTK requires 3D points, but 2D points given. Appending \u001b[0m\u001b[1;33m0\u001b[0m\u001b[33m third component.\u001b[0m\n"
      ]
     },
     "metadata": {},
     "output_type": "display_data"
    },
    {
     "name": "stdout",
     "output_type": "stream",
     "text": [
      "Phase: 6, D max: 0.4049961836849299, Mean Stiffness: 41.439756513271234\n"
     ]
    },
    {
     "data": {
      "text/html": [
       "<pre style=\"white-space:pre;overflow-x:auto;line-height:normal;font-family:Menlo,'DejaVu Sans Mono',consolas,'Courier New',monospace\"><span style=\"color: #808000; text-decoration-color: #808000; font-weight: bold\">Warning:</span><span style=\"color: #808000; text-decoration-color: #808000\"> VTK requires 3D points, but 2D points given. Appending </span><span style=\"color: #808000; text-decoration-color: #808000; font-weight: bold\">0</span><span style=\"color: #808000; text-decoration-color: #808000\"> third component.</span>\n",
       "</pre>\n"
      ],
      "text/plain": [
       "\u001b[1;33mWarning:\u001b[0m\u001b[33m VTK requires 3D points, but 2D points given. Appending \u001b[0m\u001b[1;33m0\u001b[0m\u001b[33m third component.\u001b[0m\n"
      ]
     },
     "metadata": {},
     "output_type": "display_data"
    },
    {
     "name": "stdout",
     "output_type": "stream",
     "text": [
      "Phase: 8, D max: 0.4384515811640775, Mean Stiffness: 41.49163052210434\n"
     ]
    },
    {
     "data": {
      "text/html": [
       "<pre style=\"white-space:pre;overflow-x:auto;line-height:normal;font-family:Menlo,'DejaVu Sans Mono',consolas,'Courier New',monospace\"><span style=\"color: #808000; text-decoration-color: #808000; font-weight: bold\">Warning:</span><span style=\"color: #808000; text-decoration-color: #808000\"> VTK requires 3D points, but 2D points given. Appending </span><span style=\"color: #808000; text-decoration-color: #808000; font-weight: bold\">0</span><span style=\"color: #808000; text-decoration-color: #808000\"> third component.</span>\n",
       "</pre>\n"
      ],
      "text/plain": [
       "\u001b[1;33mWarning:\u001b[0m\u001b[33m VTK requires 3D points, but 2D points given. Appending \u001b[0m\u001b[1;33m0\u001b[0m\u001b[33m third component.\u001b[0m\n"
      ]
     },
     "metadata": {},
     "output_type": "display_data"
    },
    {
     "name": "stdout",
     "output_type": "stream",
     "text": [
      "Phase: 10, D max: 0.47354754525035664, Mean Stiffness: 41.54599940512036\n"
     ]
    },
    {
     "data": {
      "text/html": [
       "<pre style=\"white-space:pre;overflow-x:auto;line-height:normal;font-family:Menlo,'DejaVu Sans Mono',consolas,'Courier New',monospace\"><span style=\"color: #808000; text-decoration-color: #808000; font-weight: bold\">Warning:</span><span style=\"color: #808000; text-decoration-color: #808000\"> VTK requires 3D points, but 2D points given. Appending </span><span style=\"color: #808000; text-decoration-color: #808000; font-weight: bold\">0</span><span style=\"color: #808000; text-decoration-color: #808000\"> third component.</span>\n",
       "</pre>\n"
      ],
      "text/plain": [
       "\u001b[1;33mWarning:\u001b[0m\u001b[33m VTK requires 3D points, but 2D points given. Appending \u001b[0m\u001b[1;33m0\u001b[0m\u001b[33m third component.\u001b[0m\n"
      ]
     },
     "metadata": {},
     "output_type": "display_data"
    },
    {
     "name": "stdout",
     "output_type": "stream",
     "text": [
      "Phase: 12, D max: 0.5103614094995607, Mean Stiffness: 41.60293816024882\n"
     ]
    },
    {
     "data": {
      "text/html": [
       "<pre style=\"white-space:pre;overflow-x:auto;line-height:normal;font-family:Menlo,'DejaVu Sans Mono',consolas,'Courier New',monospace\"><span style=\"color: #808000; text-decoration-color: #808000; font-weight: bold\">Warning:</span><span style=\"color: #808000; text-decoration-color: #808000\"> VTK requires 3D points, but 2D points given. Appending </span><span style=\"color: #808000; text-decoration-color: #808000; font-weight: bold\">0</span><span style=\"color: #808000; text-decoration-color: #808000\"> third component.</span>\n",
       "</pre>\n"
      ],
      "text/plain": [
       "\u001b[1;33mWarning:\u001b[0m\u001b[33m VTK requires 3D points, but 2D points given. Appending \u001b[0m\u001b[1;33m0\u001b[0m\u001b[33m third component.\u001b[0m\n"
      ]
     },
     "metadata": {},
     "output_type": "display_data"
    },
    {
     "name": "stdout",
     "output_type": "stream",
     "text": [
      "Phase: 14, D max: 0.5489752349828867, Mean Stiffness: 41.66251018019465\n"
     ]
    },
    {
     "data": {
      "text/html": [
       "<pre style=\"white-space:pre;overflow-x:auto;line-height:normal;font-family:Menlo,'DejaVu Sans Mono',consolas,'Courier New',monospace\"><span style=\"color: #808000; text-decoration-color: #808000; font-weight: bold\">Warning:</span><span style=\"color: #808000; text-decoration-color: #808000\"> VTK requires 3D points, but 2D points given. Appending </span><span style=\"color: #808000; text-decoration-color: #808000; font-weight: bold\">0</span><span style=\"color: #808000; text-decoration-color: #808000\"> third component.</span>\n",
       "</pre>\n"
      ],
      "text/plain": [
       "\u001b[1;33mWarning:\u001b[0m\u001b[33m VTK requires 3D points, but 2D points given. Appending \u001b[0m\u001b[1;33m0\u001b[0m\u001b[33m third component.\u001b[0m\n"
      ]
     },
     "metadata": {},
     "output_type": "display_data"
    },
    {
     "name": "stdout",
     "output_type": "stream",
     "text": [
      "Phase: 16, D max: 0.5894745024789164, Mean Stiffness: 41.72478987437892\n"
     ]
    },
    {
     "data": {
      "text/html": [
       "<pre style=\"white-space:pre;overflow-x:auto;line-height:normal;font-family:Menlo,'DejaVu Sans Mono',consolas,'Courier New',monospace\"><span style=\"color: #808000; text-decoration-color: #808000; font-weight: bold\">Warning:</span><span style=\"color: #808000; text-decoration-color: #808000\"> VTK requires 3D points, but 2D points given. Appending </span><span style=\"color: #808000; text-decoration-color: #808000; font-weight: bold\">0</span><span style=\"color: #808000; text-decoration-color: #808000\"> third component.</span>\n",
       "</pre>\n"
      ],
      "text/plain": [
       "\u001b[1;33mWarning:\u001b[0m\u001b[33m VTK requires 3D points, but 2D points given. Appending \u001b[0m\u001b[1;33m0\u001b[0m\u001b[33m third component.\u001b[0m\n"
      ]
     },
     "metadata": {},
     "output_type": "display_data"
    },
    {
     "name": "stdout",
     "output_type": "stream",
     "text": [
      "Phase: 18, D max: 0.6319497014776352, Mean Stiffness: 41.78984722548157\n"
     ]
    },
    {
     "data": {
      "text/html": [
       "<pre style=\"white-space:pre;overflow-x:auto;line-height:normal;font-family:Menlo,'DejaVu Sans Mono',consolas,'Courier New',monospace\"><span style=\"color: #808000; text-decoration-color: #808000; font-weight: bold\">Warning:</span><span style=\"color: #808000; text-decoration-color: #808000\"> VTK requires 3D points, but 2D points given. Appending </span><span style=\"color: #808000; text-decoration-color: #808000; font-weight: bold\">0</span><span style=\"color: #808000; text-decoration-color: #808000\"> third component.</span>\n",
       "</pre>\n"
      ],
      "text/plain": [
       "\u001b[1;33mWarning:\u001b[0m\u001b[33m VTK requires 3D points, but 2D points given. Appending \u001b[0m\u001b[1;33m0\u001b[0m\u001b[33m third component.\u001b[0m\n"
      ]
     },
     "metadata": {},
     "output_type": "display_data"
    },
    {
     "name": "stdout",
     "output_type": "stream",
     "text": [
      "Phase: 20, D max: 0.676496100083851, Mean Stiffness: 41.85775438088775\n"
     ]
    },
    {
     "data": {
      "text/html": [
       "<pre style=\"white-space:pre;overflow-x:auto;line-height:normal;font-family:Menlo,'DejaVu Sans Mono',consolas,'Courier New',monospace\"><span style=\"color: #808000; text-decoration-color: #808000; font-weight: bold\">Warning:</span><span style=\"color: #808000; text-decoration-color: #808000\"> VTK requires 3D points, but 2D points given. Appending </span><span style=\"color: #808000; text-decoration-color: #808000; font-weight: bold\">0</span><span style=\"color: #808000; text-decoration-color: #808000\"> third component.</span>\n",
       "</pre>\n"
      ],
      "text/plain": [
       "\u001b[1;33mWarning:\u001b[0m\u001b[33m VTK requires 3D points, but 2D points given. Appending \u001b[0m\u001b[1;33m0\u001b[0m\u001b[33m third component.\u001b[0m\n"
      ]
     },
     "metadata": {},
     "output_type": "display_data"
    },
    {
     "name": "stdout",
     "output_type": "stream",
     "text": [
      "Phase: 22, D max: 0.7232144156941941, Mean Stiffness: 41.928571839315914\n"
     ]
    },
    {
     "data": {
      "text/html": [
       "<pre style=\"white-space:pre;overflow-x:auto;line-height:normal;font-family:Menlo,'DejaVu Sans Mono',consolas,'Courier New',monospace\"><span style=\"color: #808000; text-decoration-color: #808000; font-weight: bold\">Warning:</span><span style=\"color: #808000; text-decoration-color: #808000\"> VTK requires 3D points, but 2D points given. Appending </span><span style=\"color: #808000; text-decoration-color: #808000; font-weight: bold\">0</span><span style=\"color: #808000; text-decoration-color: #808000\"> third component.</span>\n",
       "</pre>\n"
      ],
      "text/plain": [
       "\u001b[1;33mWarning:\u001b[0m\u001b[33m VTK requires 3D points, but 2D points given. Appending \u001b[0m\u001b[1;33m0\u001b[0m\u001b[33m third component.\u001b[0m\n"
      ]
     },
     "metadata": {},
     "output_type": "display_data"
    },
    {
     "name": "stdout",
     "output_type": "stream",
     "text": [
      "Phase: 24, D max: 0.772209908031808, Mean Stiffness: 42.002386706712144\n"
     ]
    },
    {
     "data": {
      "text/html": [
       "<pre style=\"white-space:pre;overflow-x:auto;line-height:normal;font-family:Menlo,'DejaVu Sans Mono',consolas,'Courier New',monospace\"><span style=\"color: #808000; text-decoration-color: #808000; font-weight: bold\">Warning:</span><span style=\"color: #808000; text-decoration-color: #808000\"> VTK requires 3D points, but 2D points given. Appending </span><span style=\"color: #808000; text-decoration-color: #808000; font-weight: bold\">0</span><span style=\"color: #808000; text-decoration-color: #808000\"> third component.</span>\n",
       "</pre>\n"
      ],
      "text/plain": [
       "\u001b[1;33mWarning:\u001b[0m\u001b[33m VTK requires 3D points, but 2D points given. Appending \u001b[0m\u001b[1;33m0\u001b[0m\u001b[33m third component.\u001b[0m\n"
      ]
     },
     "metadata": {},
     "output_type": "display_data"
    },
    {
     "name": "stdout",
     "output_type": "stream",
     "text": [
      "Phase: 26, D max: 0.8235915090011064, Mean Stiffness: 42.07926198752467\n"
     ]
    },
    {
     "data": {
      "text/html": [
       "<pre style=\"white-space:pre;overflow-x:auto;line-height:normal;font-family:Menlo,'DejaVu Sans Mono',consolas,'Courier New',monospace\"><span style=\"color: #808000; text-decoration-color: #808000; font-weight: bold\">Warning:</span><span style=\"color: #808000; text-decoration-color: #808000\"> VTK requires 3D points, but 2D points given. Appending </span><span style=\"color: #808000; text-decoration-color: #808000; font-weight: bold\">0</span><span style=\"color: #808000; text-decoration-color: #808000\"> third component.</span>\n",
       "</pre>\n"
      ],
      "text/plain": [
       "\u001b[1;33mWarning:\u001b[0m\u001b[33m VTK requires 3D points, but 2D points given. Appending \u001b[0m\u001b[1;33m0\u001b[0m\u001b[33m third component.\u001b[0m\n"
      ]
     },
     "metadata": {},
     "output_type": "display_data"
    },
    {
     "name": "stdout",
     "output_type": "stream",
     "text": [
      "Phase: 28, D max: 0.87747443033583, Mean Stiffness: 42.15927469310365\n"
     ]
    },
    {
     "data": {
      "text/html": [
       "<pre style=\"white-space:pre;overflow-x:auto;line-height:normal;font-family:Menlo,'DejaVu Sans Mono',consolas,'Courier New',monospace\"><span style=\"color: #808000; text-decoration-color: #808000; font-weight: bold\">Warning:</span><span style=\"color: #808000; text-decoration-color: #808000\"> VTK requires 3D points, but 2D points given. Appending </span><span style=\"color: #808000; text-decoration-color: #808000; font-weight: bold\">0</span><span style=\"color: #808000; text-decoration-color: #808000\"> third component.</span>\n",
       "</pre>\n"
      ],
      "text/plain": [
       "\u001b[1;33mWarning:\u001b[0m\u001b[33m VTK requires 3D points, but 2D points given. Appending \u001b[0m\u001b[1;33m0\u001b[0m\u001b[33m third component.\u001b[0m\n"
      ]
     },
     "metadata": {},
     "output_type": "display_data"
    },
    {
     "name": "stdout",
     "output_type": "stream",
     "text": [
      "Phase: 30, D max: 0.9339793351484436, Mean Stiffness: 42.24251049361125\n"
     ]
    },
    {
     "data": {
      "text/html": [
       "<pre style=\"white-space:pre;overflow-x:auto;line-height:normal;font-family:Menlo,'DejaVu Sans Mono',consolas,'Courier New',monospace\"><span style=\"color: #808000; text-decoration-color: #808000; font-weight: bold\">Warning:</span><span style=\"color: #808000; text-decoration-color: #808000\"> VTK requires 3D points, but 2D points given. Appending </span><span style=\"color: #808000; text-decoration-color: #808000; font-weight: bold\">0</span><span style=\"color: #808000; text-decoration-color: #808000\"> third component.</span>\n",
       "</pre>\n"
      ],
      "text/plain": [
       "\u001b[1;33mWarning:\u001b[0m\u001b[33m VTK requires 3D points, but 2D points given. Appending \u001b[0m\u001b[1;33m0\u001b[0m\u001b[33m third component.\u001b[0m\n"
      ]
     },
     "metadata": {},
     "output_type": "display_data"
    },
    {
     "name": "stdout",
     "output_type": "stream",
     "text": [
      "Phase: 32, D max: 0.9932321459193745, Mean Stiffness: 42.32904758240756\n"
     ]
    },
    {
     "data": {
      "text/html": [
       "<pre style=\"white-space:pre;overflow-x:auto;line-height:normal;font-family:Menlo,'DejaVu Sans Mono',consolas,'Courier New',monospace\"><span style=\"color: #808000; text-decoration-color: #808000; font-weight: bold\">Warning:</span><span style=\"color: #808000; text-decoration-color: #808000\"> VTK requires 3D points, but 2D points given. Appending </span><span style=\"color: #808000; text-decoration-color: #808000; font-weight: bold\">0</span><span style=\"color: #808000; text-decoration-color: #808000\"> third component.</span>\n",
       "</pre>\n"
      ],
      "text/plain": [
       "\u001b[1;33mWarning:\u001b[0m\u001b[33m VTK requires 3D points, but 2D points given. Appending \u001b[0m\u001b[1;33m0\u001b[0m\u001b[33m third component.\u001b[0m\n"
      ]
     },
     "metadata": {},
     "output_type": "display_data"
    },
    {
     "name": "stdout",
     "output_type": "stream",
     "text": [
      "Phase: 34, D max: 1.0553651630427363, Mean Stiffness: 42.41895318208451\n"
     ]
    },
    {
     "data": {
      "text/html": [
       "<pre style=\"white-space:pre;overflow-x:auto;line-height:normal;font-family:Menlo,'DejaVu Sans Mono',consolas,'Courier New',monospace\"><span style=\"color: #808000; text-decoration-color: #808000; font-weight: bold\">Warning:</span><span style=\"color: #808000; text-decoration-color: #808000\"> VTK requires 3D points, but 2D points given. Appending </span><span style=\"color: #808000; text-decoration-color: #808000; font-weight: bold\">0</span><span style=\"color: #808000; text-decoration-color: #808000\"> third component.</span>\n",
       "</pre>\n"
      ],
      "text/plain": [
       "\u001b[1;33mWarning:\u001b[0m\u001b[33m VTK requires 3D points, but 2D points given. Appending \u001b[0m\u001b[1;33m0\u001b[0m\u001b[33m third component.\u001b[0m\n"
      ]
     },
     "metadata": {},
     "output_type": "display_data"
    },
    {
     "name": "stdout",
     "output_type": "stream",
     "text": [
      "Phase: 36, D max: 1.1205156376452485, Mean Stiffness: 42.51226288318123\n"
     ]
    },
    {
     "data": {
      "text/html": [
       "<pre style=\"white-space:pre;overflow-x:auto;line-height:normal;font-family:Menlo,'DejaVu Sans Mono',consolas,'Courier New',monospace\"><span style=\"color: #808000; text-decoration-color: #808000; font-weight: bold\">Warning:</span><span style=\"color: #808000; text-decoration-color: #808000\"> VTK requires 3D points, but 2D points given. Appending </span><span style=\"color: #808000; text-decoration-color: #808000; font-weight: bold\">0</span><span style=\"color: #808000; text-decoration-color: #808000\"> third component.</span>\n",
       "</pre>\n"
      ],
      "text/plain": [
       "\u001b[1;33mWarning:\u001b[0m\u001b[33m VTK requires 3D points, but 2D points given. Appending \u001b[0m\u001b[1;33m0\u001b[0m\u001b[33m third component.\u001b[0m\n"
      ]
     },
     "metadata": {},
     "output_type": "display_data"
    },
    {
     "name": "stdout",
     "output_type": "stream",
     "text": [
      "Phase: 38, D max: 1.1888285924695172, Mean Stiffness: 42.593523693207345\n"
     ]
    },
    {
     "data": {
      "text/html": [
       "<pre style=\"white-space:pre;overflow-x:auto;line-height:normal;font-family:Menlo,'DejaVu Sans Mono',consolas,'Courier New',monospace\"><span style=\"color: #808000; text-decoration-color: #808000; font-weight: bold\">Warning:</span><span style=\"color: #808000; text-decoration-color: #808000\"> VTK requires 3D points, but 2D points given. Appending </span><span style=\"color: #808000; text-decoration-color: #808000; font-weight: bold\">0</span><span style=\"color: #808000; text-decoration-color: #808000\"> third component.</span>\n",
       "</pre>\n"
      ],
      "text/plain": [
       "\u001b[1;33mWarning:\u001b[0m\u001b[33m VTK requires 3D points, but 2D points given. Appending \u001b[0m\u001b[1;33m0\u001b[0m\u001b[33m third component.\u001b[0m\n"
      ]
     },
     "metadata": {},
     "output_type": "display_data"
    },
    {
     "name": "stdout",
     "output_type": "stream",
     "text": [
      "Phase: 40, D max: 1.2781523536972024, Mean Stiffness: 42.30295278427798\n"
     ]
    },
    {
     "data": {
      "text/html": [
       "<pre style=\"white-space:pre;overflow-x:auto;line-height:normal;font-family:Menlo,'DejaVu Sans Mono',consolas,'Courier New',monospace\"><span style=\"color: #808000; text-decoration-color: #808000; font-weight: bold\">Warning:</span><span style=\"color: #808000; text-decoration-color: #808000\"> VTK requires 3D points, but 2D points given. Appending </span><span style=\"color: #808000; text-decoration-color: #808000; font-weight: bold\">0</span><span style=\"color: #808000; text-decoration-color: #808000\"> third component.</span>\n",
       "</pre>\n"
      ],
      "text/plain": [
       "\u001b[1;33mWarning:\u001b[0m\u001b[33m VTK requires 3D points, but 2D points given. Appending \u001b[0m\u001b[1;33m0\u001b[0m\u001b[33m third component.\u001b[0m\n"
      ]
     },
     "metadata": {},
     "output_type": "display_data"
    },
    {
     "name": "stdout",
     "output_type": "stream",
     "text": [
      "Phase: 42, D max: 1.3923373636718543, Mean Stiffness: 42.49411846689246\n"
     ]
    },
    {
     "data": {
      "text/html": [
       "<pre style=\"white-space:pre;overflow-x:auto;line-height:normal;font-family:Menlo,'DejaVu Sans Mono',consolas,'Courier New',monospace\"><span style=\"color: #808000; text-decoration-color: #808000; font-weight: bold\">Warning:</span><span style=\"color: #808000; text-decoration-color: #808000\"> VTK requires 3D points, but 2D points given. Appending </span><span style=\"color: #808000; text-decoration-color: #808000; font-weight: bold\">0</span><span style=\"color: #808000; text-decoration-color: #808000\"> third component.</span>\n",
       "</pre>\n"
      ],
      "text/plain": [
       "\u001b[1;33mWarning:\u001b[0m\u001b[33m VTK requires 3D points, but 2D points given. Appending \u001b[0m\u001b[1;33m0\u001b[0m\u001b[33m third component.\u001b[0m\n"
      ]
     },
     "metadata": {},
     "output_type": "display_data"
    },
    {
     "name": "stdout",
     "output_type": "stream",
     "text": [
      "Phase: 44, D max: 1.5154851718164357, Mean Stiffness: 42.699366598755304\n"
     ]
    },
    {
     "data": {
      "text/html": [
       "<pre style=\"white-space:pre;overflow-x:auto;line-height:normal;font-family:Menlo,'DejaVu Sans Mono',consolas,'Courier New',monospace\"><span style=\"color: #808000; text-decoration-color: #808000; font-weight: bold\">Warning:</span><span style=\"color: #808000; text-decoration-color: #808000\"> VTK requires 3D points, but 2D points given. Appending </span><span style=\"color: #808000; text-decoration-color: #808000; font-weight: bold\">0</span><span style=\"color: #808000; text-decoration-color: #808000\"> third component.</span>\n",
       "</pre>\n"
      ],
      "text/plain": [
       "\u001b[1;33mWarning:\u001b[0m\u001b[33m VTK requires 3D points, but 2D points given. Appending \u001b[0m\u001b[1;33m0\u001b[0m\u001b[33m third component.\u001b[0m\n"
      ]
     },
     "metadata": {},
     "output_type": "display_data"
    },
    {
     "name": "stdout",
     "output_type": "stream",
     "text": [
      "Phase: 46, D max: 1.6482995675476217, Mean Stiffness: 42.91954775918192\n"
     ]
    },
    {
     "data": {
      "text/html": [
       "<pre style=\"white-space:pre;overflow-x:auto;line-height:normal;font-family:Menlo,'DejaVu Sans Mono',consolas,'Courier New',monospace\"><span style=\"color: #808000; text-decoration-color: #808000; font-weight: bold\">Warning:</span><span style=\"color: #808000; text-decoration-color: #808000\"> VTK requires 3D points, but 2D points given. Appending </span><span style=\"color: #808000; text-decoration-color: #808000; font-weight: bold\">0</span><span style=\"color: #808000; text-decoration-color: #808000\"> third component.</span>\n",
       "</pre>\n"
      ],
      "text/plain": [
       "\u001b[1;33mWarning:\u001b[0m\u001b[33m VTK requires 3D points, but 2D points given. Appending \u001b[0m\u001b[1;33m0\u001b[0m\u001b[33m third component.\u001b[0m\n"
      ]
     },
     "metadata": {},
     "output_type": "display_data"
    },
    {
     "name": "stdout",
     "output_type": "stream",
     "text": [
      "Phase: 48, D max: 1.7915396349729333, Mean Stiffness: 43.155559817048086\n"
     ]
    },
    {
     "data": {
      "text/html": [
       "<pre style=\"white-space:pre;overflow-x:auto;line-height:normal;font-family:Menlo,'DejaVu Sans Mono',consolas,'Courier New',monospace\"><span style=\"color: #808000; text-decoration-color: #808000; font-weight: bold\">Warning:</span><span style=\"color: #808000; text-decoration-color: #808000\"> VTK requires 3D points, but 2D points given. Appending </span><span style=\"color: #808000; text-decoration-color: #808000; font-weight: bold\">0</span><span style=\"color: #808000; text-decoration-color: #808000\"> third component.</span>\n",
       "</pre>\n"
      ],
      "text/plain": [
       "\u001b[1;33mWarning:\u001b[0m\u001b[33m VTK requires 3D points, but 2D points given. Appending \u001b[0m\u001b[1;33m0\u001b[0m\u001b[33m third component.\u001b[0m\n"
      ]
     },
     "metadata": {},
     "output_type": "display_data"
    },
    {
     "name": "stdout",
     "output_type": "stream",
     "text": [
      "Phase: 50, D max: 1.9460240993667635, Mean Stiffness: 43.40834848844385\n"
     ]
    },
    {
     "data": {
      "text/html": [
       "<pre style=\"white-space:pre;overflow-x:auto;line-height:normal;font-family:Menlo,'DejaVu Sans Mono',consolas,'Courier New',monospace\"><span style=\"color: #808000; text-decoration-color: #808000; font-weight: bold\">Warning:</span><span style=\"color: #808000; text-decoration-color: #808000\"> VTK requires 3D points, but 2D points given. Appending </span><span style=\"color: #808000; text-decoration-color: #808000; font-weight: bold\">0</span><span style=\"color: #808000; text-decoration-color: #808000\"> third component.</span>\n",
       "</pre>\n"
      ],
      "text/plain": [
       "\u001b[1;33mWarning:\u001b[0m\u001b[33m VTK requires 3D points, but 2D points given. Appending \u001b[0m\u001b[1;33m0\u001b[0m\u001b[33m third component.\u001b[0m\n"
      ]
     },
     "metadata": {},
     "output_type": "display_data"
    },
    {
     "name": "stdout",
     "output_type": "stream",
     "text": [
      "Phase: 52, D max: 2.112636015167975, Mean Stiffness: 43.67890742263909\n"
     ]
    },
    {
     "data": {
      "text/html": [
       "<pre style=\"white-space:pre;overflow-x:auto;line-height:normal;font-family:Menlo,'DejaVu Sans Mono',consolas,'Courier New',monospace\"><span style=\"color: #808000; text-decoration-color: #808000; font-weight: bold\">Warning:</span><span style=\"color: #808000; text-decoration-color: #808000\"> VTK requires 3D points, but 2D points given. Appending </span><span style=\"color: #808000; text-decoration-color: #808000; font-weight: bold\">0</span><span style=\"color: #808000; text-decoration-color: #808000\"> third component.</span>\n",
       "</pre>\n"
      ],
      "text/plain": [
       "\u001b[1;33mWarning:\u001b[0m\u001b[33m VTK requires 3D points, but 2D points given. Appending \u001b[0m\u001b[1;33m0\u001b[0m\u001b[33m third component.\u001b[0m\n"
      ]
     },
     "metadata": {},
     "output_type": "display_data"
    },
    {
     "name": "stdout",
     "output_type": "stream",
     "text": [
      "Phase: 54, D max: 2.2923278222595114, Mean Stiffness: 43.968277695061985\n"
     ]
    },
    {
     "data": {
      "text/html": [
       "<pre style=\"white-space:pre;overflow-x:auto;line-height:normal;font-family:Menlo,'DejaVu Sans Mono',consolas,'Courier New',monospace\"><span style=\"color: #808000; text-decoration-color: #808000; font-weight: bold\">Warning:</span><span style=\"color: #808000; text-decoration-color: #808000\"> VTK requires 3D points, but 2D points given. Appending </span><span style=\"color: #808000; text-decoration-color: #808000; font-weight: bold\">0</span><span style=\"color: #808000; text-decoration-color: #808000\"> third component.</span>\n",
       "</pre>\n"
      ],
      "text/plain": [
       "\u001b[1;33mWarning:\u001b[0m\u001b[33m VTK requires 3D points, but 2D points given. Appending \u001b[0m\u001b[1;33m0\u001b[0m\u001b[33m third component.\u001b[0m\n"
      ]
     },
     "metadata": {},
     "output_type": "display_data"
    },
    {
     "name": "stdout",
     "output_type": "stream",
     "text": [
      "Phase: 56, D max: 2.4861267993768426, Mean Stiffness: 44.277546562765686\n"
     ]
    },
    {
     "data": {
      "text/html": [
       "<pre style=\"white-space:pre;overflow-x:auto;line-height:normal;font-family:Menlo,'DejaVu Sans Mono',consolas,'Courier New',monospace\"><span style=\"color: #808000; text-decoration-color: #808000; font-weight: bold\">Warning:</span><span style=\"color: #808000; text-decoration-color: #808000\"> VTK requires 3D points, but 2D points given. Appending </span><span style=\"color: #808000; text-decoration-color: #808000; font-weight: bold\">0</span><span style=\"color: #808000; text-decoration-color: #808000\"> third component.</span>\n",
       "</pre>\n"
      ],
      "text/plain": [
       "\u001b[1;33mWarning:\u001b[0m\u001b[33m VTK requires 3D points, but 2D points given. Appending \u001b[0m\u001b[1;33m0\u001b[0m\u001b[33m third component.\u001b[0m\n"
      ]
     },
     "metadata": {},
     "output_type": "display_data"
    },
    {
     "name": "stdout",
     "output_type": "stream",
     "text": [
      "Phase: 58, D max: 2.6951409457417763, Mean Stiffness: 44.60784531058244\n"
     ]
    },
    {
     "data": {
      "text/html": [
       "<pre style=\"white-space:pre;overflow-x:auto;line-height:normal;font-family:Menlo,'DejaVu Sans Mono',consolas,'Courier New',monospace\"><span style=\"color: #808000; text-decoration-color: #808000; font-weight: bold\">Warning:</span><span style=\"color: #808000; text-decoration-color: #808000\"> VTK requires 3D points, but 2D points given. Appending </span><span style=\"color: #808000; text-decoration-color: #808000; font-weight: bold\">0</span><span style=\"color: #808000; text-decoration-color: #808000\"> third component.</span>\n",
       "</pre>\n"
      ],
      "text/plain": [
       "\u001b[1;33mWarning:\u001b[0m\u001b[33m VTK requires 3D points, but 2D points given. Appending \u001b[0m\u001b[1;33m0\u001b[0m\u001b[33m third component.\u001b[0m\n"
      ]
     },
     "metadata": {},
     "output_type": "display_data"
    },
    {
     "name": "stdout",
     "output_type": "stream",
     "text": [
      "Phase: 60, D max: 2.920565324444514, Mean Stiffness: 44.96034598415493\n"
     ]
    },
    {
     "data": {
      "text/html": [
       "<pre style=\"white-space:pre;overflow-x:auto;line-height:normal;font-family:Menlo,'DejaVu Sans Mono',consolas,'Courier New',monospace\"><span style=\"color: #808000; text-decoration-color: #808000; font-weight: bold\">Warning:</span><span style=\"color: #808000; text-decoration-color: #808000\"> VTK requires 3D points, but 2D points given. Appending </span><span style=\"color: #808000; text-decoration-color: #808000; font-weight: bold\">0</span><span style=\"color: #808000; text-decoration-color: #808000\"> third component.</span>\n",
       "</pre>\n"
      ],
      "text/plain": [
       "\u001b[1;33mWarning:\u001b[0m\u001b[33m VTK requires 3D points, but 2D points given. Appending \u001b[0m\u001b[1;33m0\u001b[0m\u001b[33m third component.\u001b[0m\n"
      ]
     },
     "metadata": {},
     "output_type": "display_data"
    },
    {
     "name": "stdout",
     "output_type": "stream",
     "text": [
      "Phase: 62, D max: 3.0, Mean Stiffness: 45.336254290505316\n"
     ]
    },
    {
     "data": {
      "text/html": [
       "<pre style=\"white-space:pre;overflow-x:auto;line-height:normal;font-family:Menlo,'DejaVu Sans Mono',consolas,'Courier New',monospace\"><span style=\"color: #808000; text-decoration-color: #808000; font-weight: bold\">Warning:</span><span style=\"color: #808000; text-decoration-color: #808000\"> VTK requires 3D points, but 2D points given. Appending </span><span style=\"color: #808000; text-decoration-color: #808000; font-weight: bold\">0</span><span style=\"color: #808000; text-decoration-color: #808000\"> third component.</span>\n",
       "</pre>\n"
      ],
      "text/plain": [
       "\u001b[1;33mWarning:\u001b[0m\u001b[33m VTK requires 3D points, but 2D points given. Appending \u001b[0m\u001b[1;33m0\u001b[0m\u001b[33m third component.\u001b[0m\n"
      ]
     },
     "metadata": {},
     "output_type": "display_data"
    },
    {
     "name": "stdout",
     "output_type": "stream",
     "text": [
      "Phase: 64, D max: 3.0, Mean Stiffness: 45.73650593145692\n"
     ]
    },
    {
     "data": {
      "text/html": [
       "<pre style=\"white-space:pre;overflow-x:auto;line-height:normal;font-family:Menlo,'DejaVu Sans Mono',consolas,'Courier New',monospace\"><span style=\"color: #808000; text-decoration-color: #808000; font-weight: bold\">Warning:</span><span style=\"color: #808000; text-decoration-color: #808000\"> VTK requires 3D points, but 2D points given. Appending </span><span style=\"color: #808000; text-decoration-color: #808000; font-weight: bold\">0</span><span style=\"color: #808000; text-decoration-color: #808000\"> third component.</span>\n",
       "</pre>\n"
      ],
      "text/plain": [
       "\u001b[1;33mWarning:\u001b[0m\u001b[33m VTK requires 3D points, but 2D points given. Appending \u001b[0m\u001b[1;33m0\u001b[0m\u001b[33m third component.\u001b[0m\n"
      ]
     },
     "metadata": {},
     "output_type": "display_data"
    },
    {
     "name": "stdout",
     "output_type": "stream",
     "text": [
      "Phase: 66, D max: 3.0, Mean Stiffness: 46.16093486314837\n"
     ]
    },
    {
     "data": {
      "text/html": [
       "<pre style=\"white-space:pre;overflow-x:auto;line-height:normal;font-family:Menlo,'DejaVu Sans Mono',consolas,'Courier New',monospace\"><span style=\"color: #808000; text-decoration-color: #808000; font-weight: bold\">Warning:</span><span style=\"color: #808000; text-decoration-color: #808000\"> VTK requires 3D points, but 2D points given. Appending </span><span style=\"color: #808000; text-decoration-color: #808000; font-weight: bold\">0</span><span style=\"color: #808000; text-decoration-color: #808000\"> third component.</span>\n",
       "</pre>\n"
      ],
      "text/plain": [
       "\u001b[1;33mWarning:\u001b[0m\u001b[33m VTK requires 3D points, but 2D points given. Appending \u001b[0m\u001b[1;33m0\u001b[0m\u001b[33m third component.\u001b[0m\n"
      ]
     },
     "metadata": {},
     "output_type": "display_data"
    },
    {
     "name": "stdout",
     "output_type": "stream",
     "text": [
      "Phase: 68, D max: 3.0, Mean Stiffness: 46.60763982644179\n"
     ]
    },
    {
     "data": {
      "text/html": [
       "<pre style=\"white-space:pre;overflow-x:auto;line-height:normal;font-family:Menlo,'DejaVu Sans Mono',consolas,'Courier New',monospace\"><span style=\"color: #808000; text-decoration-color: #808000; font-weight: bold\">Warning:</span><span style=\"color: #808000; text-decoration-color: #808000\"> VTK requires 3D points, but 2D points given. Appending </span><span style=\"color: #808000; text-decoration-color: #808000; font-weight: bold\">0</span><span style=\"color: #808000; text-decoration-color: #808000\"> third component.</span>\n",
       "</pre>\n"
      ],
      "text/plain": [
       "\u001b[1;33mWarning:\u001b[0m\u001b[33m VTK requires 3D points, but 2D points given. Appending \u001b[0m\u001b[1;33m0\u001b[0m\u001b[33m third component.\u001b[0m\n"
      ]
     },
     "metadata": {},
     "output_type": "display_data"
    },
    {
     "name": "stdout",
     "output_type": "stream",
     "text": [
      "Phase: 70, D max: 3.0, Mean Stiffness: 47.07354521535293\n"
     ]
    },
    {
     "data": {
      "text/html": [
       "<pre style=\"white-space:pre;overflow-x:auto;line-height:normal;font-family:Menlo,'DejaVu Sans Mono',consolas,'Courier New',monospace\"><span style=\"color: #808000; text-decoration-color: #808000; font-weight: bold\">Warning:</span><span style=\"color: #808000; text-decoration-color: #808000\"> VTK requires 3D points, but 2D points given. Appending </span><span style=\"color: #808000; text-decoration-color: #808000; font-weight: bold\">0</span><span style=\"color: #808000; text-decoration-color: #808000\"> third component.</span>\n",
       "</pre>\n"
      ],
      "text/plain": [
       "\u001b[1;33mWarning:\u001b[0m\u001b[33m VTK requires 3D points, but 2D points given. Appending \u001b[0m\u001b[1;33m0\u001b[0m\u001b[33m third component.\u001b[0m\n"
      ]
     },
     "metadata": {},
     "output_type": "display_data"
    },
    {
     "name": "stdout",
     "output_type": "stream",
     "text": [
      "Phase: 72, D max: 3.0, Mean Stiffness: 47.55630741803968\n"
     ]
    },
    {
     "data": {
      "text/html": [
       "<pre style=\"white-space:pre;overflow-x:auto;line-height:normal;font-family:Menlo,'DejaVu Sans Mono',consolas,'Courier New',monospace\"><span style=\"color: #808000; text-decoration-color: #808000; font-weight: bold\">Warning:</span><span style=\"color: #808000; text-decoration-color: #808000\"> VTK requires 3D points, but 2D points given. Appending </span><span style=\"color: #808000; text-decoration-color: #808000; font-weight: bold\">0</span><span style=\"color: #808000; text-decoration-color: #808000\"> third component.</span>\n",
       "</pre>\n"
      ],
      "text/plain": [
       "\u001b[1;33mWarning:\u001b[0m\u001b[33m VTK requires 3D points, but 2D points given. Appending \u001b[0m\u001b[1;33m0\u001b[0m\u001b[33m third component.\u001b[0m\n"
      ]
     },
     "metadata": {},
     "output_type": "display_data"
    },
    {
     "name": "stdout",
     "output_type": "stream",
     "text": [
      "Phase: 74, D max: 3.0, Mean Stiffness: 48.05395796305591\n"
     ]
    },
    {
     "data": {
      "text/html": [
       "<pre style=\"white-space:pre;overflow-x:auto;line-height:normal;font-family:Menlo,'DejaVu Sans Mono',consolas,'Courier New',monospace\"><span style=\"color: #808000; text-decoration-color: #808000; font-weight: bold\">Warning:</span><span style=\"color: #808000; text-decoration-color: #808000\"> VTK requires 3D points, but 2D points given. Appending </span><span style=\"color: #808000; text-decoration-color: #808000; font-weight: bold\">0</span><span style=\"color: #808000; text-decoration-color: #808000\"> third component.</span>\n",
       "</pre>\n"
      ],
      "text/plain": [
       "\u001b[1;33mWarning:\u001b[0m\u001b[33m VTK requires 3D points, but 2D points given. Appending \u001b[0m\u001b[1;33m0\u001b[0m\u001b[33m third component.\u001b[0m\n"
      ]
     },
     "metadata": {},
     "output_type": "display_data"
    },
    {
     "name": "stdout",
     "output_type": "stream",
     "text": [
      "Phase: 76, D max: 3.0, Mean Stiffness: 48.56400839412185\n"
     ]
    },
    {
     "data": {
      "text/html": [
       "<pre style=\"white-space:pre;overflow-x:auto;line-height:normal;font-family:Menlo,'DejaVu Sans Mono',consolas,'Courier New',monospace\"><span style=\"color: #808000; text-decoration-color: #808000; font-weight: bold\">Warning:</span><span style=\"color: #808000; text-decoration-color: #808000\"> VTK requires 3D points, but 2D points given. Appending </span><span style=\"color: #808000; text-decoration-color: #808000; font-weight: bold\">0</span><span style=\"color: #808000; text-decoration-color: #808000\"> third component.</span>\n",
       "</pre>\n"
      ],
      "text/plain": [
       "\u001b[1;33mWarning:\u001b[0m\u001b[33m VTK requires 3D points, but 2D points given. Appending \u001b[0m\u001b[1;33m0\u001b[0m\u001b[33m third component.\u001b[0m\n"
      ]
     },
     "metadata": {},
     "output_type": "display_data"
    },
    {
     "name": "stdout",
     "output_type": "stream",
     "text": [
      "Phase: 78, D max: 3.0, Mean Stiffness: 49.08195128880165\n"
     ]
    },
    {
     "data": {
      "text/html": [
       "<pre style=\"white-space:pre;overflow-x:auto;line-height:normal;font-family:Menlo,'DejaVu Sans Mono',consolas,'Courier New',monospace\"><span style=\"color: #808000; text-decoration-color: #808000; font-weight: bold\">Warning:</span><span style=\"color: #808000; text-decoration-color: #808000\"> VTK requires 3D points, but 2D points given. Appending </span><span style=\"color: #808000; text-decoration-color: #808000; font-weight: bold\">0</span><span style=\"color: #808000; text-decoration-color: #808000\"> third component.</span>\n",
       "</pre>\n"
      ],
      "text/plain": [
       "\u001b[1;33mWarning:\u001b[0m\u001b[33m VTK requires 3D points, but 2D points given. Appending \u001b[0m\u001b[1;33m0\u001b[0m\u001b[33m third component.\u001b[0m\n"
      ]
     },
     "metadata": {},
     "output_type": "display_data"
    },
    {
     "name": "stdout",
     "output_type": "stream",
     "text": [
      "Phase: 80, D max: 3.0, Mean Stiffness: 49.59955107508615\n"
     ]
    },
    {
     "data": {
      "text/html": [
       "<pre style=\"white-space:pre;overflow-x:auto;line-height:normal;font-family:Menlo,'DejaVu Sans Mono',consolas,'Courier New',monospace\"><span style=\"color: #808000; text-decoration-color: #808000; font-weight: bold\">Warning:</span><span style=\"color: #808000; text-decoration-color: #808000\"> VTK requires 3D points, but 2D points given. Appending </span><span style=\"color: #808000; text-decoration-color: #808000; font-weight: bold\">0</span><span style=\"color: #808000; text-decoration-color: #808000\"> third component.</span>\n",
       "</pre>\n"
      ],
      "text/plain": [
       "\u001b[1;33mWarning:\u001b[0m\u001b[33m VTK requires 3D points, but 2D points given. Appending \u001b[0m\u001b[1;33m0\u001b[0m\u001b[33m third component.\u001b[0m\n"
      ]
     },
     "metadata": {},
     "output_type": "display_data"
    },
    {
     "name": "stdout",
     "output_type": "stream",
     "text": [
      "Phase: 82, D max: 3.0, Mean Stiffness: 50.11340591505002\n"
     ]
    },
    {
     "data": {
      "text/html": [
       "<pre style=\"white-space:pre;overflow-x:auto;line-height:normal;font-family:Menlo,'DejaVu Sans Mono',consolas,'Courier New',monospace\"><span style=\"color: #808000; text-decoration-color: #808000; font-weight: bold\">Warning:</span><span style=\"color: #808000; text-decoration-color: #808000\"> VTK requires 3D points, but 2D points given. Appending </span><span style=\"color: #808000; text-decoration-color: #808000; font-weight: bold\">0</span><span style=\"color: #808000; text-decoration-color: #808000\"> third component.</span>\n",
       "</pre>\n"
      ],
      "text/plain": [
       "\u001b[1;33mWarning:\u001b[0m\u001b[33m VTK requires 3D points, but 2D points given. Appending \u001b[0m\u001b[1;33m0\u001b[0m\u001b[33m third component.\u001b[0m\n"
      ]
     },
     "metadata": {},
     "output_type": "display_data"
    },
    {
     "name": "stdout",
     "output_type": "stream",
     "text": [
      "Phase: 84, D max: 3.0, Mean Stiffness: 50.62358329164828\n"
     ]
    },
    {
     "data": {
      "text/html": [
       "<pre style=\"white-space:pre;overflow-x:auto;line-height:normal;font-family:Menlo,'DejaVu Sans Mono',consolas,'Courier New',monospace\"><span style=\"color: #808000; text-decoration-color: #808000; font-weight: bold\">Warning:</span><span style=\"color: #808000; text-decoration-color: #808000\"> VTK requires 3D points, but 2D points given. Appending </span><span style=\"color: #808000; text-decoration-color: #808000; font-weight: bold\">0</span><span style=\"color: #808000; text-decoration-color: #808000\"> third component.</span>\n",
       "</pre>\n"
      ],
      "text/plain": [
       "\u001b[1;33mWarning:\u001b[0m\u001b[33m VTK requires 3D points, but 2D points given. Appending \u001b[0m\u001b[1;33m0\u001b[0m\u001b[33m third component.\u001b[0m\n"
      ]
     },
     "metadata": {},
     "output_type": "display_data"
    },
    {
     "name": "stdout",
     "output_type": "stream",
     "text": [
      "Phase: 86, D max: 3.0, Mean Stiffness: 51.13022746156669\n"
     ]
    },
    {
     "data": {
      "text/html": [
       "<pre style=\"white-space:pre;overflow-x:auto;line-height:normal;font-family:Menlo,'DejaVu Sans Mono',consolas,'Courier New',monospace\"><span style=\"color: #808000; text-decoration-color: #808000; font-weight: bold\">Warning:</span><span style=\"color: #808000; text-decoration-color: #808000\"> VTK requires 3D points, but 2D points given. Appending </span><span style=\"color: #808000; text-decoration-color: #808000; font-weight: bold\">0</span><span style=\"color: #808000; text-decoration-color: #808000\"> third component.</span>\n",
       "</pre>\n"
      ],
      "text/plain": [
       "\u001b[1;33mWarning:\u001b[0m\u001b[33m VTK requires 3D points, but 2D points given. Appending \u001b[0m\u001b[1;33m0\u001b[0m\u001b[33m third component.\u001b[0m\n"
      ]
     },
     "metadata": {},
     "output_type": "display_data"
    },
    {
     "name": "stdout",
     "output_type": "stream",
     "text": [
      "Phase: 88, D max: 3.0, Mean Stiffness: 51.633501575856975\n"
     ]
    },
    {
     "data": {
      "text/html": [
       "<pre style=\"white-space:pre;overflow-x:auto;line-height:normal;font-family:Menlo,'DejaVu Sans Mono',consolas,'Courier New',monospace\"><span style=\"color: #808000; text-decoration-color: #808000; font-weight: bold\">Warning:</span><span style=\"color: #808000; text-decoration-color: #808000\"> VTK requires 3D points, but 2D points given. Appending </span><span style=\"color: #808000; text-decoration-color: #808000; font-weight: bold\">0</span><span style=\"color: #808000; text-decoration-color: #808000\"> third component.</span>\n",
       "</pre>\n"
      ],
      "text/plain": [
       "\u001b[1;33mWarning:\u001b[0m\u001b[33m VTK requires 3D points, but 2D points given. Appending \u001b[0m\u001b[1;33m0\u001b[0m\u001b[33m third component.\u001b[0m\n"
      ]
     },
     "metadata": {},
     "output_type": "display_data"
    },
    {
     "name": "stdout",
     "output_type": "stream",
     "text": [
      "Phase: 90, D max: 3.0, Mean Stiffness: 52.133575231066864\n"
     ]
    },
    {
     "data": {
      "text/html": [
       "<pre style=\"white-space:pre;overflow-x:auto;line-height:normal;font-family:Menlo,'DejaVu Sans Mono',consolas,'Courier New',monospace\"><span style=\"color: #808000; text-decoration-color: #808000; font-weight: bold\">Warning:</span><span style=\"color: #808000; text-decoration-color: #808000\"> VTK requires 3D points, but 2D points given. Appending </span><span style=\"color: #808000; text-decoration-color: #808000; font-weight: bold\">0</span><span style=\"color: #808000; text-decoration-color: #808000\"> third component.</span>\n",
       "</pre>\n"
      ],
      "text/plain": [
       "\u001b[1;33mWarning:\u001b[0m\u001b[33m VTK requires 3D points, but 2D points given. Appending \u001b[0m\u001b[1;33m0\u001b[0m\u001b[33m third component.\u001b[0m\n"
      ]
     },
     "metadata": {},
     "output_type": "display_data"
    },
    {
     "name": "stdout",
     "output_type": "stream",
     "text": [
      "Phase: 92, D max: 3.0, Mean Stiffness: 52.63060139690259\n"
     ]
    },
    {
     "data": {
      "text/html": [
       "<pre style=\"white-space:pre;overflow-x:auto;line-height:normal;font-family:Menlo,'DejaVu Sans Mono',consolas,'Courier New',monospace\"><span style=\"color: #808000; text-decoration-color: #808000; font-weight: bold\">Warning:</span><span style=\"color: #808000; text-decoration-color: #808000\"> VTK requires 3D points, but 2D points given. Appending </span><span style=\"color: #808000; text-decoration-color: #808000; font-weight: bold\">0</span><span style=\"color: #808000; text-decoration-color: #808000\"> third component.</span>\n",
       "</pre>\n"
      ],
      "text/plain": [
       "\u001b[1;33mWarning:\u001b[0m\u001b[33m VTK requires 3D points, but 2D points given. Appending \u001b[0m\u001b[1;33m0\u001b[0m\u001b[33m third component.\u001b[0m\n"
      ]
     },
     "metadata": {},
     "output_type": "display_data"
    },
    {
     "name": "stdout",
     "output_type": "stream",
     "text": [
      "Phase: 94, D max: 3.0, Mean Stiffness: 53.12475953266063\n"
     ]
    },
    {
     "data": {
      "text/html": [
       "<pre style=\"white-space:pre;overflow-x:auto;line-height:normal;font-family:Menlo,'DejaVu Sans Mono',consolas,'Courier New',monospace\"><span style=\"color: #808000; text-decoration-color: #808000; font-weight: bold\">Warning:</span><span style=\"color: #808000; text-decoration-color: #808000\"> VTK requires 3D points, but 2D points given. Appending </span><span style=\"color: #808000; text-decoration-color: #808000; font-weight: bold\">0</span><span style=\"color: #808000; text-decoration-color: #808000\"> third component.</span>\n",
       "</pre>\n"
      ],
      "text/plain": [
       "\u001b[1;33mWarning:\u001b[0m\u001b[33m VTK requires 3D points, but 2D points given. Appending \u001b[0m\u001b[1;33m0\u001b[0m\u001b[33m third component.\u001b[0m\n"
      ]
     },
     "metadata": {},
     "output_type": "display_data"
    },
    {
     "name": "stdout",
     "output_type": "stream",
     "text": [
      "Phase: 96, D max: 3.0, Mean Stiffness: 53.61622539798104\n"
     ]
    },
    {
     "data": {
      "text/html": [
       "<pre style=\"white-space:pre;overflow-x:auto;line-height:normal;font-family:Menlo,'DejaVu Sans Mono',consolas,'Courier New',monospace\"><span style=\"color: #808000; text-decoration-color: #808000; font-weight: bold\">Warning:</span><span style=\"color: #808000; text-decoration-color: #808000\"> VTK requires 3D points, but 2D points given. Appending </span><span style=\"color: #808000; text-decoration-color: #808000; font-weight: bold\">0</span><span style=\"color: #808000; text-decoration-color: #808000\"> third component.</span>\n",
       "</pre>\n"
      ],
      "text/plain": [
       "\u001b[1;33mWarning:\u001b[0m\u001b[33m VTK requires 3D points, but 2D points given. Appending \u001b[0m\u001b[1;33m0\u001b[0m\u001b[33m third component.\u001b[0m\n"
      ]
     },
     "metadata": {},
     "output_type": "display_data"
    },
    {
     "name": "stdout",
     "output_type": "stream",
     "text": [
      "Phase: 98, D max: 3.0, Mean Stiffness: 54.10521461360239\n"
     ]
    },
    {
     "data": {
      "text/html": [
       "<pre style=\"white-space:pre;overflow-x:auto;line-height:normal;font-family:Menlo,'DejaVu Sans Mono',consolas,'Courier New',monospace\"><span style=\"color: #808000; text-decoration-color: #808000; font-weight: bold\">Warning:</span><span style=\"color: #808000; text-decoration-color: #808000\"> VTK requires 3D points, but 2D points given. Appending </span><span style=\"color: #808000; text-decoration-color: #808000; font-weight: bold\">0</span><span style=\"color: #808000; text-decoration-color: #808000\"> third component.</span>\n",
       "</pre>\n"
      ],
      "text/plain": [
       "\u001b[1;33mWarning:\u001b[0m\u001b[33m VTK requires 3D points, but 2D points given. Appending \u001b[0m\u001b[1;33m0\u001b[0m\u001b[33m third component.\u001b[0m\n"
      ]
     },
     "metadata": {},
     "output_type": "display_data"
    },
    {
     "name": "stdout",
     "output_type": "stream",
     "text": [
      "Phase: 100, D max: 3.0, Mean Stiffness: 54.59206357385503\n"
     ]
    },
    {
     "data": {
      "text/html": [
       "<pre style=\"white-space:pre;overflow-x:auto;line-height:normal;font-family:Menlo,'DejaVu Sans Mono',consolas,'Courier New',monospace\"><span style=\"color: #808000; text-decoration-color: #808000; font-weight: bold\">Warning:</span><span style=\"color: #808000; text-decoration-color: #808000\"> VTK requires 3D points, but 2D points given. Appending </span><span style=\"color: #808000; text-decoration-color: #808000; font-weight: bold\">0</span><span style=\"color: #808000; text-decoration-color: #808000\"> third component.</span>\n",
       "</pre>\n"
      ],
      "text/plain": [
       "\u001b[1;33mWarning:\u001b[0m\u001b[33m VTK requires 3D points, but 2D points given. Appending \u001b[0m\u001b[1;33m0\u001b[0m\u001b[33m third component.\u001b[0m\n"
      ]
     },
     "metadata": {},
     "output_type": "display_data"
    },
    {
     "name": "stdout",
     "output_type": "stream",
     "text": [
      "Phase: 102, D max: 3.0, Mean Stiffness: 55.07720789301931\n"
     ]
    },
    {
     "data": {
      "text/html": [
       "<pre style=\"white-space:pre;overflow-x:auto;line-height:normal;font-family:Menlo,'DejaVu Sans Mono',consolas,'Courier New',monospace\"><span style=\"color: #808000; text-decoration-color: #808000; font-weight: bold\">Warning:</span><span style=\"color: #808000; text-decoration-color: #808000\"> VTK requires 3D points, but 2D points given. Appending </span><span style=\"color: #808000; text-decoration-color: #808000; font-weight: bold\">0</span><span style=\"color: #808000; text-decoration-color: #808000\"> third component.</span>\n",
       "</pre>\n"
      ],
      "text/plain": [
       "\u001b[1;33mWarning:\u001b[0m\u001b[33m VTK requires 3D points, but 2D points given. Appending \u001b[0m\u001b[1;33m0\u001b[0m\u001b[33m third component.\u001b[0m\n"
      ]
     },
     "metadata": {},
     "output_type": "display_data"
    },
    {
     "name": "stdout",
     "output_type": "stream",
     "text": [
      "Phase: 104, D max: 3.0, Mean Stiffness: 55.561098644459385\n"
     ]
    },
    {
     "data": {
      "text/html": [
       "<pre style=\"white-space:pre;overflow-x:auto;line-height:normal;font-family:Menlo,'DejaVu Sans Mono',consolas,'Courier New',monospace\"><span style=\"color: #808000; text-decoration-color: #808000; font-weight: bold\">Warning:</span><span style=\"color: #808000; text-decoration-color: #808000\"> VTK requires 3D points, but 2D points given. Appending </span><span style=\"color: #808000; text-decoration-color: #808000; font-weight: bold\">0</span><span style=\"color: #808000; text-decoration-color: #808000\"> third component.</span>\n",
       "</pre>\n"
      ],
      "text/plain": [
       "\u001b[1;33mWarning:\u001b[0m\u001b[33m VTK requires 3D points, but 2D points given. Appending \u001b[0m\u001b[1;33m0\u001b[0m\u001b[33m third component.\u001b[0m\n"
      ]
     },
     "metadata": {},
     "output_type": "display_data"
    },
    {
     "name": "stdout",
     "output_type": "stream",
     "text": [
      "Phase: 106, D max: 3.0, Mean Stiffness: 56.04422775657927\n"
     ]
    },
    {
     "data": {
      "text/html": [
       "<pre style=\"white-space:pre;overflow-x:auto;line-height:normal;font-family:Menlo,'DejaVu Sans Mono',consolas,'Courier New',monospace\"><span style=\"color: #808000; text-decoration-color: #808000; font-weight: bold\">Warning:</span><span style=\"color: #808000; text-decoration-color: #808000\"> VTK requires 3D points, but 2D points given. Appending </span><span style=\"color: #808000; text-decoration-color: #808000; font-weight: bold\">0</span><span style=\"color: #808000; text-decoration-color: #808000\"> third component.</span>\n",
       "</pre>\n"
      ],
      "text/plain": [
       "\u001b[1;33mWarning:\u001b[0m\u001b[33m VTK requires 3D points, but 2D points given. Appending \u001b[0m\u001b[1;33m0\u001b[0m\u001b[33m third component.\u001b[0m\n"
      ]
     },
     "metadata": {},
     "output_type": "display_data"
    },
    {
     "name": "stdout",
     "output_type": "stream",
     "text": [
      "Phase: 108, D max: 3.0, Mean Stiffness: 56.52713986726557\n"
     ]
    },
    {
     "data": {
      "text/html": [
       "<pre style=\"white-space:pre;overflow-x:auto;line-height:normal;font-family:Menlo,'DejaVu Sans Mono',consolas,'Courier New',monospace\"><span style=\"color: #808000; text-decoration-color: #808000; font-weight: bold\">Warning:</span><span style=\"color: #808000; text-decoration-color: #808000\"> VTK requires 3D points, but 2D points given. Appending </span><span style=\"color: #808000; text-decoration-color: #808000; font-weight: bold\">0</span><span style=\"color: #808000; text-decoration-color: #808000\"> third component.</span>\n",
       "</pre>\n"
      ],
      "text/plain": [
       "\u001b[1;33mWarning:\u001b[0m\u001b[33m VTK requires 3D points, but 2D points given. Appending \u001b[0m\u001b[1;33m0\u001b[0m\u001b[33m third component.\u001b[0m\n"
      ]
     },
     "metadata": {},
     "output_type": "display_data"
    },
    {
     "name": "stdout",
     "output_type": "stream",
     "text": [
      "Phase: 110, D max: 3.0, Mean Stiffness: 57.01043213687772\n"
     ]
    },
    {
     "data": {
      "text/html": [
       "<pre style=\"white-space:pre;overflow-x:auto;line-height:normal;font-family:Menlo,'DejaVu Sans Mono',consolas,'Courier New',monospace\"><span style=\"color: #808000; text-decoration-color: #808000; font-weight: bold\">Warning:</span><span style=\"color: #808000; text-decoration-color: #808000\"> VTK requires 3D points, but 2D points given. Appending </span><span style=\"color: #808000; text-decoration-color: #808000; font-weight: bold\">0</span><span style=\"color: #808000; text-decoration-color: #808000\"> third component.</span>\n",
       "</pre>\n"
      ],
      "text/plain": [
       "\u001b[1;33mWarning:\u001b[0m\u001b[33m VTK requires 3D points, but 2D points given. Appending \u001b[0m\u001b[1;33m0\u001b[0m\u001b[33m third component.\u001b[0m\n"
      ]
     },
     "metadata": {},
     "output_type": "display_data"
    },
    {
     "name": "stdout",
     "output_type": "stream",
     "text": [
      "Phase: 112, D max: 3.0, Mean Stiffness: 57.4947869125909\n"
     ]
    },
    {
     "data": {
      "text/html": [
       "<pre style=\"white-space:pre;overflow-x:auto;line-height:normal;font-family:Menlo,'DejaVu Sans Mono',consolas,'Courier New',monospace\"><span style=\"color: #808000; text-decoration-color: #808000; font-weight: bold\">Warning:</span><span style=\"color: #808000; text-decoration-color: #808000\"> VTK requires 3D points, but 2D points given. Appending </span><span style=\"color: #808000; text-decoration-color: #808000; font-weight: bold\">0</span><span style=\"color: #808000; text-decoration-color: #808000\"> third component.</span>\n",
       "</pre>\n"
      ],
      "text/plain": [
       "\u001b[1;33mWarning:\u001b[0m\u001b[33m VTK requires 3D points, but 2D points given. Appending \u001b[0m\u001b[1;33m0\u001b[0m\u001b[33m third component.\u001b[0m\n"
      ]
     },
     "metadata": {},
     "output_type": "display_data"
    },
    {
     "name": "stdout",
     "output_type": "stream",
     "text": [
      "Phase: 114, D max: 3.0, Mean Stiffness: 57.98097220828746\n"
     ]
    },
    {
     "data": {
      "text/html": [
       "<pre style=\"white-space:pre;overflow-x:auto;line-height:normal;font-family:Menlo,'DejaVu Sans Mono',consolas,'Courier New',monospace\"><span style=\"color: #808000; text-decoration-color: #808000; font-weight: bold\">Warning:</span><span style=\"color: #808000; text-decoration-color: #808000\"> VTK requires 3D points, but 2D points given. Appending </span><span style=\"color: #808000; text-decoration-color: #808000; font-weight: bold\">0</span><span style=\"color: #808000; text-decoration-color: #808000\"> third component.</span>\n",
       "</pre>\n"
      ],
      "text/plain": [
       "\u001b[1;33mWarning:\u001b[0m\u001b[33m VTK requires 3D points, but 2D points given. Appending \u001b[0m\u001b[1;33m0\u001b[0m\u001b[33m third component.\u001b[0m\n"
      ]
     },
     "metadata": {},
     "output_type": "display_data"
    },
    {
     "name": "stdout",
     "output_type": "stream",
     "text": [
      "Phase: 116, D max: 3.0, Mean Stiffness: 58.46984870608299\n"
     ]
    },
    {
     "data": {
      "text/html": [
       "<pre style=\"white-space:pre;overflow-x:auto;line-height:normal;font-family:Menlo,'DejaVu Sans Mono',consolas,'Courier New',monospace\"><span style=\"color: #808000; text-decoration-color: #808000; font-weight: bold\">Warning:</span><span style=\"color: #808000; text-decoration-color: #808000\"> VTK requires 3D points, but 2D points given. Appending </span><span style=\"color: #808000; text-decoration-color: #808000; font-weight: bold\">0</span><span style=\"color: #808000; text-decoration-color: #808000\"> third component.</span>\n",
       "</pre>\n"
      ],
      "text/plain": [
       "\u001b[1;33mWarning:\u001b[0m\u001b[33m VTK requires 3D points, but 2D points given. Appending \u001b[0m\u001b[1;33m0\u001b[0m\u001b[33m third component.\u001b[0m\n"
      ]
     },
     "metadata": {},
     "output_type": "display_data"
    },
    {
     "name": "stdout",
     "output_type": "stream",
     "text": [
      "Phase: 118, D max: 3.0, Mean Stiffness: 58.96238423354813\n"
     ]
    },
    {
     "data": {
      "text/html": [
       "<pre style=\"white-space:pre;overflow-x:auto;line-height:normal;font-family:Menlo,'DejaVu Sans Mono',consolas,'Courier New',monospace\"><span style=\"color: #808000; text-decoration-color: #808000; font-weight: bold\">Warning:</span><span style=\"color: #808000; text-decoration-color: #808000\"> VTK requires 3D points, but 2D points given. Appending </span><span style=\"color: #808000; text-decoration-color: #808000; font-weight: bold\">0</span><span style=\"color: #808000; text-decoration-color: #808000\"> third component.</span>\n",
       "</pre>\n"
      ],
      "text/plain": [
       "\u001b[1;33mWarning:\u001b[0m\u001b[33m VTK requires 3D points, but 2D points given. Appending \u001b[0m\u001b[1;33m0\u001b[0m\u001b[33m third component.\u001b[0m\n"
      ]
     },
     "metadata": {},
     "output_type": "display_data"
    },
    {
     "name": "stdout",
     "output_type": "stream",
     "text": [
      "Phase: 120, D max: 3.0, Mean Stiffness: 59.45967063227327\n"
     ]
    },
    {
     "data": {
      "text/html": [
       "<pre style=\"white-space:pre;overflow-x:auto;line-height:normal;font-family:Menlo,'DejaVu Sans Mono',consolas,'Courier New',monospace\"><span style=\"color: #808000; text-decoration-color: #808000; font-weight: bold\">Warning:</span><span style=\"color: #808000; text-decoration-color: #808000\"> VTK requires 3D points, but 2D points given. Appending </span><span style=\"color: #808000; text-decoration-color: #808000; font-weight: bold\">0</span><span style=\"color: #808000; text-decoration-color: #808000\"> third component.</span>\n",
       "</pre>\n"
      ],
      "text/plain": [
       "\u001b[1;33mWarning:\u001b[0m\u001b[33m VTK requires 3D points, but 2D points given. Appending \u001b[0m\u001b[1;33m0\u001b[0m\u001b[33m third component.\u001b[0m\n"
      ]
     },
     "metadata": {},
     "output_type": "display_data"
    },
    {
     "name": "stdout",
     "output_type": "stream",
     "text": [
      "Phase: 122, D max: 3.0, Mean Stiffness: 59.96292787509175\n"
     ]
    },
    {
     "data": {
      "text/html": [
       "<pre style=\"white-space:pre;overflow-x:auto;line-height:normal;font-family:Menlo,'DejaVu Sans Mono',consolas,'Courier New',monospace\"><span style=\"color: #808000; text-decoration-color: #808000; font-weight: bold\">Warning:</span><span style=\"color: #808000; text-decoration-color: #808000\"> VTK requires 3D points, but 2D points given. Appending </span><span style=\"color: #808000; text-decoration-color: #808000; font-weight: bold\">0</span><span style=\"color: #808000; text-decoration-color: #808000\"> third component.</span>\n",
       "</pre>\n"
      ],
      "text/plain": [
       "\u001b[1;33mWarning:\u001b[0m\u001b[33m VTK requires 3D points, but 2D points given. Appending \u001b[0m\u001b[1;33m0\u001b[0m\u001b[33m third component.\u001b[0m\n"
      ]
     },
     "metadata": {},
     "output_type": "display_data"
    },
    {
     "name": "stdout",
     "output_type": "stream",
     "text": [
      "Phase: 124, D max: 3.0, Mean Stiffness: 60.473519379097084\n"
     ]
    },
    {
     "data": {
      "text/html": [
       "<pre style=\"white-space:pre;overflow-x:auto;line-height:normal;font-family:Menlo,'DejaVu Sans Mono',consolas,'Courier New',monospace\"><span style=\"color: #808000; text-decoration-color: #808000; font-weight: bold\">Warning:</span><span style=\"color: #808000; text-decoration-color: #808000\"> VTK requires 3D points, but 2D points given. Appending </span><span style=\"color: #808000; text-decoration-color: #808000; font-weight: bold\">0</span><span style=\"color: #808000; text-decoration-color: #808000\"> third component.</span>\n",
       "</pre>\n"
      ],
      "text/plain": [
       "\u001b[1;33mWarning:\u001b[0m\u001b[33m VTK requires 3D points, but 2D points given. Appending \u001b[0m\u001b[1;33m0\u001b[0m\u001b[33m third component.\u001b[0m\n"
      ]
     },
     "metadata": {},
     "output_type": "display_data"
    },
    {
     "name": "stdout",
     "output_type": "stream",
     "text": [
      "Phase: 126, D max: 3.0, Mean Stiffness: 60.992959087713494\n"
     ]
    },
    {
     "data": {
      "text/html": [
       "<pre style=\"white-space:pre;overflow-x:auto;line-height:normal;font-family:Menlo,'DejaVu Sans Mono',consolas,'Courier New',monospace\"><span style=\"color: #808000; text-decoration-color: #808000; font-weight: bold\">Warning:</span><span style=\"color: #808000; text-decoration-color: #808000\"> VTK requires 3D points, but 2D points given. Appending </span><span style=\"color: #808000; text-decoration-color: #808000; font-weight: bold\">0</span><span style=\"color: #808000; text-decoration-color: #808000\"> third component.</span>\n",
       "</pre>\n"
      ],
      "text/plain": [
       "\u001b[1;33mWarning:\u001b[0m\u001b[33m VTK requires 3D points, but 2D points given. Appending \u001b[0m\u001b[1;33m0\u001b[0m\u001b[33m third component.\u001b[0m\n"
      ]
     },
     "metadata": {},
     "output_type": "display_data"
    },
    {
     "name": "stdout",
     "output_type": "stream",
     "text": [
      "Phase: 128, D max: 3.0, Mean Stiffness: 61.52292311172511\n"
     ]
    },
    {
     "data": {
      "text/html": [
       "<pre style=\"white-space:pre;overflow-x:auto;line-height:normal;font-family:Menlo,'DejaVu Sans Mono',consolas,'Courier New',monospace\"><span style=\"color: #808000; text-decoration-color: #808000; font-weight: bold\">Warning:</span><span style=\"color: #808000; text-decoration-color: #808000\"> VTK requires 3D points, but 2D points given. Appending </span><span style=\"color: #808000; text-decoration-color: #808000; font-weight: bold\">0</span><span style=\"color: #808000; text-decoration-color: #808000\"> third component.</span>\n",
       "</pre>\n"
      ],
      "text/plain": [
       "\u001b[1;33mWarning:\u001b[0m\u001b[33m VTK requires 3D points, but 2D points given. Appending \u001b[0m\u001b[1;33m0\u001b[0m\u001b[33m third component.\u001b[0m\n"
      ]
     },
     "metadata": {},
     "output_type": "display_data"
    },
    {
     "name": "stdout",
     "output_type": "stream",
     "text": [
      "Phase: 130, D max: 3.0, Mean Stiffness: 62.06525652726022\n"
     ]
    },
    {
     "data": {
      "text/html": [
       "<pre style=\"white-space:pre;overflow-x:auto;line-height:normal;font-family:Menlo,'DejaVu Sans Mono',consolas,'Courier New',monospace\"><span style=\"color: #808000; text-decoration-color: #808000; font-weight: bold\">Warning:</span><span style=\"color: #808000; text-decoration-color: #808000\"> VTK requires 3D points, but 2D points given. Appending </span><span style=\"color: #808000; text-decoration-color: #808000; font-weight: bold\">0</span><span style=\"color: #808000; text-decoration-color: #808000\"> third component.</span>\n",
       "</pre>\n"
      ],
      "text/plain": [
       "\u001b[1;33mWarning:\u001b[0m\u001b[33m VTK requires 3D points, but 2D points given. Appending \u001b[0m\u001b[1;33m0\u001b[0m\u001b[33m third component.\u001b[0m\n"
      ]
     },
     "metadata": {},
     "output_type": "display_data"
    },
    {
     "name": "stdout",
     "output_type": "stream",
     "text": [
      "Phase: 132, D max: 3.0, Mean Stiffness: 62.621973867848254\n"
     ]
    },
    {
     "data": {
      "text/html": [
       "<pre style=\"white-space:pre;overflow-x:auto;line-height:normal;font-family:Menlo,'DejaVu Sans Mono',consolas,'Courier New',monospace\"><span style=\"color: #808000; text-decoration-color: #808000; font-weight: bold\">Warning:</span><span style=\"color: #808000; text-decoration-color: #808000\"> VTK requires 3D points, but 2D points given. Appending </span><span style=\"color: #808000; text-decoration-color: #808000; font-weight: bold\">0</span><span style=\"color: #808000; text-decoration-color: #808000\"> third component.</span>\n",
       "</pre>\n"
      ],
      "text/plain": [
       "\u001b[1;33mWarning:\u001b[0m\u001b[33m VTK requires 3D points, but 2D points given. Appending \u001b[0m\u001b[1;33m0\u001b[0m\u001b[33m third component.\u001b[0m\n"
      ]
     },
     "metadata": {},
     "output_type": "display_data"
    },
    {
     "name": "stdout",
     "output_type": "stream",
     "text": [
      "Phase: 134, D max: 3.0, Mean Stiffness: 63.19526069947395\n"
     ]
    },
    {
     "data": {
      "text/html": [
       "<pre style=\"white-space:pre;overflow-x:auto;line-height:normal;font-family:Menlo,'DejaVu Sans Mono',consolas,'Courier New',monospace\"><span style=\"color: #808000; text-decoration-color: #808000; font-weight: bold\">Warning:</span><span style=\"color: #808000; text-decoration-color: #808000\"> VTK requires 3D points, but 2D points given. Appending </span><span style=\"color: #808000; text-decoration-color: #808000; font-weight: bold\">0</span><span style=\"color: #808000; text-decoration-color: #808000\"> third component.</span>\n",
       "</pre>\n"
      ],
      "text/plain": [
       "\u001b[1;33mWarning:\u001b[0m\u001b[33m VTK requires 3D points, but 2D points given. Appending \u001b[0m\u001b[1;33m0\u001b[0m\u001b[33m third component.\u001b[0m\n"
      ]
     },
     "metadata": {},
     "output_type": "display_data"
    },
    {
     "name": "stdout",
     "output_type": "stream",
     "text": [
      "Phase: 136, D max: 3.0, Mean Stiffness: 63.78746864207163\n"
     ]
    },
    {
     "data": {
      "text/html": [
       "<pre style=\"white-space:pre;overflow-x:auto;line-height:normal;font-family:Menlo,'DejaVu Sans Mono',consolas,'Courier New',monospace\"><span style=\"color: #808000; text-decoration-color: #808000; font-weight: bold\">Warning:</span><span style=\"color: #808000; text-decoration-color: #808000\"> VTK requires 3D points, but 2D points given. Appending </span><span style=\"color: #808000; text-decoration-color: #808000; font-weight: bold\">0</span><span style=\"color: #808000; text-decoration-color: #808000\"> third component.</span>\n",
       "</pre>\n"
      ],
      "text/plain": [
       "\u001b[1;33mWarning:\u001b[0m\u001b[33m VTK requires 3D points, but 2D points given. Appending \u001b[0m\u001b[1;33m0\u001b[0m\u001b[33m third component.\u001b[0m\n"
      ]
     },
     "metadata": {},
     "output_type": "display_data"
    },
    {
     "name": "stdout",
     "output_type": "stream",
     "text": [
      "Phase: 138, D max: 3.0, Mean Stiffness: 64.40110419315994\n"
     ]
    },
    {
     "data": {
      "text/html": [
       "<pre style=\"white-space:pre;overflow-x:auto;line-height:normal;font-family:Menlo,'DejaVu Sans Mono',consolas,'Courier New',monospace\"><span style=\"color: #808000; text-decoration-color: #808000; font-weight: bold\">Warning:</span><span style=\"color: #808000; text-decoration-color: #808000\"> VTK requires 3D points, but 2D points given. Appending </span><span style=\"color: #808000; text-decoration-color: #808000; font-weight: bold\">0</span><span style=\"color: #808000; text-decoration-color: #808000\"> third component.</span>\n",
       "</pre>\n"
      ],
      "text/plain": [
       "\u001b[1;33mWarning:\u001b[0m\u001b[33m VTK requires 3D points, but 2D points given. Appending \u001b[0m\u001b[1;33m0\u001b[0m\u001b[33m third component.\u001b[0m\n"
      ]
     },
     "metadata": {},
     "output_type": "display_data"
    },
    {
     "name": "stdout",
     "output_type": "stream",
     "text": [
      "Phase: 140, D max: 3.0, Mean Stiffness: 65.03881045635785\n"
     ]
    },
    {
     "data": {
      "text/html": [
       "<pre style=\"white-space:pre;overflow-x:auto;line-height:normal;font-family:Menlo,'DejaVu Sans Mono',consolas,'Courier New',monospace\"><span style=\"color: #808000; text-decoration-color: #808000; font-weight: bold\">Warning:</span><span style=\"color: #808000; text-decoration-color: #808000\"> VTK requires 3D points, but 2D points given. Appending </span><span style=\"color: #808000; text-decoration-color: #808000; font-weight: bold\">0</span><span style=\"color: #808000; text-decoration-color: #808000\"> third component.</span>\n",
       "</pre>\n"
      ],
      "text/plain": [
       "\u001b[1;33mWarning:\u001b[0m\u001b[33m VTK requires 3D points, but 2D points given. Appending \u001b[0m\u001b[1;33m0\u001b[0m\u001b[33m third component.\u001b[0m\n"
      ]
     },
     "metadata": {},
     "output_type": "display_data"
    },
    {
     "name": "stdout",
     "output_type": "stream",
     "text": [
      "Phase: 142, D max: 3.0, Mean Stiffness: 65.70333310841009\n"
     ]
    },
    {
     "data": {
      "text/html": [
       "<pre style=\"white-space:pre;overflow-x:auto;line-height:normal;font-family:Menlo,'DejaVu Sans Mono',consolas,'Courier New',monospace\"><span style=\"color: #808000; text-decoration-color: #808000; font-weight: bold\">Warning:</span><span style=\"color: #808000; text-decoration-color: #808000\"> VTK requires 3D points, but 2D points given. Appending </span><span style=\"color: #808000; text-decoration-color: #808000; font-weight: bold\">0</span><span style=\"color: #808000; text-decoration-color: #808000\"> third component.</span>\n",
       "</pre>\n"
      ],
      "text/plain": [
       "\u001b[1;33mWarning:\u001b[0m\u001b[33m VTK requires 3D points, but 2D points given. Appending \u001b[0m\u001b[1;33m0\u001b[0m\u001b[33m third component.\u001b[0m\n"
      ]
     },
     "metadata": {},
     "output_type": "display_data"
    },
    {
     "name": "stdout",
     "output_type": "stream",
     "text": [
      "Phase: 144, D max: 3.0, Mean Stiffness: 66.39751070319677\n"
     ]
    },
    {
     "data": {
      "text/html": [
       "<pre style=\"white-space:pre;overflow-x:auto;line-height:normal;font-family:Menlo,'DejaVu Sans Mono',consolas,'Courier New',monospace\"><span style=\"color: #808000; text-decoration-color: #808000; font-weight: bold\">Warning:</span><span style=\"color: #808000; text-decoration-color: #808000\"> VTK requires 3D points, but 2D points given. Appending </span><span style=\"color: #808000; text-decoration-color: #808000; font-weight: bold\">0</span><span style=\"color: #808000; text-decoration-color: #808000\"> third component.</span>\n",
       "</pre>\n"
      ],
      "text/plain": [
       "\u001b[1;33mWarning:\u001b[0m\u001b[33m VTK requires 3D points, but 2D points given. Appending \u001b[0m\u001b[1;33m0\u001b[0m\u001b[33m third component.\u001b[0m\n"
      ]
     },
     "metadata": {},
     "output_type": "display_data"
    },
    {
     "name": "stdout",
     "output_type": "stream",
     "text": [
      "Phase: 146, D max: 3.0, Mean Stiffness: 67.12421713074257\n"
     ]
    },
    {
     "data": {
      "text/html": [
       "<pre style=\"white-space:pre;overflow-x:auto;line-height:normal;font-family:Menlo,'DejaVu Sans Mono',consolas,'Courier New',monospace\"><span style=\"color: #808000; text-decoration-color: #808000; font-weight: bold\">Warning:</span><span style=\"color: #808000; text-decoration-color: #808000\"> VTK requires 3D points, but 2D points given. Appending </span><span style=\"color: #808000; text-decoration-color: #808000; font-weight: bold\">0</span><span style=\"color: #808000; text-decoration-color: #808000\"> third component.</span>\n",
       "</pre>\n"
      ],
      "text/plain": [
       "\u001b[1;33mWarning:\u001b[0m\u001b[33m VTK requires 3D points, but 2D points given. Appending \u001b[0m\u001b[1;33m0\u001b[0m\u001b[33m third component.\u001b[0m\n"
      ]
     },
     "metadata": {},
     "output_type": "display_data"
    },
    {
     "name": "stdout",
     "output_type": "stream",
     "text": [
      "Phase: 148, D max: 3.0, Mean Stiffness: 67.88620255621247\n"
     ]
    },
    {
     "data": {
      "text/html": [
       "<pre style=\"white-space:pre;overflow-x:auto;line-height:normal;font-family:Menlo,'DejaVu Sans Mono',consolas,'Courier New',monospace\"><span style=\"color: #808000; text-decoration-color: #808000; font-weight: bold\">Warning:</span><span style=\"color: #808000; text-decoration-color: #808000\"> VTK requires 3D points, but 2D points given. Appending </span><span style=\"color: #808000; text-decoration-color: #808000; font-weight: bold\">0</span><span style=\"color: #808000; text-decoration-color: #808000\"> third component.</span>\n",
       "</pre>\n"
      ],
      "text/plain": [
       "\u001b[1;33mWarning:\u001b[0m\u001b[33m VTK requires 3D points, but 2D points given. Appending \u001b[0m\u001b[1;33m0\u001b[0m\u001b[33m third component.\u001b[0m\n"
      ]
     },
     "metadata": {},
     "output_type": "display_data"
    },
    {
     "name": "stdout",
     "output_type": "stream",
     "text": [
      "Phase: 150, D max: 3.0, Mean Stiffness: 68.90065386482335\n"
     ]
    },
    {
     "data": {
      "text/html": [
       "<pre style=\"white-space:pre;overflow-x:auto;line-height:normal;font-family:Menlo,'DejaVu Sans Mono',consolas,'Courier New',monospace\"><span style=\"color: #808000; text-decoration-color: #808000; font-weight: bold\">Warning:</span><span style=\"color: #808000; text-decoration-color: #808000\"> VTK requires 3D points, but 2D points given. Appending </span><span style=\"color: #808000; text-decoration-color: #808000; font-weight: bold\">0</span><span style=\"color: #808000; text-decoration-color: #808000\"> third component.</span>\n",
       "</pre>\n"
      ],
      "text/plain": [
       "\u001b[1;33mWarning:\u001b[0m\u001b[33m VTK requires 3D points, but 2D points given. Appending \u001b[0m\u001b[1;33m0\u001b[0m\u001b[33m third component.\u001b[0m\n"
      ]
     },
     "metadata": {},
     "output_type": "display_data"
    },
    {
     "name": "stdout",
     "output_type": "stream",
     "text": [
      "Phase: 152, D max: 3.0, Mean Stiffness: 70.17482463812023\n"
     ]
    },
    {
     "data": {
      "text/html": [
       "<pre style=\"white-space:pre;overflow-x:auto;line-height:normal;font-family:Menlo,'DejaVu Sans Mono',consolas,'Courier New',monospace\"><span style=\"color: #808000; text-decoration-color: #808000; font-weight: bold\">Warning:</span><span style=\"color: #808000; text-decoration-color: #808000\"> VTK requires 3D points, but 2D points given. Appending </span><span style=\"color: #808000; text-decoration-color: #808000; font-weight: bold\">0</span><span style=\"color: #808000; text-decoration-color: #808000\"> third component.</span>\n",
       "</pre>\n"
      ],
      "text/plain": [
       "\u001b[1;33mWarning:\u001b[0m\u001b[33m VTK requires 3D points, but 2D points given. Appending \u001b[0m\u001b[1;33m0\u001b[0m\u001b[33m third component.\u001b[0m\n"
      ]
     },
     "metadata": {},
     "output_type": "display_data"
    },
    {
     "name": "stdout",
     "output_type": "stream",
     "text": [
      "Phase: 154, D max: 3.0, Mean Stiffness: 71.49597813638944\n"
     ]
    },
    {
     "data": {
      "text/html": [
       "<pre style=\"white-space:pre;overflow-x:auto;line-height:normal;font-family:Menlo,'DejaVu Sans Mono',consolas,'Courier New',monospace\"><span style=\"color: #808000; text-decoration-color: #808000; font-weight: bold\">Warning:</span><span style=\"color: #808000; text-decoration-color: #808000\"> VTK requires 3D points, but 2D points given. Appending </span><span style=\"color: #808000; text-decoration-color: #808000; font-weight: bold\">0</span><span style=\"color: #808000; text-decoration-color: #808000\"> third component.</span>\n",
       "</pre>\n"
      ],
      "text/plain": [
       "\u001b[1;33mWarning:\u001b[0m\u001b[33m VTK requires 3D points, but 2D points given. Appending \u001b[0m\u001b[1;33m0\u001b[0m\u001b[33m third component.\u001b[0m\n"
      ]
     },
     "metadata": {},
     "output_type": "display_data"
    },
    {
     "name": "stdout",
     "output_type": "stream",
     "text": [
      "Phase: 156, D max: 3.0, Mean Stiffness: 72.86291604661416\n"
     ]
    },
    {
     "data": {
      "text/html": [
       "<pre style=\"white-space:pre;overflow-x:auto;line-height:normal;font-family:Menlo,'DejaVu Sans Mono',consolas,'Courier New',monospace\"><span style=\"color: #808000; text-decoration-color: #808000; font-weight: bold\">Warning:</span><span style=\"color: #808000; text-decoration-color: #808000\"> VTK requires 3D points, but 2D points given. Appending </span><span style=\"color: #808000; text-decoration-color: #808000; font-weight: bold\">0</span><span style=\"color: #808000; text-decoration-color: #808000\"> third component.</span>\n",
       "</pre>\n"
      ],
      "text/plain": [
       "\u001b[1;33mWarning:\u001b[0m\u001b[33m VTK requires 3D points, but 2D points given. Appending \u001b[0m\u001b[1;33m0\u001b[0m\u001b[33m third component.\u001b[0m\n"
      ]
     },
     "metadata": {},
     "output_type": "display_data"
    },
    {
     "name": "stdout",
     "output_type": "stream",
     "text": [
      "Phase: 158, D max: 3.0, Mean Stiffness: 74.27146426984724\n"
     ]
    },
    {
     "data": {
      "text/html": [
       "<pre style=\"white-space:pre;overflow-x:auto;line-height:normal;font-family:Menlo,'DejaVu Sans Mono',consolas,'Courier New',monospace\"><span style=\"color: #808000; text-decoration-color: #808000; font-weight: bold\">Warning:</span><span style=\"color: #808000; text-decoration-color: #808000\"> VTK requires 3D points, but 2D points given. Appending </span><span style=\"color: #808000; text-decoration-color: #808000; font-weight: bold\">0</span><span style=\"color: #808000; text-decoration-color: #808000\"> third component.</span>\n",
       "</pre>\n"
      ],
      "text/plain": [
       "\u001b[1;33mWarning:\u001b[0m\u001b[33m VTK requires 3D points, but 2D points given. Appending \u001b[0m\u001b[1;33m0\u001b[0m\u001b[33m third component.\u001b[0m\n"
      ]
     },
     "metadata": {},
     "output_type": "display_data"
    },
    {
     "name": "stdout",
     "output_type": "stream",
     "text": [
      "Phase: 160, D max: 3.0, Mean Stiffness: 75.71299077550442\n"
     ]
    },
    {
     "data": {
      "text/html": [
       "<pre style=\"white-space:pre;overflow-x:auto;line-height:normal;font-family:Menlo,'DejaVu Sans Mono',consolas,'Courier New',monospace\"><span style=\"color: #808000; text-decoration-color: #808000; font-weight: bold\">Warning:</span><span style=\"color: #808000; text-decoration-color: #808000\"> VTK requires 3D points, but 2D points given. Appending </span><span style=\"color: #808000; text-decoration-color: #808000; font-weight: bold\">0</span><span style=\"color: #808000; text-decoration-color: #808000\"> third component.</span>\n",
       "</pre>\n"
      ],
      "text/plain": [
       "\u001b[1;33mWarning:\u001b[0m\u001b[33m VTK requires 3D points, but 2D points given. Appending \u001b[0m\u001b[1;33m0\u001b[0m\u001b[33m third component.\u001b[0m\n"
      ]
     },
     "metadata": {},
     "output_type": "display_data"
    },
    {
     "name": "stdout",
     "output_type": "stream",
     "text": [
      "Phase: 162, D max: 3.0, Mean Stiffness: 77.17670715663992\n"
     ]
    },
    {
     "data": {
      "text/html": [
       "<pre style=\"white-space:pre;overflow-x:auto;line-height:normal;font-family:Menlo,'DejaVu Sans Mono',consolas,'Courier New',monospace\"><span style=\"color: #808000; text-decoration-color: #808000; font-weight: bold\">Warning:</span><span style=\"color: #808000; text-decoration-color: #808000\"> VTK requires 3D points, but 2D points given. Appending </span><span style=\"color: #808000; text-decoration-color: #808000; font-weight: bold\">0</span><span style=\"color: #808000; text-decoration-color: #808000\"> third component.</span>\n",
       "</pre>\n"
      ],
      "text/plain": [
       "\u001b[1;33mWarning:\u001b[0m\u001b[33m VTK requires 3D points, but 2D points given. Appending \u001b[0m\u001b[1;33m0\u001b[0m\u001b[33m third component.\u001b[0m\n"
      ]
     },
     "metadata": {},
     "output_type": "display_data"
    },
    {
     "name": "stdout",
     "output_type": "stream",
     "text": [
      "Phase: 164, D max: 3.0, Mean Stiffness: 78.6540122232775\n"
     ]
    },
    {
     "data": {
      "text/html": [
       "<pre style=\"white-space:pre;overflow-x:auto;line-height:normal;font-family:Menlo,'DejaVu Sans Mono',consolas,'Courier New',monospace\"><span style=\"color: #808000; text-decoration-color: #808000; font-weight: bold\">Warning:</span><span style=\"color: #808000; text-decoration-color: #808000\"> VTK requires 3D points, but 2D points given. Appending </span><span style=\"color: #808000; text-decoration-color: #808000; font-weight: bold\">0</span><span style=\"color: #808000; text-decoration-color: #808000\"> third component.</span>\n",
       "</pre>\n"
      ],
      "text/plain": [
       "\u001b[1;33mWarning:\u001b[0m\u001b[33m VTK requires 3D points, but 2D points given. Appending \u001b[0m\u001b[1;33m0\u001b[0m\u001b[33m third component.\u001b[0m\n"
      ]
     },
     "metadata": {},
     "output_type": "display_data"
    },
    {
     "name": "stdout",
     "output_type": "stream",
     "text": [
      "Phase: 166, D max: 3.0, Mean Stiffness: 80.13927639755467\n"
     ]
    },
    {
     "data": {
      "text/html": [
       "<pre style=\"white-space:pre;overflow-x:auto;line-height:normal;font-family:Menlo,'DejaVu Sans Mono',consolas,'Courier New',monospace\"><span style=\"color: #808000; text-decoration-color: #808000; font-weight: bold\">Warning:</span><span style=\"color: #808000; text-decoration-color: #808000\"> VTK requires 3D points, but 2D points given. Appending </span><span style=\"color: #808000; text-decoration-color: #808000; font-weight: bold\">0</span><span style=\"color: #808000; text-decoration-color: #808000\"> third component.</span>\n",
       "</pre>\n"
      ],
      "text/plain": [
       "\u001b[1;33mWarning:\u001b[0m\u001b[33m VTK requires 3D points, but 2D points given. Appending \u001b[0m\u001b[1;33m0\u001b[0m\u001b[33m third component.\u001b[0m\n"
      ]
     },
     "metadata": {},
     "output_type": "display_data"
    },
    {
     "name": "stdout",
     "output_type": "stream",
     "text": [
      "Phase: 168, D max: 3.0, Mean Stiffness: 81.62884104393088\n"
     ]
    },
    {
     "data": {
      "text/html": [
       "<pre style=\"white-space:pre;overflow-x:auto;line-height:normal;font-family:Menlo,'DejaVu Sans Mono',consolas,'Courier New',monospace\"><span style=\"color: #808000; text-decoration-color: #808000; font-weight: bold\">Warning:</span><span style=\"color: #808000; text-decoration-color: #808000\"> VTK requires 3D points, but 2D points given. Appending </span><span style=\"color: #808000; text-decoration-color: #808000; font-weight: bold\">0</span><span style=\"color: #808000; text-decoration-color: #808000\"> third component.</span>\n",
       "</pre>\n"
      ],
      "text/plain": [
       "\u001b[1;33mWarning:\u001b[0m\u001b[33m VTK requires 3D points, but 2D points given. Appending \u001b[0m\u001b[1;33m0\u001b[0m\u001b[33m third component.\u001b[0m\n"
      ]
     },
     "metadata": {},
     "output_type": "display_data"
    },
    {
     "name": "stdout",
     "output_type": "stream",
     "text": [
      "Phase: 170, D max: 3.0, Mean Stiffness: 83.11994343817842\n"
     ]
    },
    {
     "data": {
      "text/html": [
       "<pre style=\"white-space:pre;overflow-x:auto;line-height:normal;font-family:Menlo,'DejaVu Sans Mono',consolas,'Courier New',monospace\"><span style=\"color: #808000; text-decoration-color: #808000; font-weight: bold\">Warning:</span><span style=\"color: #808000; text-decoration-color: #808000\"> VTK requires 3D points, but 2D points given. Appending </span><span style=\"color: #808000; text-decoration-color: #808000; font-weight: bold\">0</span><span style=\"color: #808000; text-decoration-color: #808000\"> third component.</span>\n",
       "</pre>\n"
      ],
      "text/plain": [
       "\u001b[1;33mWarning:\u001b[0m\u001b[33m VTK requires 3D points, but 2D points given. Appending \u001b[0m\u001b[1;33m0\u001b[0m\u001b[33m third component.\u001b[0m\n"
      ]
     },
     "metadata": {},
     "output_type": "display_data"
    },
    {
     "name": "stdout",
     "output_type": "stream",
     "text": [
      "Phase: 172, D max: 3.0, Mean Stiffness: 84.61055660469788\n"
     ]
    },
    {
     "data": {
      "text/html": [
       "<pre style=\"white-space:pre;overflow-x:auto;line-height:normal;font-family:Menlo,'DejaVu Sans Mono',consolas,'Courier New',monospace\"><span style=\"color: #808000; text-decoration-color: #808000; font-weight: bold\">Warning:</span><span style=\"color: #808000; text-decoration-color: #808000\"> VTK requires 3D points, but 2D points given. Appending </span><span style=\"color: #808000; text-decoration-color: #808000; font-weight: bold\">0</span><span style=\"color: #808000; text-decoration-color: #808000\"> third component.</span>\n",
       "</pre>\n"
      ],
      "text/plain": [
       "\u001b[1;33mWarning:\u001b[0m\u001b[33m VTK requires 3D points, but 2D points given. Appending \u001b[0m\u001b[1;33m0\u001b[0m\u001b[33m third component.\u001b[0m\n"
      ]
     },
     "metadata": {},
     "output_type": "display_data"
    },
    {
     "name": "stdout",
     "output_type": "stream",
     "text": [
      "Phase: 174, D max: 3.0, Mean Stiffness: 86.09885287719266\n"
     ]
    },
    {
     "data": {
      "text/html": [
       "<pre style=\"white-space:pre;overflow-x:auto;line-height:normal;font-family:Menlo,'DejaVu Sans Mono',consolas,'Courier New',monospace\"><span style=\"color: #808000; text-decoration-color: #808000; font-weight: bold\">Warning:</span><span style=\"color: #808000; text-decoration-color: #808000\"> VTK requires 3D points, but 2D points given. Appending </span><span style=\"color: #808000; text-decoration-color: #808000; font-weight: bold\">0</span><span style=\"color: #808000; text-decoration-color: #808000\"> third component.</span>\n",
       "</pre>\n"
      ],
      "text/plain": [
       "\u001b[1;33mWarning:\u001b[0m\u001b[33m VTK requires 3D points, but 2D points given. Appending \u001b[0m\u001b[1;33m0\u001b[0m\u001b[33m third component.\u001b[0m\n"
      ]
     },
     "metadata": {},
     "output_type": "display_data"
    },
    {
     "name": "stdout",
     "output_type": "stream",
     "text": [
      "Phase: 176, D max: 3.0, Mean Stiffness: 87.58355616801545\n"
     ]
    },
    {
     "data": {
      "text/html": [
       "<pre style=\"white-space:pre;overflow-x:auto;line-height:normal;font-family:Menlo,'DejaVu Sans Mono',consolas,'Courier New',monospace\"><span style=\"color: #808000; text-decoration-color: #808000; font-weight: bold\">Warning:</span><span style=\"color: #808000; text-decoration-color: #808000\"> VTK requires 3D points, but 2D points given. Appending </span><span style=\"color: #808000; text-decoration-color: #808000; font-weight: bold\">0</span><span style=\"color: #808000; text-decoration-color: #808000\"> third component.</span>\n",
       "</pre>\n"
      ],
      "text/plain": [
       "\u001b[1;33mWarning:\u001b[0m\u001b[33m VTK requires 3D points, but 2D points given. Appending \u001b[0m\u001b[1;33m0\u001b[0m\u001b[33m third component.\u001b[0m\n"
      ]
     },
     "metadata": {},
     "output_type": "display_data"
    },
    {
     "name": "stdout",
     "output_type": "stream",
     "text": [
      "Phase: 178, D max: 3.0, Mean Stiffness: 89.06343689194105\n"
     ]
    },
    {
     "data": {
      "text/html": [
       "<pre style=\"white-space:pre;overflow-x:auto;line-height:normal;font-family:Menlo,'DejaVu Sans Mono',consolas,'Courier New',monospace\"><span style=\"color: #808000; text-decoration-color: #808000; font-weight: bold\">Warning:</span><span style=\"color: #808000; text-decoration-color: #808000\"> VTK requires 3D points, but 2D points given. Appending </span><span style=\"color: #808000; text-decoration-color: #808000; font-weight: bold\">0</span><span style=\"color: #808000; text-decoration-color: #808000\"> third component.</span>\n",
       "</pre>\n"
      ],
      "text/plain": [
       "\u001b[1;33mWarning:\u001b[0m\u001b[33m VTK requires 3D points, but 2D points given. Appending \u001b[0m\u001b[1;33m0\u001b[0m\u001b[33m third component.\u001b[0m\n"
      ]
     },
     "metadata": {},
     "output_type": "display_data"
    },
    {
     "name": "stdout",
     "output_type": "stream",
     "text": [
      "Phase: 180, D max: 3.0, Mean Stiffness: 90.5376240370594\n"
     ]
    },
    {
     "data": {
      "text/html": [
       "<pre style=\"white-space:pre;overflow-x:auto;line-height:normal;font-family:Menlo,'DejaVu Sans Mono',consolas,'Courier New',monospace\"><span style=\"color: #808000; text-decoration-color: #808000; font-weight: bold\">Warning:</span><span style=\"color: #808000; text-decoration-color: #808000\"> VTK requires 3D points, but 2D points given. Appending </span><span style=\"color: #808000; text-decoration-color: #808000; font-weight: bold\">0</span><span style=\"color: #808000; text-decoration-color: #808000\"> third component.</span>\n",
       "</pre>\n"
      ],
      "text/plain": [
       "\u001b[1;33mWarning:\u001b[0m\u001b[33m VTK requires 3D points, but 2D points given. Appending \u001b[0m\u001b[1;33m0\u001b[0m\u001b[33m third component.\u001b[0m\n"
      ]
     },
     "metadata": {},
     "output_type": "display_data"
    },
    {
     "name": "stdout",
     "output_type": "stream",
     "text": [
      "Phase: 182, D max: 3.0, Mean Stiffness: 92.0055944019612\n"
     ]
    },
    {
     "data": {
      "text/html": [
       "<pre style=\"white-space:pre;overflow-x:auto;line-height:normal;font-family:Menlo,'DejaVu Sans Mono',consolas,'Courier New',monospace\"><span style=\"color: #808000; text-decoration-color: #808000; font-weight: bold\">Warning:</span><span style=\"color: #808000; text-decoration-color: #808000\"> VTK requires 3D points, but 2D points given. Appending </span><span style=\"color: #808000; text-decoration-color: #808000; font-weight: bold\">0</span><span style=\"color: #808000; text-decoration-color: #808000\"> third component.</span>\n",
       "</pre>\n"
      ],
      "text/plain": [
       "\u001b[1;33mWarning:\u001b[0m\u001b[33m VTK requires 3D points, but 2D points given. Appending \u001b[0m\u001b[1;33m0\u001b[0m\u001b[33m third component.\u001b[0m\n"
      ]
     },
     "metadata": {},
     "output_type": "display_data"
    },
    {
     "name": "stdout",
     "output_type": "stream",
     "text": [
      "Phase: 184, D max: 3.0, Mean Stiffness: 93.46702479325394\n"
     ]
    },
    {
     "data": {
      "text/html": [
       "<pre style=\"white-space:pre;overflow-x:auto;line-height:normal;font-family:Menlo,'DejaVu Sans Mono',consolas,'Courier New',monospace\"><span style=\"color: #808000; text-decoration-color: #808000; font-weight: bold\">Warning:</span><span style=\"color: #808000; text-decoration-color: #808000\"> VTK requires 3D points, but 2D points given. Appending </span><span style=\"color: #808000; text-decoration-color: #808000; font-weight: bold\">0</span><span style=\"color: #808000; text-decoration-color: #808000\"> third component.</span>\n",
       "</pre>\n"
      ],
      "text/plain": [
       "\u001b[1;33mWarning:\u001b[0m\u001b[33m VTK requires 3D points, but 2D points given. Appending \u001b[0m\u001b[1;33m0\u001b[0m\u001b[33m third component.\u001b[0m\n"
      ]
     },
     "metadata": {},
     "output_type": "display_data"
    },
    {
     "name": "stdout",
     "output_type": "stream",
     "text": [
      "Phase: 186, D max: 3.0, Mean Stiffness: 94.92166538658299\n"
     ]
    },
    {
     "data": {
      "text/html": [
       "<pre style=\"white-space:pre;overflow-x:auto;line-height:normal;font-family:Menlo,'DejaVu Sans Mono',consolas,'Courier New',monospace\"><span style=\"color: #808000; text-decoration-color: #808000; font-weight: bold\">Warning:</span><span style=\"color: #808000; text-decoration-color: #808000\"> VTK requires 3D points, but 2D points given. Appending </span><span style=\"color: #808000; text-decoration-color: #808000; font-weight: bold\">0</span><span style=\"color: #808000; text-decoration-color: #808000\"> third component.</span>\n",
       "</pre>\n"
      ],
      "text/plain": [
       "\u001b[1;33mWarning:\u001b[0m\u001b[33m VTK requires 3D points, but 2D points given. Appending \u001b[0m\u001b[1;33m0\u001b[0m\u001b[33m third component.\u001b[0m\n"
      ]
     },
     "metadata": {},
     "output_type": "display_data"
    },
    {
     "name": "stdout",
     "output_type": "stream",
     "text": [
      "Phase: 188, D max: 3.0, Mean Stiffness: 96.36931786821806\n"
     ]
    },
    {
     "data": {
      "text/html": [
       "<pre style=\"white-space:pre;overflow-x:auto;line-height:normal;font-family:Menlo,'DejaVu Sans Mono',consolas,'Courier New',monospace\"><span style=\"color: #808000; text-decoration-color: #808000; font-weight: bold\">Warning:</span><span style=\"color: #808000; text-decoration-color: #808000\"> VTK requires 3D points, but 2D points given. Appending </span><span style=\"color: #808000; text-decoration-color: #808000; font-weight: bold\">0</span><span style=\"color: #808000; text-decoration-color: #808000\"> third component.</span>\n",
       "</pre>\n"
      ],
      "text/plain": [
       "\u001b[1;33mWarning:\u001b[0m\u001b[33m VTK requires 3D points, but 2D points given. Appending \u001b[0m\u001b[1;33m0\u001b[0m\u001b[33m third component.\u001b[0m\n"
      ]
     },
     "metadata": {},
     "output_type": "display_data"
    },
    {
     "name": "stdout",
     "output_type": "stream",
     "text": [
      "Phase: 190, D max: 3.0, Mean Stiffness: 97.80980635896118\n"
     ]
    },
    {
     "data": {
      "text/html": [
       "<pre style=\"white-space:pre;overflow-x:auto;line-height:normal;font-family:Menlo,'DejaVu Sans Mono',consolas,'Courier New',monospace\"><span style=\"color: #808000; text-decoration-color: #808000; font-weight: bold\">Warning:</span><span style=\"color: #808000; text-decoration-color: #808000\"> VTK requires 3D points, but 2D points given. Appending </span><span style=\"color: #808000; text-decoration-color: #808000; font-weight: bold\">0</span><span style=\"color: #808000; text-decoration-color: #808000\"> third component.</span>\n",
       "</pre>\n"
      ],
      "text/plain": [
       "\u001b[1;33mWarning:\u001b[0m\u001b[33m VTK requires 3D points, but 2D points given. Appending \u001b[0m\u001b[1;33m0\u001b[0m\u001b[33m third component.\u001b[0m\n"
      ]
     },
     "metadata": {},
     "output_type": "display_data"
    },
    {
     "name": "stdout",
     "output_type": "stream",
     "text": [
      "Phase: 192, D max: 3.0, Mean Stiffness: 99.24296899148717\n"
     ]
    },
    {
     "data": {
      "text/html": [
       "<pre style=\"white-space:pre;overflow-x:auto;line-height:normal;font-family:Menlo,'DejaVu Sans Mono',consolas,'Courier New',monospace\"><span style=\"color: #808000; text-decoration-color: #808000; font-weight: bold\">Warning:</span><span style=\"color: #808000; text-decoration-color: #808000\"> VTK requires 3D points, but 2D points given. Appending </span><span style=\"color: #808000; text-decoration-color: #808000; font-weight: bold\">0</span><span style=\"color: #808000; text-decoration-color: #808000\"> third component.</span>\n",
       "</pre>\n"
      ],
      "text/plain": [
       "\u001b[1;33mWarning:\u001b[0m\u001b[33m VTK requires 3D points, but 2D points given. Appending \u001b[0m\u001b[1;33m0\u001b[0m\u001b[33m third component.\u001b[0m\n"
      ]
     },
     "metadata": {},
     "output_type": "display_data"
    },
    {
     "name": "stdout",
     "output_type": "stream",
     "text": [
      "Phase: 194, D max: 3.0, Mean Stiffness: 100.66869255784557\n"
     ]
    },
    {
     "data": {
      "text/html": [
       "<pre style=\"white-space:pre;overflow-x:auto;line-height:normal;font-family:Menlo,'DejaVu Sans Mono',consolas,'Courier New',monospace\"><span style=\"color: #808000; text-decoration-color: #808000; font-weight: bold\">Warning:</span><span style=\"color: #808000; text-decoration-color: #808000\"> VTK requires 3D points, but 2D points given. Appending </span><span style=\"color: #808000; text-decoration-color: #808000; font-weight: bold\">0</span><span style=\"color: #808000; text-decoration-color: #808000\"> third component.</span>\n",
       "</pre>\n"
      ],
      "text/plain": [
       "\u001b[1;33mWarning:\u001b[0m\u001b[33m VTK requires 3D points, but 2D points given. Appending \u001b[0m\u001b[1;33m0\u001b[0m\u001b[33m third component.\u001b[0m\n"
      ]
     },
     "metadata": {},
     "output_type": "display_data"
    },
    {
     "name": "stdout",
     "output_type": "stream",
     "text": [
      "Phase: 196, D max: 3.0, Mean Stiffness: 102.08688472440598\n"
     ]
    },
    {
     "data": {
      "text/html": [
       "<pre style=\"white-space:pre;overflow-x:auto;line-height:normal;font-family:Menlo,'DejaVu Sans Mono',consolas,'Courier New',monospace\"><span style=\"color: #808000; text-decoration-color: #808000; font-weight: bold\">Warning:</span><span style=\"color: #808000; text-decoration-color: #808000\"> VTK requires 3D points, but 2D points given. Appending </span><span style=\"color: #808000; text-decoration-color: #808000; font-weight: bold\">0</span><span style=\"color: #808000; text-decoration-color: #808000\"> third component.</span>\n",
       "</pre>\n"
      ],
      "text/plain": [
       "\u001b[1;33mWarning:\u001b[0m\u001b[33m VTK requires 3D points, but 2D points given. Appending \u001b[0m\u001b[1;33m0\u001b[0m\u001b[33m third component.\u001b[0m\n"
      ]
     },
     "metadata": {},
     "output_type": "display_data"
    },
    {
     "name": "stdout",
     "output_type": "stream",
     "text": [
      "Phase: 198, D max: 3.0, Mean Stiffness: 103.49746605199005\n"
     ]
    },
    {
     "data": {
      "text/html": [
       "<pre style=\"white-space:pre;overflow-x:auto;line-height:normal;font-family:Menlo,'DejaVu Sans Mono',consolas,'Courier New',monospace\"><span style=\"color: #808000; text-decoration-color: #808000; font-weight: bold\">Warning:</span><span style=\"color: #808000; text-decoration-color: #808000\"> VTK requires 3D points, but 2D points given. Appending </span><span style=\"color: #808000; text-decoration-color: #808000; font-weight: bold\">0</span><span style=\"color: #808000; text-decoration-color: #808000\"> third component.</span>\n",
       "</pre>\n"
      ],
      "text/plain": [
       "\u001b[1;33mWarning:\u001b[0m\u001b[33m VTK requires 3D points, but 2D points given. Appending \u001b[0m\u001b[1;33m0\u001b[0m\u001b[33m third component.\u001b[0m\n"
      ]
     },
     "metadata": {},
     "output_type": "display_data"
    },
    {
     "name": "stdout",
     "output_type": "stream",
     "text": [
      "Phase: 200, D max: 3.0, Mean Stiffness: 104.90036763534589\n"
     ]
    },
    {
     "data": {
      "text/html": [
       "<pre style=\"white-space:pre;overflow-x:auto;line-height:normal;font-family:Menlo,'DejaVu Sans Mono',consolas,'Courier New',monospace\"><span style=\"color: #808000; text-decoration-color: #808000; font-weight: bold\">Warning:</span><span style=\"color: #808000; text-decoration-color: #808000\"> VTK requires 3D points, but 2D points given. Appending </span><span style=\"color: #808000; text-decoration-color: #808000; font-weight: bold\">0</span><span style=\"color: #808000; text-decoration-color: #808000\"> third component.</span>\n",
       "</pre>\n"
      ],
      "text/plain": [
       "\u001b[1;33mWarning:\u001b[0m\u001b[33m VTK requires 3D points, but 2D points given. Appending \u001b[0m\u001b[1;33m0\u001b[0m\u001b[33m third component.\u001b[0m\n"
      ]
     },
     "metadata": {},
     "output_type": "display_data"
    },
    {
     "name": "stdout",
     "output_type": "stream",
     "text": [
      "Phase: 202, D max: 3.0, Mean Stiffness: 106.29552923475441\n"
     ]
    },
    {
     "data": {
      "text/html": [
       "<pre style=\"white-space:pre;overflow-x:auto;line-height:normal;font-family:Menlo,'DejaVu Sans Mono',consolas,'Courier New',monospace\"><span style=\"color: #808000; text-decoration-color: #808000; font-weight: bold\">Warning:</span><span style=\"color: #808000; text-decoration-color: #808000\"> VTK requires 3D points, but 2D points given. Appending </span><span style=\"color: #808000; text-decoration-color: #808000; font-weight: bold\">0</span><span style=\"color: #808000; text-decoration-color: #808000\"> third component.</span>\n",
       "</pre>\n"
      ],
      "text/plain": [
       "\u001b[1;33mWarning:\u001b[0m\u001b[33m VTK requires 3D points, but 2D points given. Appending \u001b[0m\u001b[1;33m0\u001b[0m\u001b[33m third component.\u001b[0m\n"
      ]
     },
     "metadata": {},
     "output_type": "display_data"
    },
    {
     "name": "stdout",
     "output_type": "stream",
     "text": [
      "Phase: 204, D max: 3.0, Mean Stiffness: 107.68289778717511\n"
     ]
    },
    {
     "data": {
      "text/html": [
       "<pre style=\"white-space:pre;overflow-x:auto;line-height:normal;font-family:Menlo,'DejaVu Sans Mono',consolas,'Courier New',monospace\"><span style=\"color: #808000; text-decoration-color: #808000; font-weight: bold\">Warning:</span><span style=\"color: #808000; text-decoration-color: #808000\"> VTK requires 3D points, but 2D points given. Appending </span><span style=\"color: #808000; text-decoration-color: #808000; font-weight: bold\">0</span><span style=\"color: #808000; text-decoration-color: #808000\"> third component.</span>\n",
       "</pre>\n"
      ],
      "text/plain": [
       "\u001b[1;33mWarning:\u001b[0m\u001b[33m VTK requires 3D points, but 2D points given. Appending \u001b[0m\u001b[1;33m0\u001b[0m\u001b[33m third component.\u001b[0m\n"
      ]
     },
     "metadata": {},
     "output_type": "display_data"
    },
    {
     "name": "stdout",
     "output_type": "stream",
     "text": [
      "Phase: 206, D max: 3.0, Mean Stiffness: 109.06242621178616\n"
     ]
    },
    {
     "data": {
      "text/html": [
       "<pre style=\"white-space:pre;overflow-x:auto;line-height:normal;font-family:Menlo,'DejaVu Sans Mono',consolas,'Courier New',monospace\"><span style=\"color: #808000; text-decoration-color: #808000; font-weight: bold\">Warning:</span><span style=\"color: #808000; text-decoration-color: #808000\"> VTK requires 3D points, but 2D points given. Appending </span><span style=\"color: #808000; text-decoration-color: #808000; font-weight: bold\">0</span><span style=\"color: #808000; text-decoration-color: #808000\"> third component.</span>\n",
       "</pre>\n"
      ],
      "text/plain": [
       "\u001b[1;33mWarning:\u001b[0m\u001b[33m VTK requires 3D points, but 2D points given. Appending \u001b[0m\u001b[1;33m0\u001b[0m\u001b[33m third component.\u001b[0m\n"
      ]
     },
     "metadata": {},
     "output_type": "display_data"
    },
    {
     "name": "stdout",
     "output_type": "stream",
     "text": [
      "Phase: 208, D max: 3.0, Mean Stiffness: 110.43407244532769\n"
     ]
    },
    {
     "data": {
      "text/html": [
       "<pre style=\"white-space:pre;overflow-x:auto;line-height:normal;font-family:Menlo,'DejaVu Sans Mono',consolas,'Courier New',monospace\"><span style=\"color: #808000; text-decoration-color: #808000; font-weight: bold\">Warning:</span><span style=\"color: #808000; text-decoration-color: #808000\"> VTK requires 3D points, but 2D points given. Appending </span><span style=\"color: #808000; text-decoration-color: #808000; font-weight: bold\">0</span><span style=\"color: #808000; text-decoration-color: #808000\"> third component.</span>\n",
       "</pre>\n"
      ],
      "text/plain": [
       "\u001b[1;33mWarning:\u001b[0m\u001b[33m VTK requires 3D points, but 2D points given. Appending \u001b[0m\u001b[1;33m0\u001b[0m\u001b[33m third component.\u001b[0m\n"
      ]
     },
     "metadata": {},
     "output_type": "display_data"
    },
    {
     "name": "stdout",
     "output_type": "stream",
     "text": [
      "Phase: 210, D max: 3.0, Mean Stiffness: 111.79779865801369\n"
     ]
    },
    {
     "data": {
      "text/html": [
       "<pre style=\"white-space:pre;overflow-x:auto;line-height:normal;font-family:Menlo,'DejaVu Sans Mono',consolas,'Courier New',monospace\"><span style=\"color: #808000; text-decoration-color: #808000; font-weight: bold\">Warning:</span><span style=\"color: #808000; text-decoration-color: #808000\"> VTK requires 3D points, but 2D points given. Appending </span><span style=\"color: #808000; text-decoration-color: #808000; font-weight: bold\">0</span><span style=\"color: #808000; text-decoration-color: #808000\"> third component.</span>\n",
       "</pre>\n"
      ],
      "text/plain": [
       "\u001b[1;33mWarning:\u001b[0m\u001b[33m VTK requires 3D points, but 2D points given. Appending \u001b[0m\u001b[1;33m0\u001b[0m\u001b[33m third component.\u001b[0m\n"
      ]
     },
     "metadata": {},
     "output_type": "display_data"
    },
    {
     "name": "stdout",
     "output_type": "stream",
     "text": [
      "Phase: 212, D max: 3.0, Mean Stiffness: 113.15357061226817\n"
     ]
    },
    {
     "data": {
      "text/html": [
       "<pre style=\"white-space:pre;overflow-x:auto;line-height:normal;font-family:Menlo,'DejaVu Sans Mono',consolas,'Courier New',monospace\"><span style=\"color: #808000; text-decoration-color: #808000; font-weight: bold\">Warning:</span><span style=\"color: #808000; text-decoration-color: #808000\"> VTK requires 3D points, but 2D points given. Appending </span><span style=\"color: #808000; text-decoration-color: #808000; font-weight: bold\">0</span><span style=\"color: #808000; text-decoration-color: #808000\"> third component.</span>\n",
       "</pre>\n"
      ],
      "text/plain": [
       "\u001b[1;33mWarning:\u001b[0m\u001b[33m VTK requires 3D points, but 2D points given. Appending \u001b[0m\u001b[1;33m0\u001b[0m\u001b[33m third component.\u001b[0m\n"
      ]
     },
     "metadata": {},
     "output_type": "display_data"
    },
    {
     "name": "stdout",
     "output_type": "stream",
     "text": [
      "Phase: 214, D max: 3.0, Mean Stiffness: 114.50135713516791\n"
     ]
    },
    {
     "data": {
      "text/html": [
       "<pre style=\"white-space:pre;overflow-x:auto;line-height:normal;font-family:Menlo,'DejaVu Sans Mono',consolas,'Courier New',monospace\"><span style=\"color: #808000; text-decoration-color: #808000; font-weight: bold\">Warning:</span><span style=\"color: #808000; text-decoration-color: #808000\"> VTK requires 3D points, but 2D points given. Appending </span><span style=\"color: #808000; text-decoration-color: #808000; font-weight: bold\">0</span><span style=\"color: #808000; text-decoration-color: #808000\"> third component.</span>\n",
       "</pre>\n"
      ],
      "text/plain": [
       "\u001b[1;33mWarning:\u001b[0m\u001b[33m VTK requires 3D points, but 2D points given. Appending \u001b[0m\u001b[1;33m0\u001b[0m\u001b[33m third component.\u001b[0m\n"
      ]
     },
     "metadata": {},
     "output_type": "display_data"
    },
    {
     "name": "stdout",
     "output_type": "stream",
     "text": [
      "Phase: 216, D max: 3.0, Mean Stiffness: 115.84112968198491\n"
     ]
    },
    {
     "data": {
      "text/html": [
       "<pre style=\"white-space:pre;overflow-x:auto;line-height:normal;font-family:Menlo,'DejaVu Sans Mono',consolas,'Courier New',monospace\"><span style=\"color: #808000; text-decoration-color: #808000; font-weight: bold\">Warning:</span><span style=\"color: #808000; text-decoration-color: #808000\"> VTK requires 3D points, but 2D points given. Appending </span><span style=\"color: #808000; text-decoration-color: #808000; font-weight: bold\">0</span><span style=\"color: #808000; text-decoration-color: #808000\"> third component.</span>\n",
       "</pre>\n"
      ],
      "text/plain": [
       "\u001b[1;33mWarning:\u001b[0m\u001b[33m VTK requires 3D points, but 2D points given. Appending \u001b[0m\u001b[1;33m0\u001b[0m\u001b[33m third component.\u001b[0m\n"
      ]
     },
     "metadata": {},
     "output_type": "display_data"
    },
    {
     "name": "stdout",
     "output_type": "stream",
     "text": [
      "Phase: 218, D max: 3.0, Mean Stiffness: 117.17286197316115\n"
     ]
    },
    {
     "data": {
      "text/html": [
       "<pre style=\"white-space:pre;overflow-x:auto;line-height:normal;font-family:Menlo,'DejaVu Sans Mono',consolas,'Courier New',monospace\"><span style=\"color: #808000; text-decoration-color: #808000; font-weight: bold\">Warning:</span><span style=\"color: #808000; text-decoration-color: #808000\"> VTK requires 3D points, but 2D points given. Appending </span><span style=\"color: #808000; text-decoration-color: #808000; font-weight: bold\">0</span><span style=\"color: #808000; text-decoration-color: #808000\"> third component.</span>\n",
       "</pre>\n"
      ],
      "text/plain": [
       "\u001b[1;33mWarning:\u001b[0m\u001b[33m VTK requires 3D points, but 2D points given. Appending \u001b[0m\u001b[1;33m0\u001b[0m\u001b[33m third component.\u001b[0m\n"
      ]
     },
     "metadata": {},
     "output_type": "display_data"
    },
    {
     "name": "stdout",
     "output_type": "stream",
     "text": [
      "Phase: 220, D max: 3.0, Mean Stiffness: 118.49652969082206\n"
     ]
    },
    {
     "data": {
      "text/html": [
       "<pre style=\"white-space:pre;overflow-x:auto;line-height:normal;font-family:Menlo,'DejaVu Sans Mono',consolas,'Courier New',monospace\"><span style=\"color: #808000; text-decoration-color: #808000; font-weight: bold\">Warning:</span><span style=\"color: #808000; text-decoration-color: #808000\"> VTK requires 3D points, but 2D points given. Appending </span><span style=\"color: #808000; text-decoration-color: #808000; font-weight: bold\">0</span><span style=\"color: #808000; text-decoration-color: #808000\"> third component.</span>\n",
       "</pre>\n"
      ],
      "text/plain": [
       "\u001b[1;33mWarning:\u001b[0m\u001b[33m VTK requires 3D points, but 2D points given. Appending \u001b[0m\u001b[1;33m0\u001b[0m\u001b[33m third component.\u001b[0m\n"
      ]
     },
     "metadata": {},
     "output_type": "display_data"
    },
    {
     "name": "stdout",
     "output_type": "stream",
     "text": [
      "Phase: 222, D max: 3.0, Mean Stiffness: 119.81211022383384\n"
     ]
    },
    {
     "data": {
      "text/html": [
       "<pre style=\"white-space:pre;overflow-x:auto;line-height:normal;font-family:Menlo,'DejaVu Sans Mono',consolas,'Courier New',monospace\"><span style=\"color: #808000; text-decoration-color: #808000; font-weight: bold\">Warning:</span><span style=\"color: #808000; text-decoration-color: #808000\"> VTK requires 3D points, but 2D points given. Appending </span><span style=\"color: #808000; text-decoration-color: #808000; font-weight: bold\">0</span><span style=\"color: #808000; text-decoration-color: #808000\"> third component.</span>\n",
       "</pre>\n"
      ],
      "text/plain": [
       "\u001b[1;33mWarning:\u001b[0m\u001b[33m VTK requires 3D points, but 2D points given. Appending \u001b[0m\u001b[1;33m0\u001b[0m\u001b[33m third component.\u001b[0m\n"
      ]
     },
     "metadata": {},
     "output_type": "display_data"
    },
    {
     "name": "stdout",
     "output_type": "stream",
     "text": [
      "Phase: 224, D max: 3.0, Mean Stiffness: 121.11958245265106\n"
     ]
    },
    {
     "data": {
      "text/html": [
       "<pre style=\"white-space:pre;overflow-x:auto;line-height:normal;font-family:Menlo,'DejaVu Sans Mono',consolas,'Courier New',monospace\"><span style=\"color: #808000; text-decoration-color: #808000; font-weight: bold\">Warning:</span><span style=\"color: #808000; text-decoration-color: #808000\"> VTK requires 3D points, but 2D points given. Appending </span><span style=\"color: #808000; text-decoration-color: #808000; font-weight: bold\">0</span><span style=\"color: #808000; text-decoration-color: #808000\"> third component.</span>\n",
       "</pre>\n"
      ],
      "text/plain": [
       "\u001b[1;33mWarning:\u001b[0m\u001b[33m VTK requires 3D points, but 2D points given. Appending \u001b[0m\u001b[1;33m0\u001b[0m\u001b[33m third component.\u001b[0m\n"
      ]
     },
     "metadata": {},
     "output_type": "display_data"
    },
    {
     "name": "stdout",
     "output_type": "stream",
     "text": [
      "Phase: 226, D max: 3.0, Mean Stiffness: 122.41892656694631\n"
     ]
    },
    {
     "data": {
      "text/html": [
       "<pre style=\"white-space:pre;overflow-x:auto;line-height:normal;font-family:Menlo,'DejaVu Sans Mono',consolas,'Courier New',monospace\"><span style=\"color: #808000; text-decoration-color: #808000; font-weight: bold\">Warning:</span><span style=\"color: #808000; text-decoration-color: #808000\"> VTK requires 3D points, but 2D points given. Appending </span><span style=\"color: #808000; text-decoration-color: #808000; font-weight: bold\">0</span><span style=\"color: #808000; text-decoration-color: #808000\"> third component.</span>\n",
       "</pre>\n"
      ],
      "text/plain": [
       "\u001b[1;33mWarning:\u001b[0m\u001b[33m VTK requires 3D points, but 2D points given. Appending \u001b[0m\u001b[1;33m0\u001b[0m\u001b[33m third component.\u001b[0m\n"
      ]
     },
     "metadata": {},
     "output_type": "display_data"
    },
    {
     "name": "stdout",
     "output_type": "stream",
     "text": [
      "Phase: 228, D max: 3.0, Mean Stiffness: 123.71022217480844\n"
     ]
    },
    {
     "data": {
      "text/html": [
       "<pre style=\"white-space:pre;overflow-x:auto;line-height:normal;font-family:Menlo,'DejaVu Sans Mono',consolas,'Courier New',monospace\"><span style=\"color: #808000; text-decoration-color: #808000; font-weight: bold\">Warning:</span><span style=\"color: #808000; text-decoration-color: #808000\"> VTK requires 3D points, but 2D points given. Appending </span><span style=\"color: #808000; text-decoration-color: #808000; font-weight: bold\">0</span><span style=\"color: #808000; text-decoration-color: #808000\"> third component.</span>\n",
       "</pre>\n"
      ],
      "text/plain": [
       "\u001b[1;33mWarning:\u001b[0m\u001b[33m VTK requires 3D points, but 2D points given. Appending \u001b[0m\u001b[1;33m0\u001b[0m\u001b[33m third component.\u001b[0m\n"
      ]
     },
     "metadata": {},
     "output_type": "display_data"
    },
    {
     "name": "stdout",
     "output_type": "stream",
     "text": [
      "Phase: 230, D max: 3.0, Mean Stiffness: 124.99355421642733\n"
     ]
    },
    {
     "data": {
      "text/html": [
       "<pre style=\"white-space:pre;overflow-x:auto;line-height:normal;font-family:Menlo,'DejaVu Sans Mono',consolas,'Courier New',monospace\"><span style=\"color: #808000; text-decoration-color: #808000; font-weight: bold\">Warning:</span><span style=\"color: #808000; text-decoration-color: #808000\"> VTK requires 3D points, but 2D points given. Appending </span><span style=\"color: #808000; text-decoration-color: #808000; font-weight: bold\">0</span><span style=\"color: #808000; text-decoration-color: #808000\"> third component.</span>\n",
       "</pre>\n"
      ],
      "text/plain": [
       "\u001b[1;33mWarning:\u001b[0m\u001b[33m VTK requires 3D points, but 2D points given. Appending \u001b[0m\u001b[1;33m0\u001b[0m\u001b[33m third component.\u001b[0m\n"
      ]
     },
     "metadata": {},
     "output_type": "display_data"
    },
    {
     "name": "stdout",
     "output_type": "stream",
     "text": [
      "Phase: 232, D max: 3.0, Mean Stiffness: 126.26910849768025\n"
     ]
    },
    {
     "data": {
      "text/html": [
       "<pre style=\"white-space:pre;overflow-x:auto;line-height:normal;font-family:Menlo,'DejaVu Sans Mono',consolas,'Courier New',monospace\"><span style=\"color: #808000; text-decoration-color: #808000; font-weight: bold\">Warning:</span><span style=\"color: #808000; text-decoration-color: #808000\"> VTK requires 3D points, but 2D points given. Appending </span><span style=\"color: #808000; text-decoration-color: #808000; font-weight: bold\">0</span><span style=\"color: #808000; text-decoration-color: #808000\"> third component.</span>\n",
       "</pre>\n"
      ],
      "text/plain": [
       "\u001b[1;33mWarning:\u001b[0m\u001b[33m VTK requires 3D points, but 2D points given. Appending \u001b[0m\u001b[1;33m0\u001b[0m\u001b[33m third component.\u001b[0m\n"
      ]
     },
     "metadata": {},
     "output_type": "display_data"
    },
    {
     "name": "stdout",
     "output_type": "stream",
     "text": [
      "Phase: 234, D max: 3.0, Mean Stiffness: 127.53717739871193\n"
     ]
    },
    {
     "data": {
      "text/html": [
       "<pre style=\"white-space:pre;overflow-x:auto;line-height:normal;font-family:Menlo,'DejaVu Sans Mono',consolas,'Courier New',monospace\"><span style=\"color: #808000; text-decoration-color: #808000; font-weight: bold\">Warning:</span><span style=\"color: #808000; text-decoration-color: #808000\"> VTK requires 3D points, but 2D points given. Appending </span><span style=\"color: #808000; text-decoration-color: #808000; font-weight: bold\">0</span><span style=\"color: #808000; text-decoration-color: #808000\"> third component.</span>\n",
       "</pre>\n"
      ],
      "text/plain": [
       "\u001b[1;33mWarning:\u001b[0m\u001b[33m VTK requires 3D points, but 2D points given. Appending \u001b[0m\u001b[1;33m0\u001b[0m\u001b[33m third component.\u001b[0m\n"
      ]
     },
     "metadata": {},
     "output_type": "display_data"
    },
    {
     "name": "stdout",
     "output_type": "stream",
     "text": [
      "Phase: 236, D max: 3.0, Mean Stiffness: 128.80042666180617\n"
     ]
    },
    {
     "data": {
      "text/html": [
       "<pre style=\"white-space:pre;overflow-x:auto;line-height:normal;font-family:Menlo,'DejaVu Sans Mono',consolas,'Courier New',monospace\"><span style=\"color: #808000; text-decoration-color: #808000; font-weight: bold\">Warning:</span><span style=\"color: #808000; text-decoration-color: #808000\"> VTK requires 3D points, but 2D points given. Appending </span><span style=\"color: #808000; text-decoration-color: #808000; font-weight: bold\">0</span><span style=\"color: #808000; text-decoration-color: #808000\"> third component.</span>\n",
       "</pre>\n"
      ],
      "text/plain": [
       "\u001b[1;33mWarning:\u001b[0m\u001b[33m VTK requires 3D points, but 2D points given. Appending \u001b[0m\u001b[1;33m0\u001b[0m\u001b[33m third component.\u001b[0m\n"
      ]
     },
     "metadata": {},
     "output_type": "display_data"
    },
    {
     "name": "stdout",
     "output_type": "stream",
     "text": [
      "Phase: 238, D max: 3.0, Mean Stiffness: 130.06132245708906\n"
     ]
    },
    {
     "data": {
      "text/html": [
       "<pre style=\"white-space:pre;overflow-x:auto;line-height:normal;font-family:Menlo,'DejaVu Sans Mono',consolas,'Courier New',monospace\"><span style=\"color: #808000; text-decoration-color: #808000; font-weight: bold\">Warning:</span><span style=\"color: #808000; text-decoration-color: #808000\"> VTK requires 3D points, but 2D points given. Appending </span><span style=\"color: #808000; text-decoration-color: #808000; font-weight: bold\">0</span><span style=\"color: #808000; text-decoration-color: #808000\"> third component.</span>\n",
       "</pre>\n"
      ],
      "text/plain": [
       "\u001b[1;33mWarning:\u001b[0m\u001b[33m VTK requires 3D points, but 2D points given. Appending \u001b[0m\u001b[1;33m0\u001b[0m\u001b[33m third component.\u001b[0m\n"
      ]
     },
     "metadata": {},
     "output_type": "display_data"
    },
    {
     "name": "stdout",
     "output_type": "stream",
     "text": [
      "Phase: 240, D max: 3.0, Mean Stiffness: 131.3259401914914\n"
     ]
    },
    {
     "data": {
      "text/html": [
       "<pre style=\"white-space:pre;overflow-x:auto;line-height:normal;font-family:Menlo,'DejaVu Sans Mono',consolas,'Courier New',monospace\"><span style=\"color: #808000; text-decoration-color: #808000; font-weight: bold\">Warning:</span><span style=\"color: #808000; text-decoration-color: #808000\"> VTK requires 3D points, but 2D points given. Appending </span><span style=\"color: #808000; text-decoration-color: #808000; font-weight: bold\">0</span><span style=\"color: #808000; text-decoration-color: #808000\"> third component.</span>\n",
       "</pre>\n"
      ],
      "text/plain": [
       "\u001b[1;33mWarning:\u001b[0m\u001b[33m VTK requires 3D points, but 2D points given. Appending \u001b[0m\u001b[1;33m0\u001b[0m\u001b[33m third component.\u001b[0m\n"
      ]
     },
     "metadata": {},
     "output_type": "display_data"
    },
    {
     "name": "stdout",
     "output_type": "stream",
     "text": [
      "Phase: 242, D max: 3.0, Mean Stiffness: 132.60196111491092\n"
     ]
    },
    {
     "data": {
      "text/html": [
       "<pre style=\"white-space:pre;overflow-x:auto;line-height:normal;font-family:Menlo,'DejaVu Sans Mono',consolas,'Courier New',monospace\"><span style=\"color: #808000; text-decoration-color: #808000; font-weight: bold\">Warning:</span><span style=\"color: #808000; text-decoration-color: #808000\"> VTK requires 3D points, but 2D points given. Appending </span><span style=\"color: #808000; text-decoration-color: #808000; font-weight: bold\">0</span><span style=\"color: #808000; text-decoration-color: #808000\"> third component.</span>\n",
       "</pre>\n"
      ],
      "text/plain": [
       "\u001b[1;33mWarning:\u001b[0m\u001b[33m VTK requires 3D points, but 2D points given. Appending \u001b[0m\u001b[1;33m0\u001b[0m\u001b[33m third component.\u001b[0m\n"
      ]
     },
     "metadata": {},
     "output_type": "display_data"
    },
    {
     "name": "stdout",
     "output_type": "stream",
     "text": [
      "Phase: 244, D max: 3.0, Mean Stiffness: 133.8997311428695\n"
     ]
    },
    {
     "data": {
      "text/html": [
       "<pre style=\"white-space:pre;overflow-x:auto;line-height:normal;font-family:Menlo,'DejaVu Sans Mono',consolas,'Courier New',monospace\"><span style=\"color: #808000; text-decoration-color: #808000; font-weight: bold\">Warning:</span><span style=\"color: #808000; text-decoration-color: #808000\"> VTK requires 3D points, but 2D points given. Appending </span><span style=\"color: #808000; text-decoration-color: #808000; font-weight: bold\">0</span><span style=\"color: #808000; text-decoration-color: #808000\"> third component.</span>\n",
       "</pre>\n"
      ],
      "text/plain": [
       "\u001b[1;33mWarning:\u001b[0m\u001b[33m VTK requires 3D points, but 2D points given. Appending \u001b[0m\u001b[1;33m0\u001b[0m\u001b[33m third component.\u001b[0m\n"
      ]
     },
     "metadata": {},
     "output_type": "display_data"
    },
    {
     "name": "stdout",
     "output_type": "stream",
     "text": [
      "Phase: 246, D max: 3.0, Mean Stiffness: 135.24061082919113\n"
     ]
    },
    {
     "data": {
      "text/html": [
       "<pre style=\"white-space:pre;overflow-x:auto;line-height:normal;font-family:Menlo,'DejaVu Sans Mono',consolas,'Courier New',monospace\"><span style=\"color: #808000; text-decoration-color: #808000; font-weight: bold\">Warning:</span><span style=\"color: #808000; text-decoration-color: #808000\"> VTK requires 3D points, but 2D points given. Appending </span><span style=\"color: #808000; text-decoration-color: #808000; font-weight: bold\">0</span><span style=\"color: #808000; text-decoration-color: #808000\"> third component.</span>\n",
       "</pre>\n"
      ],
      "text/plain": [
       "\u001b[1;33mWarning:\u001b[0m\u001b[33m VTK requires 3D points, but 2D points given. Appending \u001b[0m\u001b[1;33m0\u001b[0m\u001b[33m third component.\u001b[0m\n"
      ]
     },
     "metadata": {},
     "output_type": "display_data"
    },
    {
     "name": "stdout",
     "output_type": "stream",
     "text": [
      "Phase: 248, D max: 3.0, Mean Stiffness: 136.6417682197493\n"
     ]
    },
    {
     "data": {
      "text/html": [
       "<pre style=\"white-space:pre;overflow-x:auto;line-height:normal;font-family:Menlo,'DejaVu Sans Mono',consolas,'Courier New',monospace\"><span style=\"color: #808000; text-decoration-color: #808000; font-weight: bold\">Warning:</span><span style=\"color: #808000; text-decoration-color: #808000\"> VTK requires 3D points, but 2D points given. Appending </span><span style=\"color: #808000; text-decoration-color: #808000; font-weight: bold\">0</span><span style=\"color: #808000; text-decoration-color: #808000\"> third component.</span>\n",
       "</pre>\n"
      ],
      "text/plain": [
       "\u001b[1;33mWarning:\u001b[0m\u001b[33m VTK requires 3D points, but 2D points given. Appending \u001b[0m\u001b[1;33m0\u001b[0m\u001b[33m third component.\u001b[0m\n"
      ]
     },
     "metadata": {},
     "output_type": "display_data"
    },
    {
     "name": "stdout",
     "output_type": "stream",
     "text": [
      "Phase: 250, D max: 3.0, Mean Stiffness: 138.09702102932516\n"
     ]
    },
    {
     "data": {
      "text/html": [
       "<pre style=\"white-space:pre;overflow-x:auto;line-height:normal;font-family:Menlo,'DejaVu Sans Mono',consolas,'Courier New',monospace\"><span style=\"color: #808000; text-decoration-color: #808000; font-weight: bold\">Warning:</span><span style=\"color: #808000; text-decoration-color: #808000\"> VTK requires 3D points, but 2D points given. Appending </span><span style=\"color: #808000; text-decoration-color: #808000; font-weight: bold\">0</span><span style=\"color: #808000; text-decoration-color: #808000\"> third component.</span>\n",
       "</pre>\n"
      ],
      "text/plain": [
       "\u001b[1;33mWarning:\u001b[0m\u001b[33m VTK requires 3D points, but 2D points given. Appending \u001b[0m\u001b[1;33m0\u001b[0m\u001b[33m third component.\u001b[0m\n"
      ]
     },
     "metadata": {},
     "output_type": "display_data"
    },
    {
     "name": "stdout",
     "output_type": "stream",
     "text": [
      "Phase: 252, D max: 3.0, Mean Stiffness: 139.58590392068135\n"
     ]
    },
    {
     "data": {
      "text/html": [
       "<pre style=\"white-space:pre;overflow-x:auto;line-height:normal;font-family:Menlo,'DejaVu Sans Mono',consolas,'Courier New',monospace\"><span style=\"color: #808000; text-decoration-color: #808000; font-weight: bold\">Warning:</span><span style=\"color: #808000; text-decoration-color: #808000\"> VTK requires 3D points, but 2D points given. Appending </span><span style=\"color: #808000; text-decoration-color: #808000; font-weight: bold\">0</span><span style=\"color: #808000; text-decoration-color: #808000\"> third component.</span>\n",
       "</pre>\n"
      ],
      "text/plain": [
       "\u001b[1;33mWarning:\u001b[0m\u001b[33m VTK requires 3D points, but 2D points given. Appending \u001b[0m\u001b[1;33m0\u001b[0m\u001b[33m third component.\u001b[0m\n"
      ]
     },
     "metadata": {},
     "output_type": "display_data"
    },
    {
     "name": "stdout",
     "output_type": "stream",
     "text": [
      "Phase: 254, D max: 3.0, Mean Stiffness: 141.09747169766771\n"
     ]
    },
    {
     "data": {
      "text/html": [
       "<pre style=\"white-space:pre;overflow-x:auto;line-height:normal;font-family:Menlo,'DejaVu Sans Mono',consolas,'Courier New',monospace\"><span style=\"color: #808000; text-decoration-color: #808000; font-weight: bold\">Warning:</span><span style=\"color: #808000; text-decoration-color: #808000\"> VTK requires 3D points, but 2D points given. Appending </span><span style=\"color: #808000; text-decoration-color: #808000; font-weight: bold\">0</span><span style=\"color: #808000; text-decoration-color: #808000\"> third component.</span>\n",
       "</pre>\n"
      ],
      "text/plain": [
       "\u001b[1;33mWarning:\u001b[0m\u001b[33m VTK requires 3D points, but 2D points given. Appending \u001b[0m\u001b[1;33m0\u001b[0m\u001b[33m third component.\u001b[0m\n"
      ]
     },
     "metadata": {},
     "output_type": "display_data"
    },
    {
     "name": "stdout",
     "output_type": "stream",
     "text": [
      "Phase: 256, D max: 3.0, Mean Stiffness: 142.62479276251162\n"
     ]
    },
    {
     "data": {
      "text/html": [
       "<pre style=\"white-space:pre;overflow-x:auto;line-height:normal;font-family:Menlo,'DejaVu Sans Mono',consolas,'Courier New',monospace\"><span style=\"color: #808000; text-decoration-color: #808000; font-weight: bold\">Warning:</span><span style=\"color: #808000; text-decoration-color: #808000\"> VTK requires 3D points, but 2D points given. Appending </span><span style=\"color: #808000; text-decoration-color: #808000; font-weight: bold\">0</span><span style=\"color: #808000; text-decoration-color: #808000\"> third component.</span>\n",
       "</pre>\n"
      ],
      "text/plain": [
       "\u001b[1;33mWarning:\u001b[0m\u001b[33m VTK requires 3D points, but 2D points given. Appending \u001b[0m\u001b[1;33m0\u001b[0m\u001b[33m third component.\u001b[0m\n"
      ]
     },
     "metadata": {},
     "output_type": "display_data"
    },
    {
     "name": "stdout",
     "output_type": "stream",
     "text": [
      "Phase: 258, D max: 3.0, Mean Stiffness: 144.1632844761266\n"
     ]
    },
    {
     "data": {
      "text/html": [
       "<pre style=\"white-space:pre;overflow-x:auto;line-height:normal;font-family:Menlo,'DejaVu Sans Mono',consolas,'Courier New',monospace\"><span style=\"color: #808000; text-decoration-color: #808000; font-weight: bold\">Warning:</span><span style=\"color: #808000; text-decoration-color: #808000\"> VTK requires 3D points, but 2D points given. Appending </span><span style=\"color: #808000; text-decoration-color: #808000; font-weight: bold\">0</span><span style=\"color: #808000; text-decoration-color: #808000\"> third component.</span>\n",
       "</pre>\n"
      ],
      "text/plain": [
       "\u001b[1;33mWarning:\u001b[0m\u001b[33m VTK requires 3D points, but 2D points given. Appending \u001b[0m\u001b[1;33m0\u001b[0m\u001b[33m third component.\u001b[0m\n"
      ]
     },
     "metadata": {},
     "output_type": "display_data"
    },
    {
     "name": "stdout",
     "output_type": "stream",
     "text": [
      "Phase: 260, D max: 3.0, Mean Stiffness: 145.71271975690954\n"
     ]
    },
    {
     "data": {
      "text/html": [
       "<pre style=\"white-space:pre;overflow-x:auto;line-height:normal;font-family:Menlo,'DejaVu Sans Mono',consolas,'Courier New',monospace\"><span style=\"color: #808000; text-decoration-color: #808000; font-weight: bold\">Warning:</span><span style=\"color: #808000; text-decoration-color: #808000\"> VTK requires 3D points, but 2D points given. Appending </span><span style=\"color: #808000; text-decoration-color: #808000; font-weight: bold\">0</span><span style=\"color: #808000; text-decoration-color: #808000\"> third component.</span>\n",
       "</pre>\n"
      ],
      "text/plain": [
       "\u001b[1;33mWarning:\u001b[0m\u001b[33m VTK requires 3D points, but 2D points given. Appending \u001b[0m\u001b[1;33m0\u001b[0m\u001b[33m third component.\u001b[0m\n"
      ]
     },
     "metadata": {},
     "output_type": "display_data"
    },
    {
     "name": "stdout",
     "output_type": "stream",
     "text": [
      "Phase: 262, D max: 3.0, Mean Stiffness: 147.2706998582539\n"
     ]
    },
    {
     "data": {
      "text/html": [
       "<pre style=\"white-space:pre;overflow-x:auto;line-height:normal;font-family:Menlo,'DejaVu Sans Mono',consolas,'Courier New',monospace\"><span style=\"color: #808000; text-decoration-color: #808000; font-weight: bold\">Warning:</span><span style=\"color: #808000; text-decoration-color: #808000\"> VTK requires 3D points, but 2D points given. Appending </span><span style=\"color: #808000; text-decoration-color: #808000; font-weight: bold\">0</span><span style=\"color: #808000; text-decoration-color: #808000\"> third component.</span>\n",
       "</pre>\n"
      ],
      "text/plain": [
       "\u001b[1;33mWarning:\u001b[0m\u001b[33m VTK requires 3D points, but 2D points given. Appending \u001b[0m\u001b[1;33m0\u001b[0m\u001b[33m third component.\u001b[0m\n"
      ]
     },
     "metadata": {},
     "output_type": "display_data"
    },
    {
     "name": "stdout",
     "output_type": "stream",
     "text": [
      "Phase: 264, D max: 3.0, Mean Stiffness: 148.83530668708772\n"
     ]
    },
    {
     "data": {
      "text/html": [
       "<pre style=\"white-space:pre;overflow-x:auto;line-height:normal;font-family:Menlo,'DejaVu Sans Mono',consolas,'Courier New',monospace\"><span style=\"color: #808000; text-decoration-color: #808000; font-weight: bold\">Warning:</span><span style=\"color: #808000; text-decoration-color: #808000\"> VTK requires 3D points, but 2D points given. Appending </span><span style=\"color: #808000; text-decoration-color: #808000; font-weight: bold\">0</span><span style=\"color: #808000; text-decoration-color: #808000\"> third component.</span>\n",
       "</pre>\n"
      ],
      "text/plain": [
       "\u001b[1;33mWarning:\u001b[0m\u001b[33m VTK requires 3D points, but 2D points given. Appending \u001b[0m\u001b[1;33m0\u001b[0m\u001b[33m third component.\u001b[0m\n"
      ]
     },
     "metadata": {},
     "output_type": "display_data"
    },
    {
     "name": "stdout",
     "output_type": "stream",
     "text": [
      "Phase: 266, D max: 3.0, Mean Stiffness: 150.40577569500252\n"
     ]
    },
    {
     "data": {
      "text/html": [
       "<pre style=\"white-space:pre;overflow-x:auto;line-height:normal;font-family:Menlo,'DejaVu Sans Mono',consolas,'Courier New',monospace\"><span style=\"color: #808000; text-decoration-color: #808000; font-weight: bold\">Warning:</span><span style=\"color: #808000; text-decoration-color: #808000\"> VTK requires 3D points, but 2D points given. Appending </span><span style=\"color: #808000; text-decoration-color: #808000; font-weight: bold\">0</span><span style=\"color: #808000; text-decoration-color: #808000\"> third component.</span>\n",
       "</pre>\n"
      ],
      "text/plain": [
       "\u001b[1;33mWarning:\u001b[0m\u001b[33m VTK requires 3D points, but 2D points given. Appending \u001b[0m\u001b[1;33m0\u001b[0m\u001b[33m third component.\u001b[0m\n"
      ]
     },
     "metadata": {},
     "output_type": "display_data"
    },
    {
     "name": "stdout",
     "output_type": "stream",
     "text": [
      "Phase: 268, D max: 3.0, Mean Stiffness: 151.98169212922005\n"
     ]
    },
    {
     "data": {
      "text/html": [
       "<pre style=\"white-space:pre;overflow-x:auto;line-height:normal;font-family:Menlo,'DejaVu Sans Mono',consolas,'Courier New',monospace\"><span style=\"color: #808000; text-decoration-color: #808000; font-weight: bold\">Warning:</span><span style=\"color: #808000; text-decoration-color: #808000\"> VTK requires 3D points, but 2D points given. Appending </span><span style=\"color: #808000; text-decoration-color: #808000; font-weight: bold\">0</span><span style=\"color: #808000; text-decoration-color: #808000\"> third component.</span>\n",
       "</pre>\n"
      ],
      "text/plain": [
       "\u001b[1;33mWarning:\u001b[0m\u001b[33m VTK requires 3D points, but 2D points given. Appending \u001b[0m\u001b[1;33m0\u001b[0m\u001b[33m third component.\u001b[0m\n"
      ]
     },
     "metadata": {},
     "output_type": "display_data"
    },
    {
     "name": "stdout",
     "output_type": "stream",
     "text": [
      "Phase: 270, D max: 3.0, Mean Stiffness: 153.5616166061672\n"
     ]
    },
    {
     "data": {
      "text/html": [
       "<pre style=\"white-space:pre;overflow-x:auto;line-height:normal;font-family:Menlo,'DejaVu Sans Mono',consolas,'Courier New',monospace\"><span style=\"color: #808000; text-decoration-color: #808000; font-weight: bold\">Warning:</span><span style=\"color: #808000; text-decoration-color: #808000\"> VTK requires 3D points, but 2D points given. Appending </span><span style=\"color: #808000; text-decoration-color: #808000; font-weight: bold\">0</span><span style=\"color: #808000; text-decoration-color: #808000\"> third component.</span>\n",
       "</pre>\n"
      ],
      "text/plain": [
       "\u001b[1;33mWarning:\u001b[0m\u001b[33m VTK requires 3D points, but 2D points given. Appending \u001b[0m\u001b[1;33m0\u001b[0m\u001b[33m third component.\u001b[0m\n"
      ]
     },
     "metadata": {},
     "output_type": "display_data"
    },
    {
     "name": "stdout",
     "output_type": "stream",
     "text": [
      "Phase: 272, D max: 3.0, Mean Stiffness: 155.14505665045823\n"
     ]
    },
    {
     "data": {
      "text/html": [
       "<pre style=\"white-space:pre;overflow-x:auto;line-height:normal;font-family:Menlo,'DejaVu Sans Mono',consolas,'Courier New',monospace\"><span style=\"color: #808000; text-decoration-color: #808000; font-weight: bold\">Warning:</span><span style=\"color: #808000; text-decoration-color: #808000\"> VTK requires 3D points, but 2D points given. Appending </span><span style=\"color: #808000; text-decoration-color: #808000; font-weight: bold\">0</span><span style=\"color: #808000; text-decoration-color: #808000\"> third component.</span>\n",
       "</pre>\n"
      ],
      "text/plain": [
       "\u001b[1;33mWarning:\u001b[0m\u001b[33m VTK requires 3D points, but 2D points given. Appending \u001b[0m\u001b[1;33m0\u001b[0m\u001b[33m third component.\u001b[0m\n"
      ]
     },
     "metadata": {},
     "output_type": "display_data"
    },
    {
     "name": "stdout",
     "output_type": "stream",
     "text": [
      "Phase: 274, D max: 3.0, Mean Stiffness: 156.73139941918063\n"
     ]
    },
    {
     "data": {
      "text/html": [
       "<pre style=\"white-space:pre;overflow-x:auto;line-height:normal;font-family:Menlo,'DejaVu Sans Mono',consolas,'Courier New',monospace\"><span style=\"color: #808000; text-decoration-color: #808000; font-weight: bold\">Warning:</span><span style=\"color: #808000; text-decoration-color: #808000\"> VTK requires 3D points, but 2D points given. Appending </span><span style=\"color: #808000; text-decoration-color: #808000; font-weight: bold\">0</span><span style=\"color: #808000; text-decoration-color: #808000\"> third component.</span>\n",
       "</pre>\n"
      ],
      "text/plain": [
       "\u001b[1;33mWarning:\u001b[0m\u001b[33m VTK requires 3D points, but 2D points given. Appending \u001b[0m\u001b[1;33m0\u001b[0m\u001b[33m third component.\u001b[0m\n"
      ]
     },
     "metadata": {},
     "output_type": "display_data"
    },
    {
     "name": "stdout",
     "output_type": "stream",
     "text": [
      "Phase: 276, D max: 3.0, Mean Stiffness: 158.32071946181784\n"
     ]
    },
    {
     "data": {
      "text/html": [
       "<pre style=\"white-space:pre;overflow-x:auto;line-height:normal;font-family:Menlo,'DejaVu Sans Mono',consolas,'Courier New',monospace\"><span style=\"color: #808000; text-decoration-color: #808000; font-weight: bold\">Warning:</span><span style=\"color: #808000; text-decoration-color: #808000\"> VTK requires 3D points, but 2D points given. Appending </span><span style=\"color: #808000; text-decoration-color: #808000; font-weight: bold\">0</span><span style=\"color: #808000; text-decoration-color: #808000\"> third component.</span>\n",
       "</pre>\n"
      ],
      "text/plain": [
       "\u001b[1;33mWarning:\u001b[0m\u001b[33m VTK requires 3D points, but 2D points given. Appending \u001b[0m\u001b[1;33m0\u001b[0m\u001b[33m third component.\u001b[0m\n"
      ]
     },
     "metadata": {},
     "output_type": "display_data"
    },
    {
     "name": "stdout",
     "output_type": "stream",
     "text": [
      "Phase: 278, D max: 3.0, Mean Stiffness: 159.91299480218717\n"
     ]
    },
    {
     "data": {
      "text/html": [
       "<pre style=\"white-space:pre;overflow-x:auto;line-height:normal;font-family:Menlo,'DejaVu Sans Mono',consolas,'Courier New',monospace\"><span style=\"color: #808000; text-decoration-color: #808000; font-weight: bold\">Warning:</span><span style=\"color: #808000; text-decoration-color: #808000\"> VTK requires 3D points, but 2D points given. Appending </span><span style=\"color: #808000; text-decoration-color: #808000; font-weight: bold\">0</span><span style=\"color: #808000; text-decoration-color: #808000\"> third component.</span>\n",
       "</pre>\n"
      ],
      "text/plain": [
       "\u001b[1;33mWarning:\u001b[0m\u001b[33m VTK requires 3D points, but 2D points given. Appending \u001b[0m\u001b[1;33m0\u001b[0m\u001b[33m third component.\u001b[0m\n"
      ]
     },
     "metadata": {},
     "output_type": "display_data"
    },
    {
     "name": "stdout",
     "output_type": "stream",
     "text": [
      "Phase: 280, D max: 3.0, Mean Stiffness: 161.507997270989\n"
     ]
    },
    {
     "data": {
      "text/html": [
       "<pre style=\"white-space:pre;overflow-x:auto;line-height:normal;font-family:Menlo,'DejaVu Sans Mono',consolas,'Courier New',monospace\"><span style=\"color: #808000; text-decoration-color: #808000; font-weight: bold\">Warning:</span><span style=\"color: #808000; text-decoration-color: #808000\"> VTK requires 3D points, but 2D points given. Appending </span><span style=\"color: #808000; text-decoration-color: #808000; font-weight: bold\">0</span><span style=\"color: #808000; text-decoration-color: #808000\"> third component.</span>\n",
       "</pre>\n"
      ],
      "text/plain": [
       "\u001b[1;33mWarning:\u001b[0m\u001b[33m VTK requires 3D points, but 2D points given. Appending \u001b[0m\u001b[1;33m0\u001b[0m\u001b[33m third component.\u001b[0m\n"
      ]
     },
     "metadata": {},
     "output_type": "display_data"
    },
    {
     "name": "stdout",
     "output_type": "stream",
     "text": [
      "Phase: 282, D max: 3.0, Mean Stiffness: 163.1059038983151\n"
     ]
    },
    {
     "data": {
      "text/html": [
       "<pre style=\"white-space:pre;overflow-x:auto;line-height:normal;font-family:Menlo,'DejaVu Sans Mono',consolas,'Courier New',monospace\"><span style=\"color: #808000; text-decoration-color: #808000; font-weight: bold\">Warning:</span><span style=\"color: #808000; text-decoration-color: #808000\"> VTK requires 3D points, but 2D points given. Appending </span><span style=\"color: #808000; text-decoration-color: #808000; font-weight: bold\">0</span><span style=\"color: #808000; text-decoration-color: #808000\"> third component.</span>\n",
       "</pre>\n"
      ],
      "text/plain": [
       "\u001b[1;33mWarning:\u001b[0m\u001b[33m VTK requires 3D points, but 2D points given. Appending \u001b[0m\u001b[1;33m0\u001b[0m\u001b[33m third component.\u001b[0m\n"
      ]
     },
     "metadata": {},
     "output_type": "display_data"
    },
    {
     "name": "stdout",
     "output_type": "stream",
     "text": [
      "Phase: 284, D max: 3.0, Mean Stiffness: 164.70669323709095\n"
     ]
    },
    {
     "data": {
      "text/html": [
       "<pre style=\"white-space:pre;overflow-x:auto;line-height:normal;font-family:Menlo,'DejaVu Sans Mono',consolas,'Courier New',monospace\"><span style=\"color: #808000; text-decoration-color: #808000; font-weight: bold\">Warning:</span><span style=\"color: #808000; text-decoration-color: #808000\"> VTK requires 3D points, but 2D points given. Appending </span><span style=\"color: #808000; text-decoration-color: #808000; font-weight: bold\">0</span><span style=\"color: #808000; text-decoration-color: #808000\"> third component.</span>\n",
       "</pre>\n"
      ],
      "text/plain": [
       "\u001b[1;33mWarning:\u001b[0m\u001b[33m VTK requires 3D points, but 2D points given. Appending \u001b[0m\u001b[1;33m0\u001b[0m\u001b[33m third component.\u001b[0m\n"
      ]
     },
     "metadata": {},
     "output_type": "display_data"
    },
    {
     "name": "stdout",
     "output_type": "stream",
     "text": [
      "Phase: 286, D max: 3.0, Mean Stiffness: 166.31013613147795\n"
     ]
    },
    {
     "data": {
      "text/html": [
       "<pre style=\"white-space:pre;overflow-x:auto;line-height:normal;font-family:Menlo,'DejaVu Sans Mono',consolas,'Courier New',monospace\"><span style=\"color: #808000; text-decoration-color: #808000; font-weight: bold\">Warning:</span><span style=\"color: #808000; text-decoration-color: #808000\"> VTK requires 3D points, but 2D points given. Appending </span><span style=\"color: #808000; text-decoration-color: #808000; font-weight: bold\">0</span><span style=\"color: #808000; text-decoration-color: #808000\"> third component.</span>\n",
       "</pre>\n"
      ],
      "text/plain": [
       "\u001b[1;33mWarning:\u001b[0m\u001b[33m VTK requires 3D points, but 2D points given. Appending \u001b[0m\u001b[1;33m0\u001b[0m\u001b[33m third component.\u001b[0m\n"
      ]
     },
     "metadata": {},
     "output_type": "display_data"
    },
    {
     "name": "stdout",
     "output_type": "stream",
     "text": [
      "Phase: 288, D max: 3.0, Mean Stiffness: 167.91620427337335\n"
     ]
    },
    {
     "data": {
      "text/html": [
       "<pre style=\"white-space:pre;overflow-x:auto;line-height:normal;font-family:Menlo,'DejaVu Sans Mono',consolas,'Courier New',monospace\"><span style=\"color: #808000; text-decoration-color: #808000; font-weight: bold\">Warning:</span><span style=\"color: #808000; text-decoration-color: #808000\"> VTK requires 3D points, but 2D points given. Appending </span><span style=\"color: #808000; text-decoration-color: #808000; font-weight: bold\">0</span><span style=\"color: #808000; text-decoration-color: #808000\"> third component.</span>\n",
       "</pre>\n"
      ],
      "text/plain": [
       "\u001b[1;33mWarning:\u001b[0m\u001b[33m VTK requires 3D points, but 2D points given. Appending \u001b[0m\u001b[1;33m0\u001b[0m\u001b[33m third component.\u001b[0m\n"
      ]
     },
     "metadata": {},
     "output_type": "display_data"
    },
    {
     "name": "stdout",
     "output_type": "stream",
     "text": [
      "Phase: 290, D max: 3.0, Mean Stiffness: 169.5248696596659\n"
     ]
    },
    {
     "data": {
      "text/html": [
       "<pre style=\"white-space:pre;overflow-x:auto;line-height:normal;font-family:Menlo,'DejaVu Sans Mono',consolas,'Courier New',monospace\"><span style=\"color: #808000; text-decoration-color: #808000; font-weight: bold\">Warning:</span><span style=\"color: #808000; text-decoration-color: #808000\"> VTK requires 3D points, but 2D points given. Appending </span><span style=\"color: #808000; text-decoration-color: #808000; font-weight: bold\">0</span><span style=\"color: #808000; text-decoration-color: #808000\"> third component.</span>\n",
       "</pre>\n"
      ],
      "text/plain": [
       "\u001b[1;33mWarning:\u001b[0m\u001b[33m VTK requires 3D points, but 2D points given. Appending \u001b[0m\u001b[1;33m0\u001b[0m\u001b[33m third component.\u001b[0m\n"
      ]
     },
     "metadata": {},
     "output_type": "display_data"
    },
    {
     "name": "stdout",
     "output_type": "stream",
     "text": [
      "Phase: 292, D max: 3.0, Mean Stiffness: 171.1361045849294\n"
     ]
    },
    {
     "data": {
      "text/html": [
       "<pre style=\"white-space:pre;overflow-x:auto;line-height:normal;font-family:Menlo,'DejaVu Sans Mono',consolas,'Courier New',monospace\"><span style=\"color: #808000; text-decoration-color: #808000; font-weight: bold\">Warning:</span><span style=\"color: #808000; text-decoration-color: #808000\"> VTK requires 3D points, but 2D points given. Appending </span><span style=\"color: #808000; text-decoration-color: #808000; font-weight: bold\">0</span><span style=\"color: #808000; text-decoration-color: #808000\"> third component.</span>\n",
       "</pre>\n"
      ],
      "text/plain": [
       "\u001b[1;33mWarning:\u001b[0m\u001b[33m VTK requires 3D points, but 2D points given. Appending \u001b[0m\u001b[1;33m0\u001b[0m\u001b[33m third component.\u001b[0m\n"
      ]
     },
     "metadata": {},
     "output_type": "display_data"
    },
    {
     "name": "stdout",
     "output_type": "stream",
     "text": [
      "Phase: 294, D max: 3.0, Mean Stiffness: 172.74988163462763\n"
     ]
    },
    {
     "data": {
      "text/html": [
       "<pre style=\"white-space:pre;overflow-x:auto;line-height:normal;font-family:Menlo,'DejaVu Sans Mono',consolas,'Courier New',monospace\"><span style=\"color: #808000; text-decoration-color: #808000; font-weight: bold\">Warning:</span><span style=\"color: #808000; text-decoration-color: #808000\"> VTK requires 3D points, but 2D points given. Appending </span><span style=\"color: #808000; text-decoration-color: #808000; font-weight: bold\">0</span><span style=\"color: #808000; text-decoration-color: #808000\"> third component.</span>\n",
       "</pre>\n"
      ],
      "text/plain": [
       "\u001b[1;33mWarning:\u001b[0m\u001b[33m VTK requires 3D points, but 2D points given. Appending \u001b[0m\u001b[1;33m0\u001b[0m\u001b[33m third component.\u001b[0m\n"
      ]
     },
     "metadata": {},
     "output_type": "display_data"
    },
    {
     "name": "stdout",
     "output_type": "stream",
     "text": [
      "Phase: 296, D max: 3.0, Mean Stiffness: 174.366173678782\n"
     ]
    },
    {
     "data": {
      "text/html": [
       "<pre style=\"white-space:pre;overflow-x:auto;line-height:normal;font-family:Menlo,'DejaVu Sans Mono',consolas,'Courier New',monospace\"><span style=\"color: #808000; text-decoration-color: #808000; font-weight: bold\">Warning:</span><span style=\"color: #808000; text-decoration-color: #808000\"> VTK requires 3D points, but 2D points given. Appending </span><span style=\"color: #808000; text-decoration-color: #808000; font-weight: bold\">0</span><span style=\"color: #808000; text-decoration-color: #808000\"> third component.</span>\n",
       "</pre>\n"
      ],
      "text/plain": [
       "\u001b[1;33mWarning:\u001b[0m\u001b[33m VTK requires 3D points, but 2D points given. Appending \u001b[0m\u001b[1;33m0\u001b[0m\u001b[33m third component.\u001b[0m\n"
      ]
     },
     "metadata": {},
     "output_type": "display_data"
    },
    {
     "name": "stdout",
     "output_type": "stream",
     "text": [
      "Phase: 298, D max: 3.0, Mean Stiffness: 175.98495386605524\n"
     ]
    },
    {
     "data": {
      "text/html": [
       "<pre style=\"white-space:pre;overflow-x:auto;line-height:normal;font-family:Menlo,'DejaVu Sans Mono',consolas,'Courier New',monospace\"><span style=\"color: #808000; text-decoration-color: #808000; font-weight: bold\">Warning:</span><span style=\"color: #808000; text-decoration-color: #808000\"> VTK requires 3D points, but 2D points given. Appending </span><span style=\"color: #808000; text-decoration-color: #808000; font-weight: bold\">0</span><span style=\"color: #808000; text-decoration-color: #808000\"> third component.</span>\n",
       "</pre>\n"
      ],
      "text/plain": [
       "\u001b[1;33mWarning:\u001b[0m\u001b[33m VTK requires 3D points, but 2D points given. Appending \u001b[0m\u001b[1;33m0\u001b[0m\u001b[33m third component.\u001b[0m\n"
      ]
     },
     "metadata": {},
     "output_type": "display_data"
    },
    {
     "name": "stdout",
     "output_type": "stream",
     "text": [
      "Phase: 300, D max: 3.0, Mean Stiffness: 177.6061956182135\n"
     ]
    },
    {
     "data": {
      "text/html": [
       "<pre style=\"white-space:pre;overflow-x:auto;line-height:normal;font-family:Menlo,'DejaVu Sans Mono',consolas,'Courier New',monospace\"><span style=\"color: #808000; text-decoration-color: #808000; font-weight: bold\">Warning:</span><span style=\"color: #808000; text-decoration-color: #808000\"> VTK requires 3D points, but 2D points given. Appending </span><span style=\"color: #808000; text-decoration-color: #808000; font-weight: bold\">0</span><span style=\"color: #808000; text-decoration-color: #808000\"> third component.</span>\n",
       "</pre>\n"
      ],
      "text/plain": [
       "\u001b[1;33mWarning:\u001b[0m\u001b[33m VTK requires 3D points, but 2D points given. Appending \u001b[0m\u001b[1;33m0\u001b[0m\u001b[33m third component.\u001b[0m\n"
      ]
     },
     "metadata": {},
     "output_type": "display_data"
    },
    {
     "name": "stdout",
     "output_type": "stream",
     "text": [
      "Phase: 302, D max: 3.0, Mean Stiffness: 179.22987262493027\n"
     ]
    },
    {
     "data": {
      "text/html": [
       "<pre style=\"white-space:pre;overflow-x:auto;line-height:normal;font-family:Menlo,'DejaVu Sans Mono',consolas,'Courier New',monospace\"><span style=\"color: #808000; text-decoration-color: #808000; font-weight: bold\">Warning:</span><span style=\"color: #808000; text-decoration-color: #808000\"> VTK requires 3D points, but 2D points given. Appending </span><span style=\"color: #808000; text-decoration-color: #808000; font-weight: bold\">0</span><span style=\"color: #808000; text-decoration-color: #808000\"> third component.</span>\n",
       "</pre>\n"
      ],
      "text/plain": [
       "\u001b[1;33mWarning:\u001b[0m\u001b[33m VTK requires 3D points, but 2D points given. Appending \u001b[0m\u001b[1;33m0\u001b[0m\u001b[33m third component.\u001b[0m\n"
      ]
     },
     "metadata": {},
     "output_type": "display_data"
    },
    {
     "name": "stdout",
     "output_type": "stream",
     "text": [
      "Phase: 304, D max: 3.0, Mean Stiffness: 180.8559588389009\n"
     ]
    },
    {
     "data": {
      "text/html": [
       "<pre style=\"white-space:pre;overflow-x:auto;line-height:normal;font-family:Menlo,'DejaVu Sans Mono',consolas,'Courier New',monospace\"><span style=\"color: #808000; text-decoration-color: #808000; font-weight: bold\">Warning:</span><span style=\"color: #808000; text-decoration-color: #808000\"> VTK requires 3D points, but 2D points given. Appending </span><span style=\"color: #808000; text-decoration-color: #808000; font-weight: bold\">0</span><span style=\"color: #808000; text-decoration-color: #808000\"> third component.</span>\n",
       "</pre>\n"
      ],
      "text/plain": [
       "\u001b[1;33mWarning:\u001b[0m\u001b[33m VTK requires 3D points, but 2D points given. Appending \u001b[0m\u001b[1;33m0\u001b[0m\u001b[33m third component.\u001b[0m\n"
      ]
     },
     "metadata": {},
     "output_type": "display_data"
    },
    {
     "name": "stdout",
     "output_type": "stream",
     "text": [
      "Phase: 306, D max: 3.0, Mean Stiffness: 182.4844284712403\n"
     ]
    },
    {
     "data": {
      "text/html": [
       "<pre style=\"white-space:pre;overflow-x:auto;line-height:normal;font-family:Menlo,'DejaVu Sans Mono',consolas,'Courier New',monospace\"><span style=\"color: #808000; text-decoration-color: #808000; font-weight: bold\">Warning:</span><span style=\"color: #808000; text-decoration-color: #808000\"> VTK requires 3D points, but 2D points given. Appending </span><span style=\"color: #808000; text-decoration-color: #808000; font-weight: bold\">0</span><span style=\"color: #808000; text-decoration-color: #808000\"> third component.</span>\n",
       "</pre>\n"
      ],
      "text/plain": [
       "\u001b[1;33mWarning:\u001b[0m\u001b[33m VTK requires 3D points, but 2D points given. Appending \u001b[0m\u001b[1;33m0\u001b[0m\u001b[33m third component.\u001b[0m\n"
      ]
     },
     "metadata": {},
     "output_type": "display_data"
    },
    {
     "name": "stdout",
     "output_type": "stream",
     "text": [
      "Phase: 308, D max: 3.0, Mean Stiffness: 184.11525598713763\n"
     ]
    },
    {
     "data": {
      "text/html": [
       "<pre style=\"white-space:pre;overflow-x:auto;line-height:normal;font-family:Menlo,'DejaVu Sans Mono',consolas,'Courier New',monospace\"><span style=\"color: #808000; text-decoration-color: #808000; font-weight: bold\">Warning:</span><span style=\"color: #808000; text-decoration-color: #808000\"> VTK requires 3D points, but 2D points given. Appending </span><span style=\"color: #808000; text-decoration-color: #808000; font-weight: bold\">0</span><span style=\"color: #808000; text-decoration-color: #808000\"> third component.</span>\n",
       "</pre>\n"
      ],
      "text/plain": [
       "\u001b[1;33mWarning:\u001b[0m\u001b[33m VTK requires 3D points, but 2D points given. Appending \u001b[0m\u001b[1;33m0\u001b[0m\u001b[33m third component.\u001b[0m\n"
      ]
     },
     "metadata": {},
     "output_type": "display_data"
    },
    {
     "name": "stdout",
     "output_type": "stream",
     "text": [
      "Phase: 310, D max: 3.0, Mean Stiffness: 185.7484161017461\n"
     ]
    },
    {
     "data": {
      "text/html": [
       "<pre style=\"white-space:pre;overflow-x:auto;line-height:normal;font-family:Menlo,'DejaVu Sans Mono',consolas,'Courier New',monospace\"><span style=\"color: #808000; text-decoration-color: #808000; font-weight: bold\">Warning:</span><span style=\"color: #808000; text-decoration-color: #808000\"> VTK requires 3D points, but 2D points given. Appending </span><span style=\"color: #808000; text-decoration-color: #808000; font-weight: bold\">0</span><span style=\"color: #808000; text-decoration-color: #808000\"> third component.</span>\n",
       "</pre>\n"
      ],
      "text/plain": [
       "\u001b[1;33mWarning:\u001b[0m\u001b[33m VTK requires 3D points, but 2D points given. Appending \u001b[0m\u001b[1;33m0\u001b[0m\u001b[33m third component.\u001b[0m\n"
      ]
     },
     "metadata": {},
     "output_type": "display_data"
    },
    {
     "name": "stdout",
     "output_type": "stream",
     "text": [
      "Phase: 312, D max: 3.0, Mean Stiffness: 187.38388377628746\n"
     ]
    },
    {
     "data": {
      "text/html": [
       "<pre style=\"white-space:pre;overflow-x:auto;line-height:normal;font-family:Menlo,'DejaVu Sans Mono',consolas,'Courier New',monospace\"><span style=\"color: #808000; text-decoration-color: #808000; font-weight: bold\">Warning:</span><span style=\"color: #808000; text-decoration-color: #808000\"> VTK requires 3D points, but 2D points given. Appending </span><span style=\"color: #808000; text-decoration-color: #808000; font-weight: bold\">0</span><span style=\"color: #808000; text-decoration-color: #808000\"> third component.</span>\n",
       "</pre>\n"
      ],
      "text/plain": [
       "\u001b[1;33mWarning:\u001b[0m\u001b[33m VTK requires 3D points, but 2D points given. Appending \u001b[0m\u001b[1;33m0\u001b[0m\u001b[33m third component.\u001b[0m\n"
      ]
     },
     "metadata": {},
     "output_type": "display_data"
    },
    {
     "name": "stdout",
     "output_type": "stream",
     "text": [
      "Phase: 314, D max: 3.0, Mean Stiffness: 189.02163421435318\n"
     ]
    },
    {
     "data": {
      "text/html": [
       "<pre style=\"white-space:pre;overflow-x:auto;line-height:normal;font-family:Menlo,'DejaVu Sans Mono',consolas,'Courier New',monospace\"><span style=\"color: #808000; text-decoration-color: #808000; font-weight: bold\">Warning:</span><span style=\"color: #808000; text-decoration-color: #808000\"> VTK requires 3D points, but 2D points given. Appending </span><span style=\"color: #808000; text-decoration-color: #808000; font-weight: bold\">0</span><span style=\"color: #808000; text-decoration-color: #808000\"> third component.</span>\n",
       "</pre>\n"
      ],
      "text/plain": [
       "\u001b[1;33mWarning:\u001b[0m\u001b[33m VTK requires 3D points, but 2D points given. Appending \u001b[0m\u001b[1;33m0\u001b[0m\u001b[33m third component.\u001b[0m\n"
      ]
     },
     "metadata": {},
     "output_type": "display_data"
    },
    {
     "name": "stdout",
     "output_type": "stream",
     "text": [
      "Phase: 316, D max: 3.0, Mean Stiffness: 190.66164285838545\n"
     ]
    },
    {
     "data": {
      "text/html": [
       "<pre style=\"white-space:pre;overflow-x:auto;line-height:normal;font-family:Menlo,'DejaVu Sans Mono',consolas,'Courier New',monospace\"><span style=\"color: #808000; text-decoration-color: #808000; font-weight: bold\">Warning:</span><span style=\"color: #808000; text-decoration-color: #808000\"> VTK requires 3D points, but 2D points given. Appending </span><span style=\"color: #808000; text-decoration-color: #808000; font-weight: bold\">0</span><span style=\"color: #808000; text-decoration-color: #808000\"> third component.</span>\n",
       "</pre>\n"
      ],
      "text/plain": [
       "\u001b[1;33mWarning:\u001b[0m\u001b[33m VTK requires 3D points, but 2D points given. Appending \u001b[0m\u001b[1;33m0\u001b[0m\u001b[33m third component.\u001b[0m\n"
      ]
     },
     "metadata": {},
     "output_type": "display_data"
    },
    {
     "name": "stdout",
     "output_type": "stream",
     "text": [
      "Phase: 318, D max: 3.0, Mean Stiffness: 192.3038853863243\n"
     ]
    },
    {
     "data": {
      "text/html": [
       "<pre style=\"white-space:pre;overflow-x:auto;line-height:normal;font-family:Menlo,'DejaVu Sans Mono',consolas,'Courier New',monospace\"><span style=\"color: #808000; text-decoration-color: #808000; font-weight: bold\">Warning:</span><span style=\"color: #808000; text-decoration-color: #808000\"> VTK requires 3D points, but 2D points given. Appending </span><span style=\"color: #808000; text-decoration-color: #808000; font-weight: bold\">0</span><span style=\"color: #808000; text-decoration-color: #808000\"> third component.</span>\n",
       "</pre>\n"
      ],
      "text/plain": [
       "\u001b[1;33mWarning:\u001b[0m\u001b[33m VTK requires 3D points, but 2D points given. Appending \u001b[0m\u001b[1;33m0\u001b[0m\u001b[33m third component.\u001b[0m\n"
      ]
     },
     "metadata": {},
     "output_type": "display_data"
    },
    {
     "name": "stdout",
     "output_type": "stream",
     "text": [
      "Phase: 320, D max: 3.0, Mean Stiffness: 193.94833770840685\n"
     ]
    },
    {
     "data": {
      "text/html": [
       "<pre style=\"white-space:pre;overflow-x:auto;line-height:normal;font-family:Menlo,'DejaVu Sans Mono',consolas,'Courier New',monospace\"><span style=\"color: #808000; text-decoration-color: #808000; font-weight: bold\">Warning:</span><span style=\"color: #808000; text-decoration-color: #808000\"> VTK requires 3D points, but 2D points given. Appending </span><span style=\"color: #808000; text-decoration-color: #808000; font-weight: bold\">0</span><span style=\"color: #808000; text-decoration-color: #808000\"> third component.</span>\n",
       "</pre>\n"
      ],
      "text/plain": [
       "\u001b[1;33mWarning:\u001b[0m\u001b[33m VTK requires 3D points, but 2D points given. Appending \u001b[0m\u001b[1;33m0\u001b[0m\u001b[33m third component.\u001b[0m\n"
      ]
     },
     "metadata": {},
     "output_type": "display_data"
    },
    {
     "name": "stdout",
     "output_type": "stream",
     "text": [
      "Phase: 322, D max: 3.0, Mean Stiffness: 195.59497596410674\n"
     ]
    },
    {
     "data": {
      "text/html": [
       "<pre style=\"white-space:pre;overflow-x:auto;line-height:normal;font-family:Menlo,'DejaVu Sans Mono',consolas,'Courier New',monospace\"><span style=\"color: #808000; text-decoration-color: #808000; font-weight: bold\">Warning:</span><span style=\"color: #808000; text-decoration-color: #808000\"> VTK requires 3D points, but 2D points given. Appending </span><span style=\"color: #808000; text-decoration-color: #808000; font-weight: bold\">0</span><span style=\"color: #808000; text-decoration-color: #808000\"> third component.</span>\n",
       "</pre>\n"
      ],
      "text/plain": [
       "\u001b[1;33mWarning:\u001b[0m\u001b[33m VTK requires 3D points, but 2D points given. Appending \u001b[0m\u001b[1;33m0\u001b[0m\u001b[33m third component.\u001b[0m\n"
      ]
     },
     "metadata": {},
     "output_type": "display_data"
    },
    {
     "name": "stdout",
     "output_type": "stream",
     "text": [
      "Phase: 324, D max: 3.0, Mean Stiffness: 197.24377651920378\n"
     ]
    },
    {
     "data": {
      "text/html": [
       "<pre style=\"white-space:pre;overflow-x:auto;line-height:normal;font-family:Menlo,'DejaVu Sans Mono',consolas,'Courier New',monospace\"><span style=\"color: #808000; text-decoration-color: #808000; font-weight: bold\">Warning:</span><span style=\"color: #808000; text-decoration-color: #808000\"> VTK requires 3D points, but 2D points given. Appending </span><span style=\"color: #808000; text-decoration-color: #808000; font-weight: bold\">0</span><span style=\"color: #808000; text-decoration-color: #808000\"> third component.</span>\n",
       "</pre>\n"
      ],
      "text/plain": [
       "\u001b[1;33mWarning:\u001b[0m\u001b[33m VTK requires 3D points, but 2D points given. Appending \u001b[0m\u001b[1;33m0\u001b[0m\u001b[33m third component.\u001b[0m\n"
      ]
     },
     "metadata": {},
     "output_type": "display_data"
    },
    {
     "name": "stdout",
     "output_type": "stream",
     "text": [
      "Phase: 326, D max: 3.0, Mean Stiffness: 198.89471596297315\n"
     ]
    },
    {
     "data": {
      "text/html": [
       "<pre style=\"white-space:pre;overflow-x:auto;line-height:normal;font-family:Menlo,'DejaVu Sans Mono',consolas,'Courier New',monospace\"><span style=\"color: #808000; text-decoration-color: #808000; font-weight: bold\">Warning:</span><span style=\"color: #808000; text-decoration-color: #808000\"> VTK requires 3D points, but 2D points given. Appending </span><span style=\"color: #808000; text-decoration-color: #808000; font-weight: bold\">0</span><span style=\"color: #808000; text-decoration-color: #808000\"> third component.</span>\n",
       "</pre>\n"
      ],
      "text/plain": [
       "\u001b[1;33mWarning:\u001b[0m\u001b[33m VTK requires 3D points, but 2D points given. Appending \u001b[0m\u001b[1;33m0\u001b[0m\u001b[33m third component.\u001b[0m\n"
      ]
     },
     "metadata": {},
     "output_type": "display_data"
    },
    {
     "name": "stdout",
     "output_type": "stream",
     "text": [
      "Phase: 328, D max: 3.0, Mean Stiffness: 200.5477711054858\n"
     ]
    },
    {
     "data": {
      "text/html": [
       "<pre style=\"white-space:pre;overflow-x:auto;line-height:normal;font-family:Menlo,'DejaVu Sans Mono',consolas,'Courier New',monospace\"><span style=\"color: #808000; text-decoration-color: #808000; font-weight: bold\">Warning:</span><span style=\"color: #808000; text-decoration-color: #808000\"> VTK requires 3D points, but 2D points given. Appending </span><span style=\"color: #808000; text-decoration-color: #808000; font-weight: bold\">0</span><span style=\"color: #808000; text-decoration-color: #808000\"> third component.</span>\n",
       "</pre>\n"
      ],
      "text/plain": [
       "\u001b[1;33mWarning:\u001b[0m\u001b[33m VTK requires 3D points, but 2D points given. Appending \u001b[0m\u001b[1;33m0\u001b[0m\u001b[33m third component.\u001b[0m\n"
      ]
     },
     "metadata": {},
     "output_type": "display_data"
    },
    {
     "name": "stdout",
     "output_type": "stream",
     "text": [
      "Phase: 330, D max: 3.0, Mean Stiffness: 202.2029189750124\n"
     ]
    },
    {
     "data": {
      "text/html": [
       "<pre style=\"white-space:pre;overflow-x:auto;line-height:normal;font-family:Menlo,'DejaVu Sans Mono',consolas,'Courier New',monospace\"><span style=\"color: #808000; text-decoration-color: #808000; font-weight: bold\">Warning:</span><span style=\"color: #808000; text-decoration-color: #808000\"> VTK requires 3D points, but 2D points given. Appending </span><span style=\"color: #808000; text-decoration-color: #808000; font-weight: bold\">0</span><span style=\"color: #808000; text-decoration-color: #808000\"> third component.</span>\n",
       "</pre>\n"
      ],
      "text/plain": [
       "\u001b[1;33mWarning:\u001b[0m\u001b[33m VTK requires 3D points, but 2D points given. Appending \u001b[0m\u001b[1;33m0\u001b[0m\u001b[33m third component.\u001b[0m\n"
      ]
     },
     "metadata": {},
     "output_type": "display_data"
    },
    {
     "name": "stdout",
     "output_type": "stream",
     "text": [
      "Phase: 332, D max: 3.0, Mean Stiffness: 203.86013681552294\n"
     ]
    },
    {
     "data": {
      "text/html": [
       "<pre style=\"white-space:pre;overflow-x:auto;line-height:normal;font-family:Menlo,'DejaVu Sans Mono',consolas,'Courier New',monospace\"><span style=\"color: #808000; text-decoration-color: #808000; font-weight: bold\">Warning:</span><span style=\"color: #808000; text-decoration-color: #808000\"> VTK requires 3D points, but 2D points given. Appending </span><span style=\"color: #808000; text-decoration-color: #808000; font-weight: bold\">0</span><span style=\"color: #808000; text-decoration-color: #808000\"> third component.</span>\n",
       "</pre>\n"
      ],
      "text/plain": [
       "\u001b[1;33mWarning:\u001b[0m\u001b[33m VTK requires 3D points, but 2D points given. Appending \u001b[0m\u001b[1;33m0\u001b[0m\u001b[33m third component.\u001b[0m\n"
      ]
     },
     "metadata": {},
     "output_type": "display_data"
    },
    {
     "name": "stdout",
     "output_type": "stream",
     "text": [
      "Phase: 334, D max: 3.0, Mean Stiffness: 205.519402084276\n"
     ]
    },
    {
     "data": {
      "text/html": [
       "<pre style=\"white-space:pre;overflow-x:auto;line-height:normal;font-family:Menlo,'DejaVu Sans Mono',consolas,'Courier New',monospace\"><span style=\"color: #808000; text-decoration-color: #808000; font-weight: bold\">Warning:</span><span style=\"color: #808000; text-decoration-color: #808000\"> VTK requires 3D points, but 2D points given. Appending </span><span style=\"color: #808000; text-decoration-color: #808000; font-weight: bold\">0</span><span style=\"color: #808000; text-decoration-color: #808000\"> third component.</span>\n",
       "</pre>\n"
      ],
      "text/plain": [
       "\u001b[1;33mWarning:\u001b[0m\u001b[33m VTK requires 3D points, but 2D points given. Appending \u001b[0m\u001b[1;33m0\u001b[0m\u001b[33m third component.\u001b[0m\n"
      ]
     },
     "metadata": {},
     "output_type": "display_data"
    },
    {
     "name": "stdout",
     "output_type": "stream",
     "text": [
      "Phase: 336, D max: 3.0, Mean Stiffness: 207.18069244949194\n"
     ]
    },
    {
     "data": {
      "text/html": [
       "<pre style=\"white-space:pre;overflow-x:auto;line-height:normal;font-family:Menlo,'DejaVu Sans Mono',consolas,'Courier New',monospace\"><span style=\"color: #808000; text-decoration-color: #808000; font-weight: bold\">Warning:</span><span style=\"color: #808000; text-decoration-color: #808000\"> VTK requires 3D points, but 2D points given. Appending </span><span style=\"color: #808000; text-decoration-color: #808000; font-weight: bold\">0</span><span style=\"color: #808000; text-decoration-color: #808000\"> third component.</span>\n",
       "</pre>\n"
      ],
      "text/plain": [
       "\u001b[1;33mWarning:\u001b[0m\u001b[33m VTK requires 3D points, but 2D points given. Appending \u001b[0m\u001b[1;33m0\u001b[0m\u001b[33m third component.\u001b[0m\n"
      ]
     },
     "metadata": {},
     "output_type": "display_data"
    },
    {
     "name": "stdout",
     "output_type": "stream",
     "text": [
      "Phase: 338, D max: 3.0, Mean Stiffness: 208.84398578810374\n"
     ]
    },
    {
     "data": {
      "text/html": [
       "<pre style=\"white-space:pre;overflow-x:auto;line-height:normal;font-family:Menlo,'DejaVu Sans Mono',consolas,'Courier New',monospace\"><span style=\"color: #808000; text-decoration-color: #808000; font-weight: bold\">Warning:</span><span style=\"color: #808000; text-decoration-color: #808000\"> VTK requires 3D points, but 2D points given. Appending </span><span style=\"color: #808000; text-decoration-color: #808000; font-weight: bold\">0</span><span style=\"color: #808000; text-decoration-color: #808000\"> third component.</span>\n",
       "</pre>\n"
      ],
      "text/plain": [
       "\u001b[1;33mWarning:\u001b[0m\u001b[33m VTK requires 3D points, but 2D points given. Appending \u001b[0m\u001b[1;33m0\u001b[0m\u001b[33m third component.\u001b[0m\n"
      ]
     },
     "metadata": {},
     "output_type": "display_data"
    },
    {
     "name": "stdout",
     "output_type": "stream",
     "text": [
      "Phase: 340, D max: 3.0, Mean Stiffness: 210.50926018358174\n"
     ]
    },
    {
     "data": {
      "text/html": [
       "<pre style=\"white-space:pre;overflow-x:auto;line-height:normal;font-family:Menlo,'DejaVu Sans Mono',consolas,'Courier New',monospace\"><span style=\"color: #808000; text-decoration-color: #808000; font-weight: bold\">Warning:</span><span style=\"color: #808000; text-decoration-color: #808000\"> VTK requires 3D points, but 2D points given. Appending </span><span style=\"color: #808000; text-decoration-color: #808000; font-weight: bold\">0</span><span style=\"color: #808000; text-decoration-color: #808000\"> third component.</span>\n",
       "</pre>\n"
      ],
      "text/plain": [
       "\u001b[1;33mWarning:\u001b[0m\u001b[33m VTK requires 3D points, but 2D points given. Appending \u001b[0m\u001b[1;33m0\u001b[0m\u001b[33m third component.\u001b[0m\n"
      ]
     },
     "metadata": {},
     "output_type": "display_data"
    },
    {
     "name": "stdout",
     "output_type": "stream",
     "text": [
      "Phase: 342, D max: 3.0, Mean Stiffness: 212.1764939238274\n"
     ]
    },
    {
     "data": {
      "text/html": [
       "<pre style=\"white-space:pre;overflow-x:auto;line-height:normal;font-family:Menlo,'DejaVu Sans Mono',consolas,'Courier New',monospace\"><span style=\"color: #808000; text-decoration-color: #808000; font-weight: bold\">Warning:</span><span style=\"color: #808000; text-decoration-color: #808000\"> VTK requires 3D points, but 2D points given. Appending </span><span style=\"color: #808000; text-decoration-color: #808000; font-weight: bold\">0</span><span style=\"color: #808000; text-decoration-color: #808000\"> third component.</span>\n",
       "</pre>\n"
      ],
      "text/plain": [
       "\u001b[1;33mWarning:\u001b[0m\u001b[33m VTK requires 3D points, but 2D points given. Appending \u001b[0m\u001b[1;33m0\u001b[0m\u001b[33m third component.\u001b[0m\n"
      ]
     },
     "metadata": {},
     "output_type": "display_data"
    },
    {
     "name": "stdout",
     "output_type": "stream",
     "text": [
      "Phase: 344, D max: 3.0, Mean Stiffness: 213.84566549913166\n"
     ]
    },
    {
     "data": {
      "text/html": [
       "<pre style=\"white-space:pre;overflow-x:auto;line-height:normal;font-family:Menlo,'DejaVu Sans Mono',consolas,'Courier New',monospace\"><span style=\"color: #808000; text-decoration-color: #808000; font-weight: bold\">Warning:</span><span style=\"color: #808000; text-decoration-color: #808000\"> VTK requires 3D points, but 2D points given. Appending </span><span style=\"color: #808000; text-decoration-color: #808000; font-weight: bold\">0</span><span style=\"color: #808000; text-decoration-color: #808000\"> third component.</span>\n",
       "</pre>\n"
      ],
      "text/plain": [
       "\u001b[1;33mWarning:\u001b[0m\u001b[33m VTK requires 3D points, but 2D points given. Appending \u001b[0m\u001b[1;33m0\u001b[0m\u001b[33m third component.\u001b[0m\n"
      ]
     },
     "metadata": {},
     "output_type": "display_data"
    },
    {
     "name": "stdout",
     "output_type": "stream",
     "text": [
      "Phase: 346, D max: 3.0, Mean Stiffness: 215.51675360019507\n"
     ]
    },
    {
     "data": {
      "text/html": [
       "<pre style=\"white-space:pre;overflow-x:auto;line-height:normal;font-family:Menlo,'DejaVu Sans Mono',consolas,'Courier New',monospace\"><span style=\"color: #808000; text-decoration-color: #808000; font-weight: bold\">Warning:</span><span style=\"color: #808000; text-decoration-color: #808000\"> VTK requires 3D points, but 2D points given. Appending </span><span style=\"color: #808000; text-decoration-color: #808000; font-weight: bold\">0</span><span style=\"color: #808000; text-decoration-color: #808000\"> third component.</span>\n",
       "</pre>\n"
      ],
      "text/plain": [
       "\u001b[1;33mWarning:\u001b[0m\u001b[33m VTK requires 3D points, but 2D points given. Appending \u001b[0m\u001b[1;33m0\u001b[0m\u001b[33m third component.\u001b[0m\n"
      ]
     },
     "metadata": {},
     "output_type": "display_data"
    },
    {
     "name": "stdout",
     "output_type": "stream",
     "text": [
      "Phase: 348, D max: 3.0, Mean Stiffness: 217.1897371162061\n"
     ]
    },
    {
     "data": {
      "text/html": [
       "<pre style=\"white-space:pre;overflow-x:auto;line-height:normal;font-family:Menlo,'DejaVu Sans Mono',consolas,'Courier New',monospace\"><span style=\"color: #808000; text-decoration-color: #808000; font-weight: bold\">Warning:</span><span style=\"color: #808000; text-decoration-color: #808000\"> VTK requires 3D points, but 2D points given. Appending </span><span style=\"color: #808000; text-decoration-color: #808000; font-weight: bold\">0</span><span style=\"color: #808000; text-decoration-color: #808000\"> third component.</span>\n",
       "</pre>\n"
      ],
      "text/plain": [
       "\u001b[1;33mWarning:\u001b[0m\u001b[33m VTK requires 3D points, but 2D points given. Appending \u001b[0m\u001b[1;33m0\u001b[0m\u001b[33m third component.\u001b[0m\n"
      ]
     },
     "metadata": {},
     "output_type": "display_data"
    },
    {
     "name": "stdout",
     "output_type": "stream",
     "text": [
      "Phase: 350, D max: 3.0, Mean Stiffness: 218.86459513297413\n"
     ]
    },
    {
     "data": {
      "text/html": [
       "<pre style=\"white-space:pre;overflow-x:auto;line-height:normal;font-family:Menlo,'DejaVu Sans Mono',consolas,'Courier New',monospace\"><span style=\"color: #808000; text-decoration-color: #808000; font-weight: bold\">Warning:</span><span style=\"color: #808000; text-decoration-color: #808000\"> VTK requires 3D points, but 2D points given. Appending </span><span style=\"color: #808000; text-decoration-color: #808000; font-weight: bold\">0</span><span style=\"color: #808000; text-decoration-color: #808000\"> third component.</span>\n",
       "</pre>\n"
      ],
      "text/plain": [
       "\u001b[1;33mWarning:\u001b[0m\u001b[33m VTK requires 3D points, but 2D points given. Appending \u001b[0m\u001b[1;33m0\u001b[0m\u001b[33m third component.\u001b[0m\n"
      ]
     },
     "metadata": {},
     "output_type": "display_data"
    },
    {
     "name": "stdout",
     "output_type": "stream",
     "text": [
      "Phase: 352, D max: 3.0, Mean Stiffness: 220.5413069311155\n"
     ]
    },
    {
     "data": {
      "text/html": [
       "<pre style=\"white-space:pre;overflow-x:auto;line-height:normal;font-family:Menlo,'DejaVu Sans Mono',consolas,'Courier New',monospace\"><span style=\"color: #808000; text-decoration-color: #808000; font-weight: bold\">Warning:</span><span style=\"color: #808000; text-decoration-color: #808000\"> VTK requires 3D points, but 2D points given. Appending </span><span style=\"color: #808000; text-decoration-color: #808000; font-weight: bold\">0</span><span style=\"color: #808000; text-decoration-color: #808000\"> third component.</span>\n",
       "</pre>\n"
      ],
      "text/plain": [
       "\u001b[1;33mWarning:\u001b[0m\u001b[33m VTK requires 3D points, but 2D points given. Appending \u001b[0m\u001b[1;33m0\u001b[0m\u001b[33m third component.\u001b[0m\n"
      ]
     },
     "metadata": {},
     "output_type": "display_data"
    },
    {
     "name": "stdout",
     "output_type": "stream",
     "text": [
      "Phase: 354, D max: 3.0, Mean Stiffness: 222.2198519842892\n"
     ]
    },
    {
     "data": {
      "text/html": [
       "<pre style=\"white-space:pre;overflow-x:auto;line-height:normal;font-family:Menlo,'DejaVu Sans Mono',consolas,'Courier New',monospace\"><span style=\"color: #808000; text-decoration-color: #808000; font-weight: bold\">Warning:</span><span style=\"color: #808000; text-decoration-color: #808000\"> VTK requires 3D points, but 2D points given. Appending </span><span style=\"color: #808000; text-decoration-color: #808000; font-weight: bold\">0</span><span style=\"color: #808000; text-decoration-color: #808000\"> third component.</span>\n",
       "</pre>\n"
      ],
      "text/plain": [
       "\u001b[1;33mWarning:\u001b[0m\u001b[33m VTK requires 3D points, but 2D points given. Appending \u001b[0m\u001b[1;33m0\u001b[0m\u001b[33m third component.\u001b[0m\n"
      ]
     },
     "metadata": {},
     "output_type": "display_data"
    },
    {
     "name": "stdout",
     "output_type": "stream",
     "text": [
      "Phase: 356, D max: 3.0, Mean Stiffness: 223.90020995748054\n"
     ]
    },
    {
     "data": {
      "text/html": [
       "<pre style=\"white-space:pre;overflow-x:auto;line-height:normal;font-family:Menlo,'DejaVu Sans Mono',consolas,'Courier New',monospace\"><span style=\"color: #808000; text-decoration-color: #808000; font-weight: bold\">Warning:</span><span style=\"color: #808000; text-decoration-color: #808000\"> VTK requires 3D points, but 2D points given. Appending </span><span style=\"color: #808000; text-decoration-color: #808000; font-weight: bold\">0</span><span style=\"color: #808000; text-decoration-color: #808000\"> third component.</span>\n",
       "</pre>\n"
      ],
      "text/plain": [
       "\u001b[1;33mWarning:\u001b[0m\u001b[33m VTK requires 3D points, but 2D points given. Appending \u001b[0m\u001b[1;33m0\u001b[0m\u001b[33m third component.\u001b[0m\n"
      ]
     },
     "metadata": {},
     "output_type": "display_data"
    },
    {
     "name": "stdout",
     "output_type": "stream",
     "text": [
      "Phase: 358, D max: 3.0, Mean Stiffness: 225.58236070533093\n"
     ]
    },
    {
     "data": {
      "text/html": [
       "<pre style=\"white-space:pre;overflow-x:auto;line-height:normal;font-family:Menlo,'DejaVu Sans Mono',consolas,'Courier New',monospace\"><span style=\"color: #808000; text-decoration-color: #808000; font-weight: bold\">Warning:</span><span style=\"color: #808000; text-decoration-color: #808000\"> VTK requires 3D points, but 2D points given. Appending </span><span style=\"color: #808000; text-decoration-color: #808000; font-weight: bold\">0</span><span style=\"color: #808000; text-decoration-color: #808000\"> third component.</span>\n",
       "</pre>\n"
      ],
      "text/plain": [
       "\u001b[1;33mWarning:\u001b[0m\u001b[33m VTK requires 3D points, but 2D points given. Appending \u001b[0m\u001b[1;33m0\u001b[0m\u001b[33m third component.\u001b[0m\n"
      ]
     },
     "metadata": {},
     "output_type": "display_data"
    },
    {
     "name": "stdout",
     "output_type": "stream",
     "text": [
      "Phase: 360, D max: 3.0, Mean Stiffness: 227.26628427051125\n"
     ]
    },
    {
     "data": {
      "text/html": [
       "<pre style=\"white-space:pre;overflow-x:auto;line-height:normal;font-family:Menlo,'DejaVu Sans Mono',consolas,'Courier New',monospace\"><span style=\"color: #808000; text-decoration-color: #808000; font-weight: bold\">Warning:</span><span style=\"color: #808000; text-decoration-color: #808000\"> VTK requires 3D points, but 2D points given. Appending </span><span style=\"color: #808000; text-decoration-color: #808000; font-weight: bold\">0</span><span style=\"color: #808000; text-decoration-color: #808000\"> third component.</span>\n",
       "</pre>\n"
      ],
      "text/plain": [
       "\u001b[1;33mWarning:\u001b[0m\u001b[33m VTK requires 3D points, but 2D points given. Appending \u001b[0m\u001b[1;33m0\u001b[0m\u001b[33m third component.\u001b[0m\n"
      ]
     },
     "metadata": {},
     "output_type": "display_data"
    },
    {
     "name": "stdout",
     "output_type": "stream",
     "text": [
      "Phase: 362, D max: 3.0, Mean Stiffness: 228.9519608821385\n"
     ]
    },
    {
     "data": {
      "text/html": [
       "<pre style=\"white-space:pre;overflow-x:auto;line-height:normal;font-family:Menlo,'DejaVu Sans Mono',consolas,'Courier New',monospace\"><span style=\"color: #808000; text-decoration-color: #808000; font-weight: bold\">Warning:</span><span style=\"color: #808000; text-decoration-color: #808000\"> VTK requires 3D points, but 2D points given. Appending </span><span style=\"color: #808000; text-decoration-color: #808000; font-weight: bold\">0</span><span style=\"color: #808000; text-decoration-color: #808000\"> third component.</span>\n",
       "</pre>\n"
      ],
      "text/plain": [
       "\u001b[1;33mWarning:\u001b[0m\u001b[33m VTK requires 3D points, but 2D points given. Appending \u001b[0m\u001b[1;33m0\u001b[0m\u001b[33m third component.\u001b[0m\n"
      ]
     },
     "metadata": {},
     "output_type": "display_data"
    },
    {
     "name": "stdout",
     "output_type": "stream",
     "text": [
      "Phase: 364, D max: 3.0, Mean Stiffness: 230.639370954233\n"
     ]
    },
    {
     "data": {
      "text/html": [
       "<pre style=\"white-space:pre;overflow-x:auto;line-height:normal;font-family:Menlo,'DejaVu Sans Mono',consolas,'Courier New',monospace\"><span style=\"color: #808000; text-decoration-color: #808000; font-weight: bold\">Warning:</span><span style=\"color: #808000; text-decoration-color: #808000\"> VTK requires 3D points, but 2D points given. Appending </span><span style=\"color: #808000; text-decoration-color: #808000; font-weight: bold\">0</span><span style=\"color: #808000; text-decoration-color: #808000\"> third component.</span>\n",
       "</pre>\n"
      ],
      "text/plain": [
       "\u001b[1;33mWarning:\u001b[0m\u001b[33m VTK requires 3D points, but 2D points given. Appending \u001b[0m\u001b[1;33m0\u001b[0m\u001b[33m third component.\u001b[0m\n"
      ]
     },
     "metadata": {},
     "output_type": "display_data"
    },
    {
     "name": "stdout",
     "output_type": "stream",
     "text": [
      "Phase: 366, D max: 3.0, Mean Stiffness: 232.3284950842159\n"
     ]
    },
    {
     "data": {
      "text/html": [
       "<pre style=\"white-space:pre;overflow-x:auto;line-height:normal;font-family:Menlo,'DejaVu Sans Mono',consolas,'Courier New',monospace\"><span style=\"color: #808000; text-decoration-color: #808000; font-weight: bold\">Warning:</span><span style=\"color: #808000; text-decoration-color: #808000\"> VTK requires 3D points, but 2D points given. Appending </span><span style=\"color: #808000; text-decoration-color: #808000; font-weight: bold\">0</span><span style=\"color: #808000; text-decoration-color: #808000\"> third component.</span>\n",
       "</pre>\n"
      ],
      "text/plain": [
       "\u001b[1;33mWarning:\u001b[0m\u001b[33m VTK requires 3D points, but 2D points given. Appending \u001b[0m\u001b[1;33m0\u001b[0m\u001b[33m third component.\u001b[0m\n"
      ]
     },
     "metadata": {},
     "output_type": "display_data"
    },
    {
     "name": "stdout",
     "output_type": "stream",
     "text": [
      "Phase: 368, D max: 3.0, Mean Stiffness: 234.01931405144543\n"
     ]
    },
    {
     "data": {
      "text/html": [
       "<pre style=\"white-space:pre;overflow-x:auto;line-height:normal;font-family:Menlo,'DejaVu Sans Mono',consolas,'Courier New',monospace\"><span style=\"color: #808000; text-decoration-color: #808000; font-weight: bold\">Warning:</span><span style=\"color: #808000; text-decoration-color: #808000\"> VTK requires 3D points, but 2D points given. Appending </span><span style=\"color: #808000; text-decoration-color: #808000; font-weight: bold\">0</span><span style=\"color: #808000; text-decoration-color: #808000\"> third component.</span>\n",
       "</pre>\n"
      ],
      "text/plain": [
       "\u001b[1;33mWarning:\u001b[0m\u001b[33m VTK requires 3D points, but 2D points given. Appending \u001b[0m\u001b[1;33m0\u001b[0m\u001b[33m third component.\u001b[0m\n"
      ]
     },
     "metadata": {},
     "output_type": "display_data"
    },
    {
     "name": "stdout",
     "output_type": "stream",
     "text": [
      "Phase: 370, D max: 3.0, Mean Stiffness: 235.71180881579122\n"
     ]
    },
    {
     "data": {
      "text/html": [
       "<pre style=\"white-space:pre;overflow-x:auto;line-height:normal;font-family:Menlo,'DejaVu Sans Mono',consolas,'Courier New',monospace\"><span style=\"color: #808000; text-decoration-color: #808000; font-weight: bold\">Warning:</span><span style=\"color: #808000; text-decoration-color: #808000\"> VTK requires 3D points, but 2D points given. Appending </span><span style=\"color: #808000; text-decoration-color: #808000; font-weight: bold\">0</span><span style=\"color: #808000; text-decoration-color: #808000\"> third component.</span>\n",
       "</pre>\n"
      ],
      "text/plain": [
       "\u001b[1;33mWarning:\u001b[0m\u001b[33m VTK requires 3D points, but 2D points given. Appending \u001b[0m\u001b[1;33m0\u001b[0m\u001b[33m third component.\u001b[0m\n"
      ]
     },
     "metadata": {},
     "output_type": "display_data"
    },
    {
     "name": "stdout",
     "output_type": "stream",
     "text": [
      "Phase: 372, D max: 3.0, Mean Stiffness: 237.40596051624524\n"
     ]
    },
    {
     "data": {
      "text/html": [
       "<pre style=\"white-space:pre;overflow-x:auto;line-height:normal;font-family:Menlo,'DejaVu Sans Mono',consolas,'Courier New',monospace\"><span style=\"color: #808000; text-decoration-color: #808000; font-weight: bold\">Warning:</span><span style=\"color: #808000; text-decoration-color: #808000\"> VTK requires 3D points, but 2D points given. Appending </span><span style=\"color: #808000; text-decoration-color: #808000; font-weight: bold\">0</span><span style=\"color: #808000; text-decoration-color: #808000\"> third component.</span>\n",
       "</pre>\n"
      ],
      "text/plain": [
       "\u001b[1;33mWarning:\u001b[0m\u001b[33m VTK requires 3D points, but 2D points given. Appending \u001b[0m\u001b[1;33m0\u001b[0m\u001b[33m third component.\u001b[0m\n"
      ]
     },
     "metadata": {},
     "output_type": "display_data"
    },
    {
     "name": "stdout",
     "output_type": "stream",
     "text": [
      "Phase: 374, D max: 3.0, Mean Stiffness: 239.1017504695702\n"
     ]
    },
    {
     "data": {
      "text/html": [
       "<pre style=\"white-space:pre;overflow-x:auto;line-height:normal;font-family:Menlo,'DejaVu Sans Mono',consolas,'Courier New',monospace\"><span style=\"color: #808000; text-decoration-color: #808000; font-weight: bold\">Warning:</span><span style=\"color: #808000; text-decoration-color: #808000\"> VTK requires 3D points, but 2D points given. Appending </span><span style=\"color: #808000; text-decoration-color: #808000; font-weight: bold\">0</span><span style=\"color: #808000; text-decoration-color: #808000\"> third component.</span>\n",
       "</pre>\n"
      ],
      "text/plain": [
       "\u001b[1;33mWarning:\u001b[0m\u001b[33m VTK requires 3D points, but 2D points given. Appending \u001b[0m\u001b[1;33m0\u001b[0m\u001b[33m third component.\u001b[0m\n"
      ]
     },
     "metadata": {},
     "output_type": "display_data"
    },
    {
     "name": "stdout",
     "output_type": "stream",
     "text": [
      "Phase: 376, D max: 3.0, Mean Stiffness: 240.7991601689828\n"
     ]
    },
    {
     "data": {
      "text/html": [
       "<pre style=\"white-space:pre;overflow-x:auto;line-height:normal;font-family:Menlo,'DejaVu Sans Mono',consolas,'Courier New',monospace\"><span style=\"color: #808000; text-decoration-color: #808000; font-weight: bold\">Warning:</span><span style=\"color: #808000; text-decoration-color: #808000\"> VTK requires 3D points, but 2D points given. Appending </span><span style=\"color: #808000; text-decoration-color: #808000; font-weight: bold\">0</span><span style=\"color: #808000; text-decoration-color: #808000\"> third component.</span>\n",
       "</pre>\n"
      ],
      "text/plain": [
       "\u001b[1;33mWarning:\u001b[0m\u001b[33m VTK requires 3D points, but 2D points given. Appending \u001b[0m\u001b[1;33m0\u001b[0m\u001b[33m third component.\u001b[0m\n"
      ]
     },
     "metadata": {},
     "output_type": "display_data"
    },
    {
     "name": "stdout",
     "output_type": "stream",
     "text": [
      "Phase: 378, D max: 3.0, Mean Stiffness: 242.49817128287327\n"
     ]
    },
    {
     "data": {
      "text/html": [
       "<pre style=\"white-space:pre;overflow-x:auto;line-height:normal;font-family:Menlo,'DejaVu Sans Mono',consolas,'Courier New',monospace\"><span style=\"color: #808000; text-decoration-color: #808000; font-weight: bold\">Warning:</span><span style=\"color: #808000; text-decoration-color: #808000\"> VTK requires 3D points, but 2D points given. Appending </span><span style=\"color: #808000; text-decoration-color: #808000; font-weight: bold\">0</span><span style=\"color: #808000; text-decoration-color: #808000\"> third component.</span>\n",
       "</pre>\n"
      ],
      "text/plain": [
       "\u001b[1;33mWarning:\u001b[0m\u001b[33m VTK requires 3D points, but 2D points given. Appending \u001b[0m\u001b[1;33m0\u001b[0m\u001b[33m third component.\u001b[0m\n"
      ]
     },
     "metadata": {},
     "output_type": "display_data"
    },
    {
     "name": "stdout",
     "output_type": "stream",
     "text": [
      "Phase: 380, D max: 3.0, Mean Stiffness: 244.1987656535597\n"
     ]
    },
    {
     "data": {
      "text/html": [
       "<pre style=\"white-space:pre;overflow-x:auto;line-height:normal;font-family:Menlo,'DejaVu Sans Mono',consolas,'Courier New',monospace\"><span style=\"color: #808000; text-decoration-color: #808000; font-weight: bold\">Warning:</span><span style=\"color: #808000; text-decoration-color: #808000\"> VTK requires 3D points, but 2D points given. Appending </span><span style=\"color: #808000; text-decoration-color: #808000; font-weight: bold\">0</span><span style=\"color: #808000; text-decoration-color: #808000\"> third component.</span>\n",
       "</pre>\n"
      ],
      "text/plain": [
       "\u001b[1;33mWarning:\u001b[0m\u001b[33m VTK requires 3D points, but 2D points given. Appending \u001b[0m\u001b[1;33m0\u001b[0m\u001b[33m third component.\u001b[0m\n"
      ]
     },
     "metadata": {},
     "output_type": "display_data"
    },
    {
     "name": "stdout",
     "output_type": "stream",
     "text": [
      "Phase: 382, D max: 3.0, Mean Stiffness: 245.9009252960777\n"
     ]
    },
    {
     "data": {
      "text/html": [
       "<pre style=\"white-space:pre;overflow-x:auto;line-height:normal;font-family:Menlo,'DejaVu Sans Mono',consolas,'Courier New',monospace\"><span style=\"color: #808000; text-decoration-color: #808000; font-weight: bold\">Warning:</span><span style=\"color: #808000; text-decoration-color: #808000\"> VTK requires 3D points, but 2D points given. Appending </span><span style=\"color: #808000; text-decoration-color: #808000; font-weight: bold\">0</span><span style=\"color: #808000; text-decoration-color: #808000\"> third component.</span>\n",
       "</pre>\n"
      ],
      "text/plain": [
       "\u001b[1;33mWarning:\u001b[0m\u001b[33m VTK requires 3D points, but 2D points given. Appending \u001b[0m\u001b[1;33m0\u001b[0m\u001b[33m third component.\u001b[0m\n"
      ]
     },
     "metadata": {},
     "output_type": "display_data"
    },
    {
     "name": "stdout",
     "output_type": "stream",
     "text": [
      "Phase: 384, D max: 3.0, Mean Stiffness: 247.604632397005\n"
     ]
    },
    {
     "data": {
      "text/html": [
       "<pre style=\"white-space:pre;overflow-x:auto;line-height:normal;font-family:Menlo,'DejaVu Sans Mono',consolas,'Courier New',monospace\"><span style=\"color: #808000; text-decoration-color: #808000; font-weight: bold\">Warning:</span><span style=\"color: #808000; text-decoration-color: #808000\"> VTK requires 3D points, but 2D points given. Appending </span><span style=\"color: #808000; text-decoration-color: #808000; font-weight: bold\">0</span><span style=\"color: #808000; text-decoration-color: #808000\"> third component.</span>\n",
       "</pre>\n"
      ],
      "text/plain": [
       "\u001b[1;33mWarning:\u001b[0m\u001b[33m VTK requires 3D points, but 2D points given. Appending \u001b[0m\u001b[1;33m0\u001b[0m\u001b[33m third component.\u001b[0m\n"
      ]
     },
     "metadata": {},
     "output_type": "display_data"
    },
    {
     "name": "stdout",
     "output_type": "stream",
     "text": [
      "Phase: 386, D max: 3.0, Mean Stiffness: 249.3098693133206\n"
     ]
    },
    {
     "data": {
      "text/html": [
       "<pre style=\"white-space:pre;overflow-x:auto;line-height:normal;font-family:Menlo,'DejaVu Sans Mono',consolas,'Courier New',monospace\"><span style=\"color: #808000; text-decoration-color: #808000; font-weight: bold\">Warning:</span><span style=\"color: #808000; text-decoration-color: #808000\"> VTK requires 3D points, but 2D points given. Appending </span><span style=\"color: #808000; text-decoration-color: #808000; font-weight: bold\">0</span><span style=\"color: #808000; text-decoration-color: #808000\"> third component.</span>\n",
       "</pre>\n"
      ],
      "text/plain": [
       "\u001b[1;33mWarning:\u001b[0m\u001b[33m VTK requires 3D points, but 2D points given. Appending \u001b[0m\u001b[1;33m0\u001b[0m\u001b[33m third component.\u001b[0m\n"
      ]
     },
     "metadata": {},
     "output_type": "display_data"
    },
    {
     "name": "stdout",
     "output_type": "stream",
     "text": [
      "Phase: 388, D max: 3.0, Mean Stiffness: 251.01661857129977\n"
     ]
    },
    {
     "data": {
      "text/html": [
       "<pre style=\"white-space:pre;overflow-x:auto;line-height:normal;font-family:Menlo,'DejaVu Sans Mono',consolas,'Courier New',monospace\"><span style=\"color: #808000; text-decoration-color: #808000; font-weight: bold\">Warning:</span><span style=\"color: #808000; text-decoration-color: #808000\"> VTK requires 3D points, but 2D points given. Appending </span><span style=\"color: #808000; text-decoration-color: #808000; font-weight: bold\">0</span><span style=\"color: #808000; text-decoration-color: #808000\"> third component.</span>\n",
       "</pre>\n"
      ],
      "text/plain": [
       "\u001b[1;33mWarning:\u001b[0m\u001b[33m VTK requires 3D points, but 2D points given. Appending \u001b[0m\u001b[1;33m0\u001b[0m\u001b[33m third component.\u001b[0m\n"
      ]
     },
     "metadata": {},
     "output_type": "display_data"
    },
    {
     "name": "stdout",
     "output_type": "stream",
     "text": [
      "Phase: 390, D max: 3.0, Mean Stiffness: 252.72486286544392\n"
     ]
    },
    {
     "data": {
      "text/html": [
       "<pre style=\"white-space:pre;overflow-x:auto;line-height:normal;font-family:Menlo,'DejaVu Sans Mono',consolas,'Courier New',monospace\"><span style=\"color: #808000; text-decoration-color: #808000; font-weight: bold\">Warning:</span><span style=\"color: #808000; text-decoration-color: #808000\"> VTK requires 3D points, but 2D points given. Appending </span><span style=\"color: #808000; text-decoration-color: #808000; font-weight: bold\">0</span><span style=\"color: #808000; text-decoration-color: #808000\"> third component.</span>\n",
       "</pre>\n"
      ],
      "text/plain": [
       "\u001b[1;33mWarning:\u001b[0m\u001b[33m VTK requires 3D points, but 2D points given. Appending \u001b[0m\u001b[1;33m0\u001b[0m\u001b[33m third component.\u001b[0m\n"
      ]
     },
     "metadata": {},
     "output_type": "display_data"
    },
    {
     "name": "stdout",
     "output_type": "stream",
     "text": [
      "Phase: 392, D max: 3.0, Mean Stiffness: 254.43458505744644\n"
     ]
    },
    {
     "data": {
      "text/html": [
       "<pre style=\"white-space:pre;overflow-x:auto;line-height:normal;font-family:Menlo,'DejaVu Sans Mono',consolas,'Courier New',monospace\"><span style=\"color: #808000; text-decoration-color: #808000; font-weight: bold\">Warning:</span><span style=\"color: #808000; text-decoration-color: #808000\"> VTK requires 3D points, but 2D points given. Appending </span><span style=\"color: #808000; text-decoration-color: #808000; font-weight: bold\">0</span><span style=\"color: #808000; text-decoration-color: #808000\"> third component.</span>\n",
       "</pre>\n"
      ],
      "text/plain": [
       "\u001b[1;33mWarning:\u001b[0m\u001b[33m VTK requires 3D points, but 2D points given. Appending \u001b[0m\u001b[1;33m0\u001b[0m\u001b[33m third component.\u001b[0m\n"
      ]
     },
     "metadata": {},
     "output_type": "display_data"
    },
    {
     "name": "stdout",
     "output_type": "stream",
     "text": [
      "Phase: 394, D max: 3.0, Mean Stiffness: 256.1457681751949\n"
     ]
    },
    {
     "data": {
      "text/html": [
       "<pre style=\"white-space:pre;overflow-x:auto;line-height:normal;font-family:Menlo,'DejaVu Sans Mono',consolas,'Courier New',monospace\"><span style=\"color: #808000; text-decoration-color: #808000; font-weight: bold\">Warning:</span><span style=\"color: #808000; text-decoration-color: #808000\"> VTK requires 3D points, but 2D points given. Appending </span><span style=\"color: #808000; text-decoration-color: #808000; font-weight: bold\">0</span><span style=\"color: #808000; text-decoration-color: #808000\"> third component.</span>\n",
       "</pre>\n"
      ],
      "text/plain": [
       "\u001b[1;33mWarning:\u001b[0m\u001b[33m VTK requires 3D points, but 2D points given. Appending \u001b[0m\u001b[1;33m0\u001b[0m\u001b[33m third component.\u001b[0m\n"
      ]
     },
     "metadata": {},
     "output_type": "display_data"
    },
    {
     "name": "stdout",
     "output_type": "stream",
     "text": [
      "Phase: 396, D max: 3.0, Mean Stiffness: 257.8583954118096\n"
     ]
    },
    {
     "data": {
      "text/html": [
       "<pre style=\"white-space:pre;overflow-x:auto;line-height:normal;font-family:Menlo,'DejaVu Sans Mono',consolas,'Courier New',monospace\"><span style=\"color: #808000; text-decoration-color: #808000; font-weight: bold\">Warning:</span><span style=\"color: #808000; text-decoration-color: #808000\"> VTK requires 3D points, but 2D points given. Appending </span><span style=\"color: #808000; text-decoration-color: #808000; font-weight: bold\">0</span><span style=\"color: #808000; text-decoration-color: #808000\"> third component.</span>\n",
       "</pre>\n"
      ],
      "text/plain": [
       "\u001b[1;33mWarning:\u001b[0m\u001b[33m VTK requires 3D points, but 2D points given. Appending \u001b[0m\u001b[1;33m0\u001b[0m\u001b[33m third component.\u001b[0m\n"
      ]
     },
     "metadata": {},
     "output_type": "display_data"
    },
    {
     "name": "stdout",
     "output_type": "stream",
     "text": [
      "Phase: 398, D max: 3.0, Mean Stiffness: 259.5724501247205\n"
     ]
    },
    {
     "data": {
      "text/html": [
       "<pre style=\"white-space:pre;overflow-x:auto;line-height:normal;font-family:Menlo,'DejaVu Sans Mono',consolas,'Courier New',monospace\"><span style=\"color: #808000; text-decoration-color: #808000; font-weight: bold\">Warning:</span><span style=\"color: #808000; text-decoration-color: #808000\"> VTK requires 3D points, but 2D points given. Appending </span><span style=\"color: #808000; text-decoration-color: #808000; font-weight: bold\">0</span><span style=\"color: #808000; text-decoration-color: #808000\"> third component.</span>\n",
       "</pre>\n"
      ],
      "text/plain": [
       "\u001b[1;33mWarning:\u001b[0m\u001b[33m VTK requires 3D points, but 2D points given. Appending \u001b[0m\u001b[1;33m0\u001b[0m\u001b[33m third component.\u001b[0m\n"
      ]
     },
     "metadata": {},
     "output_type": "display_data"
    },
    {
     "name": "stdout",
     "output_type": "stream",
     "text": [
      "Phase: 400, D max: 3.0, Mean Stiffness: 261.2879158347816\n"
     ]
    },
    {
     "data": {
      "text/html": [
       "<pre style=\"white-space:pre;overflow-x:auto;line-height:normal;font-family:Menlo,'DejaVu Sans Mono',consolas,'Courier New',monospace\"><span style=\"color: #808000; text-decoration-color: #808000; font-weight: bold\">Warning:</span><span style=\"color: #808000; text-decoration-color: #808000\"> VTK requires 3D points, but 2D points given. Appending </span><span style=\"color: #808000; text-decoration-color: #808000; font-weight: bold\">0</span><span style=\"color: #808000; text-decoration-color: #808000\"> third component.</span>\n",
       "</pre>\n"
      ],
      "text/plain": [
       "\u001b[1;33mWarning:\u001b[0m\u001b[33m VTK requires 3D points, but 2D points given. Appending \u001b[0m\u001b[1;33m0\u001b[0m\u001b[33m third component.\u001b[0m\n"
      ]
     },
     "metadata": {},
     "output_type": "display_data"
    },
    {
     "name": "stdout",
     "output_type": "stream",
     "text": [
      "Phase: 402, D max: 3.0, Mean Stiffness: 263.0047762254256\n"
     ]
    },
    {
     "data": {
      "text/html": [
       "<pre style=\"white-space:pre;overflow-x:auto;line-height:normal;font-family:Menlo,'DejaVu Sans Mono',consolas,'Courier New',monospace\"><span style=\"color: #808000; text-decoration-color: #808000; font-weight: bold\">Warning:</span><span style=\"color: #808000; text-decoration-color: #808000\"> VTK requires 3D points, but 2D points given. Appending </span><span style=\"color: #808000; text-decoration-color: #808000; font-weight: bold\">0</span><span style=\"color: #808000; text-decoration-color: #808000\"> third component.</span>\n",
       "</pre>\n"
      ],
      "text/plain": [
       "\u001b[1;33mWarning:\u001b[0m\u001b[33m VTK requires 3D points, but 2D points given. Appending \u001b[0m\u001b[1;33m0\u001b[0m\u001b[33m third component.\u001b[0m\n"
      ]
     },
     "metadata": {},
     "output_type": "display_data"
    },
    {
     "name": "stdout",
     "output_type": "stream",
     "text": [
      "Phase: 404, D max: 3.0, Mean Stiffness: 264.7230151418578\n"
     ]
    },
    {
     "data": {
      "text/html": [
       "<pre style=\"white-space:pre;overflow-x:auto;line-height:normal;font-family:Menlo,'DejaVu Sans Mono',consolas,'Courier New',monospace\"><span style=\"color: #808000; text-decoration-color: #808000; font-weight: bold\">Warning:</span><span style=\"color: #808000; text-decoration-color: #808000\"> VTK requires 3D points, but 2D points given. Appending </span><span style=\"color: #808000; text-decoration-color: #808000; font-weight: bold\">0</span><span style=\"color: #808000; text-decoration-color: #808000\"> third component.</span>\n",
       "</pre>\n"
      ],
      "text/plain": [
       "\u001b[1;33mWarning:\u001b[0m\u001b[33m VTK requires 3D points, but 2D points given. Appending \u001b[0m\u001b[1;33m0\u001b[0m\u001b[33m third component.\u001b[0m\n"
      ]
     },
     "metadata": {},
     "output_type": "display_data"
    },
    {
     "name": "stdout",
     "output_type": "stream",
     "text": [
      "Phase: 406, D max: 3.0, Mean Stiffness: 266.4426165902931\n"
     ]
    },
    {
     "data": {
      "text/html": [
       "<pre style=\"white-space:pre;overflow-x:auto;line-height:normal;font-family:Menlo,'DejaVu Sans Mono',consolas,'Courier New',monospace\"><span style=\"color: #808000; text-decoration-color: #808000; font-weight: bold\">Warning:</span><span style=\"color: #808000; text-decoration-color: #808000\"> VTK requires 3D points, but 2D points given. Appending </span><span style=\"color: #808000; text-decoration-color: #808000; font-weight: bold\">0</span><span style=\"color: #808000; text-decoration-color: #808000\"> third component.</span>\n",
       "</pre>\n"
      ],
      "text/plain": [
       "\u001b[1;33mWarning:\u001b[0m\u001b[33m VTK requires 3D points, but 2D points given. Appending \u001b[0m\u001b[1;33m0\u001b[0m\u001b[33m third component.\u001b[0m\n"
      ]
     },
     "metadata": {},
     "output_type": "display_data"
    },
    {
     "name": "stdout",
     "output_type": "stream",
     "text": [
      "Phase: 408, D max: 3.0, Mean Stiffness: 268.16356473723465\n"
     ]
    },
    {
     "data": {
      "text/html": [
       "<pre style=\"white-space:pre;overflow-x:auto;line-height:normal;font-family:Menlo,'DejaVu Sans Mono',consolas,'Courier New',monospace\"><span style=\"color: #808000; text-decoration-color: #808000; font-weight: bold\">Warning:</span><span style=\"color: #808000; text-decoration-color: #808000\"> VTK requires 3D points, but 2D points given. Appending </span><span style=\"color: #808000; text-decoration-color: #808000; font-weight: bold\">0</span><span style=\"color: #808000; text-decoration-color: #808000\"> third component.</span>\n",
       "</pre>\n"
      ],
      "text/plain": [
       "\u001b[1;33mWarning:\u001b[0m\u001b[33m VTK requires 3D points, but 2D points given. Appending \u001b[0m\u001b[1;33m0\u001b[0m\u001b[33m third component.\u001b[0m\n"
      ]
     },
     "metadata": {},
     "output_type": "display_data"
    },
    {
     "name": "stdout",
     "output_type": "stream",
     "text": [
      "Phase: 410, D max: 3.0, Mean Stiffness: 269.8858439087979\n"
     ]
    },
    {
     "data": {
      "text/html": [
       "<pre style=\"white-space:pre;overflow-x:auto;line-height:normal;font-family:Menlo,'DejaVu Sans Mono',consolas,'Courier New',monospace\"><span style=\"color: #808000; text-decoration-color: #808000; font-weight: bold\">Warning:</span><span style=\"color: #808000; text-decoration-color: #808000\"> VTK requires 3D points, but 2D points given. Appending </span><span style=\"color: #808000; text-decoration-color: #808000; font-weight: bold\">0</span><span style=\"color: #808000; text-decoration-color: #808000\"> third component.</span>\n",
       "</pre>\n"
      ],
      "text/plain": [
       "\u001b[1;33mWarning:\u001b[0m\u001b[33m VTK requires 3D points, but 2D points given. Appending \u001b[0m\u001b[1;33m0\u001b[0m\u001b[33m third component.\u001b[0m\n"
      ]
     },
     "metadata": {},
     "output_type": "display_data"
    },
    {
     "name": "stdout",
     "output_type": "stream",
     "text": [
      "Phase: 412, D max: 3.0, Mean Stiffness: 271.6094385900804\n"
     ]
    },
    {
     "data": {
      "text/html": [
       "<pre style=\"white-space:pre;overflow-x:auto;line-height:normal;font-family:Menlo,'DejaVu Sans Mono',consolas,'Courier New',monospace\"><span style=\"color: #808000; text-decoration-color: #808000; font-weight: bold\">Warning:</span><span style=\"color: #808000; text-decoration-color: #808000\"> VTK requires 3D points, but 2D points given. Appending </span><span style=\"color: #808000; text-decoration-color: #808000; font-weight: bold\">0</span><span style=\"color: #808000; text-decoration-color: #808000\"> third component.</span>\n",
       "</pre>\n"
      ],
      "text/plain": [
       "\u001b[1;33mWarning:\u001b[0m\u001b[33m VTK requires 3D points, but 2D points given. Appending \u001b[0m\u001b[1;33m0\u001b[0m\u001b[33m third component.\u001b[0m\n"
      ]
     },
     "metadata": {},
     "output_type": "display_data"
    },
    {
     "name": "stdout",
     "output_type": "stream",
     "text": [
      "Phase: 414, D max: 3.0, Mean Stiffness: 273.33433342458\n"
     ]
    },
    {
     "data": {
      "text/html": [
       "<pre style=\"white-space:pre;overflow-x:auto;line-height:normal;font-family:Menlo,'DejaVu Sans Mono',consolas,'Courier New',monospace\"><span style=\"color: #808000; text-decoration-color: #808000; font-weight: bold\">Warning:</span><span style=\"color: #808000; text-decoration-color: #808000\"> VTK requires 3D points, but 2D points given. Appending </span><span style=\"color: #808000; text-decoration-color: #808000; font-weight: bold\">0</span><span style=\"color: #808000; text-decoration-color: #808000\"> third component.</span>\n",
       "</pre>\n"
      ],
      "text/plain": [
       "\u001b[1;33mWarning:\u001b[0m\u001b[33m VTK requires 3D points, but 2D points given. Appending \u001b[0m\u001b[1;33m0\u001b[0m\u001b[33m third component.\u001b[0m\n"
      ]
     },
     "metadata": {},
     "output_type": "display_data"
    },
    {
     "name": "stdout",
     "output_type": "stream",
     "text": [
      "Phase: 416, D max: 3.0, Mean Stiffness: 275.0605132136627\n"
     ]
    },
    {
     "data": {
      "text/html": [
       "<pre style=\"white-space:pre;overflow-x:auto;line-height:normal;font-family:Menlo,'DejaVu Sans Mono',consolas,'Courier New',monospace\"><span style=\"color: #808000; text-decoration-color: #808000; font-weight: bold\">Warning:</span><span style=\"color: #808000; text-decoration-color: #808000\"> VTK requires 3D points, but 2D points given. Appending </span><span style=\"color: #808000; text-decoration-color: #808000; font-weight: bold\">0</span><span style=\"color: #808000; text-decoration-color: #808000\"> third component.</span>\n",
       "</pre>\n"
      ],
      "text/plain": [
       "\u001b[1;33mWarning:\u001b[0m\u001b[33m VTK requires 3D points, but 2D points given. Appending \u001b[0m\u001b[1;33m0\u001b[0m\u001b[33m third component.\u001b[0m\n"
      ]
     },
     "metadata": {},
     "output_type": "display_data"
    },
    {
     "name": "stdout",
     "output_type": "stream",
     "text": [
      "Phase: 418, D max: 3.0, Mean Stiffness: 276.7879557766971\n"
     ]
    },
    {
     "data": {
      "text/html": [
       "<pre style=\"white-space:pre;overflow-x:auto;line-height:normal;font-family:Menlo,'DejaVu Sans Mono',consolas,'Courier New',monospace\"><span style=\"color: #808000; text-decoration-color: #808000; font-weight: bold\">Warning:</span><span style=\"color: #808000; text-decoration-color: #808000\"> VTK requires 3D points, but 2D points given. Appending </span><span style=\"color: #808000; text-decoration-color: #808000; font-weight: bold\">0</span><span style=\"color: #808000; text-decoration-color: #808000\"> third component.</span>\n",
       "</pre>\n"
      ],
      "text/plain": [
       "\u001b[1;33mWarning:\u001b[0m\u001b[33m VTK requires 3D points, but 2D points given. Appending \u001b[0m\u001b[1;33m0\u001b[0m\u001b[33m third component.\u001b[0m\n"
      ]
     },
     "metadata": {},
     "output_type": "display_data"
    },
    {
     "name": "stdout",
     "output_type": "stream",
     "text": [
      "Phase: 420, D max: 3.0, Mean Stiffness: 278.51664581511926\n"
     ]
    },
    {
     "data": {
      "text/html": [
       "<pre style=\"white-space:pre;overflow-x:auto;line-height:normal;font-family:Menlo,'DejaVu Sans Mono',consolas,'Courier New',monospace\"><span style=\"color: #808000; text-decoration-color: #808000; font-weight: bold\">Warning:</span><span style=\"color: #808000; text-decoration-color: #808000\"> VTK requires 3D points, but 2D points given. Appending </span><span style=\"color: #808000; text-decoration-color: #808000; font-weight: bold\">0</span><span style=\"color: #808000; text-decoration-color: #808000\"> third component.</span>\n",
       "</pre>\n"
      ],
      "text/plain": [
       "\u001b[1;33mWarning:\u001b[0m\u001b[33m VTK requires 3D points, but 2D points given. Appending \u001b[0m\u001b[1;33m0\u001b[0m\u001b[33m third component.\u001b[0m\n"
      ]
     },
     "metadata": {},
     "output_type": "display_data"
    },
    {
     "name": "stdout",
     "output_type": "stream",
     "text": [
      "Phase: 422, D max: 3.0, Mean Stiffness: 280.24657558043145\n"
     ]
    },
    {
     "data": {
      "text/html": [
       "<pre style=\"white-space:pre;overflow-x:auto;line-height:normal;font-family:Menlo,'DejaVu Sans Mono',consolas,'Courier New',monospace\"><span style=\"color: #808000; text-decoration-color: #808000; font-weight: bold\">Warning:</span><span style=\"color: #808000; text-decoration-color: #808000\"> VTK requires 3D points, but 2D points given. Appending </span><span style=\"color: #808000; text-decoration-color: #808000; font-weight: bold\">0</span><span style=\"color: #808000; text-decoration-color: #808000\"> third component.</span>\n",
       "</pre>\n"
      ],
      "text/plain": [
       "\u001b[1;33mWarning:\u001b[0m\u001b[33m VTK requires 3D points, but 2D points given. Appending \u001b[0m\u001b[1;33m0\u001b[0m\u001b[33m third component.\u001b[0m\n"
      ]
     },
     "metadata": {},
     "output_type": "display_data"
    },
    {
     "name": "stdout",
     "output_type": "stream",
     "text": [
      "Phase: 424, D max: 3.0, Mean Stiffness: 281.9777304734327\n"
     ]
    },
    {
     "data": {
      "text/html": [
       "<pre style=\"white-space:pre;overflow-x:auto;line-height:normal;font-family:Menlo,'DejaVu Sans Mono',consolas,'Courier New',monospace\"><span style=\"color: #808000; text-decoration-color: #808000; font-weight: bold\">Warning:</span><span style=\"color: #808000; text-decoration-color: #808000\"> VTK requires 3D points, but 2D points given. Appending </span><span style=\"color: #808000; text-decoration-color: #808000; font-weight: bold\">0</span><span style=\"color: #808000; text-decoration-color: #808000\"> third component.</span>\n",
       "</pre>\n"
      ],
      "text/plain": [
       "\u001b[1;33mWarning:\u001b[0m\u001b[33m VTK requires 3D points, but 2D points given. Appending \u001b[0m\u001b[1;33m0\u001b[0m\u001b[33m third component.\u001b[0m\n"
      ]
     },
     "metadata": {},
     "output_type": "display_data"
    },
    {
     "name": "stdout",
     "output_type": "stream",
     "text": [
      "Phase: 426, D max: 3.0, Mean Stiffness: 283.710096049417\n"
     ]
    },
    {
     "data": {
      "text/html": [
       "<pre style=\"white-space:pre;overflow-x:auto;line-height:normal;font-family:Menlo,'DejaVu Sans Mono',consolas,'Courier New',monospace\"><span style=\"color: #808000; text-decoration-color: #808000; font-weight: bold\">Warning:</span><span style=\"color: #808000; text-decoration-color: #808000\"> VTK requires 3D points, but 2D points given. Appending </span><span style=\"color: #808000; text-decoration-color: #808000; font-weight: bold\">0</span><span style=\"color: #808000; text-decoration-color: #808000\"> third component.</span>\n",
       "</pre>\n"
      ],
      "text/plain": [
       "\u001b[1;33mWarning:\u001b[0m\u001b[33m VTK requires 3D points, but 2D points given. Appending \u001b[0m\u001b[1;33m0\u001b[0m\u001b[33m third component.\u001b[0m\n"
      ]
     },
     "metadata": {},
     "output_type": "display_data"
    },
    {
     "name": "stdout",
     "output_type": "stream",
     "text": [
      "Phase: 428, D max: 3.0, Mean Stiffness: 285.4436580178924\n"
     ]
    },
    {
     "data": {
      "text/html": [
       "<pre style=\"white-space:pre;overflow-x:auto;line-height:normal;font-family:Menlo,'DejaVu Sans Mono',consolas,'Courier New',monospace\"><span style=\"color: #808000; text-decoration-color: #808000; font-weight: bold\">Warning:</span><span style=\"color: #808000; text-decoration-color: #808000\"> VTK requires 3D points, but 2D points given. Appending </span><span style=\"color: #808000; text-decoration-color: #808000; font-weight: bold\">0</span><span style=\"color: #808000; text-decoration-color: #808000\"> third component.</span>\n",
       "</pre>\n"
      ],
      "text/plain": [
       "\u001b[1;33mWarning:\u001b[0m\u001b[33m VTK requires 3D points, but 2D points given. Appending \u001b[0m\u001b[1;33m0\u001b[0m\u001b[33m third component.\u001b[0m\n"
      ]
     },
     "metadata": {},
     "output_type": "display_data"
    },
    {
     "name": "stdout",
     "output_type": "stream",
     "text": [
      "Phase: 430, D max: 3.0, Mean Stiffness: 287.1784022423615\n"
     ]
    },
    {
     "data": {
      "text/html": [
       "<pre style=\"white-space:pre;overflow-x:auto;line-height:normal;font-family:Menlo,'DejaVu Sans Mono',consolas,'Courier New',monospace\"><span style=\"color: #808000; text-decoration-color: #808000; font-weight: bold\">Warning:</span><span style=\"color: #808000; text-decoration-color: #808000\"> VTK requires 3D points, but 2D points given. Appending </span><span style=\"color: #808000; text-decoration-color: #808000; font-weight: bold\">0</span><span style=\"color: #808000; text-decoration-color: #808000\"> third component.</span>\n",
       "</pre>\n"
      ],
      "text/plain": [
       "\u001b[1;33mWarning:\u001b[0m\u001b[33m VTK requires 3D points, but 2D points given. Appending \u001b[0m\u001b[1;33m0\u001b[0m\u001b[33m third component.\u001b[0m\n"
      ]
     },
     "metadata": {},
     "output_type": "display_data"
    },
    {
     "name": "stdout",
     "output_type": "stream",
     "text": [
      "Phase: 432, D max: 3.0, Mean Stiffness: 288.91431474016895\n"
     ]
    },
    {
     "data": {
      "text/html": [
       "<pre style=\"white-space:pre;overflow-x:auto;line-height:normal;font-family:Menlo,'DejaVu Sans Mono',consolas,'Courier New',monospace\"><span style=\"color: #808000; text-decoration-color: #808000; font-weight: bold\">Warning:</span><span style=\"color: #808000; text-decoration-color: #808000\"> VTK requires 3D points, but 2D points given. Appending </span><span style=\"color: #808000; text-decoration-color: #808000; font-weight: bold\">0</span><span style=\"color: #808000; text-decoration-color: #808000\"> third component.</span>\n",
       "</pre>\n"
      ],
      "text/plain": [
       "\u001b[1;33mWarning:\u001b[0m\u001b[33m VTK requires 3D points, but 2D points given. Appending \u001b[0m\u001b[1;33m0\u001b[0m\u001b[33m third component.\u001b[0m\n"
      ]
     },
     "metadata": {},
     "output_type": "display_data"
    },
    {
     "name": "stdout",
     "output_type": "stream",
     "text": [
      "Phase: 434, D max: 3.0, Mean Stiffness: 290.6513816824174\n"
     ]
    },
    {
     "data": {
      "text/html": [
       "<pre style=\"white-space:pre;overflow-x:auto;line-height:normal;font-family:Menlo,'DejaVu Sans Mono',consolas,'Courier New',monospace\"><span style=\"color: #808000; text-decoration-color: #808000; font-weight: bold\">Warning:</span><span style=\"color: #808000; text-decoration-color: #808000\"> VTK requires 3D points, but 2D points given. Appending </span><span style=\"color: #808000; text-decoration-color: #808000; font-weight: bold\">0</span><span style=\"color: #808000; text-decoration-color: #808000\"> third component.</span>\n",
       "</pre>\n"
      ],
      "text/plain": [
       "\u001b[1;33mWarning:\u001b[0m\u001b[33m VTK requires 3D points, but 2D points given. Appending \u001b[0m\u001b[1;33m0\u001b[0m\u001b[33m third component.\u001b[0m\n"
      ]
     },
     "metadata": {},
     "output_type": "display_data"
    },
    {
     "name": "stdout",
     "output_type": "stream",
     "text": [
      "Phase: 436, D max: 3.0, Mean Stiffness: 292.3895893939586\n"
     ]
    },
    {
     "data": {
      "text/html": [
       "<pre style=\"white-space:pre;overflow-x:auto;line-height:normal;font-family:Menlo,'DejaVu Sans Mono',consolas,'Courier New',monospace\"><span style=\"color: #808000; text-decoration-color: #808000; font-weight: bold\">Warning:</span><span style=\"color: #808000; text-decoration-color: #808000\"> VTK requires 3D points, but 2D points given. Appending </span><span style=\"color: #808000; text-decoration-color: #808000; font-weight: bold\">0</span><span style=\"color: #808000; text-decoration-color: #808000\"> third component.</span>\n",
       "</pre>\n"
      ],
      "text/plain": [
       "\u001b[1;33mWarning:\u001b[0m\u001b[33m VTK requires 3D points, but 2D points given. Appending \u001b[0m\u001b[1;33m0\u001b[0m\u001b[33m third component.\u001b[0m\n"
      ]
     },
     "metadata": {},
     "output_type": "display_data"
    },
    {
     "name": "stdout",
     "output_type": "stream",
     "text": [
      "Phase: 438, D max: 3.0, Mean Stiffness: 294.12892435346066\n"
     ]
    },
    {
     "data": {
      "text/html": [
       "<pre style=\"white-space:pre;overflow-x:auto;line-height:normal;font-family:Menlo,'DejaVu Sans Mono',consolas,'Courier New',monospace\"><span style=\"color: #808000; text-decoration-color: #808000; font-weight: bold\">Warning:</span><span style=\"color: #808000; text-decoration-color: #808000\"> VTK requires 3D points, but 2D points given. Appending </span><span style=\"color: #808000; text-decoration-color: #808000; font-weight: bold\">0</span><span style=\"color: #808000; text-decoration-color: #808000\"> third component.</span>\n",
       "</pre>\n"
      ],
      "text/plain": [
       "\u001b[1;33mWarning:\u001b[0m\u001b[33m VTK requires 3D points, but 2D points given. Appending \u001b[0m\u001b[1;33m0\u001b[0m\u001b[33m third component.\u001b[0m\n"
      ]
     },
     "metadata": {},
     "output_type": "display_data"
    },
    {
     "name": "stdout",
     "output_type": "stream",
     "text": [
      "Phase: 440, D max: 3.0, Mean Stiffness: 295.8693731935591\n"
     ]
    },
    {
     "data": {
      "text/html": [
       "<pre style=\"white-space:pre;overflow-x:auto;line-height:normal;font-family:Menlo,'DejaVu Sans Mono',consolas,'Courier New',monospace\"><span style=\"color: #808000; text-decoration-color: #808000; font-weight: bold\">Warning:</span><span style=\"color: #808000; text-decoration-color: #808000\"> VTK requires 3D points, but 2D points given. Appending </span><span style=\"color: #808000; text-decoration-color: #808000; font-weight: bold\">0</span><span style=\"color: #808000; text-decoration-color: #808000\"> third component.</span>\n",
       "</pre>\n"
      ],
      "text/plain": [
       "\u001b[1;33mWarning:\u001b[0m\u001b[33m VTK requires 3D points, but 2D points given. Appending \u001b[0m\u001b[1;33m0\u001b[0m\u001b[33m third component.\u001b[0m\n"
      ]
     },
     "metadata": {},
     "output_type": "display_data"
    },
    {
     "name": "stdout",
     "output_type": "stream",
     "text": [
      "Phase: 442, D max: 3.0, Mean Stiffness: 297.61092270109475\n"
     ]
    },
    {
     "data": {
      "text/html": [
       "<pre style=\"white-space:pre;overflow-x:auto;line-height:normal;font-family:Menlo,'DejaVu Sans Mono',consolas,'Courier New',monospace\"><span style=\"color: #808000; text-decoration-color: #808000; font-weight: bold\">Warning:</span><span style=\"color: #808000; text-decoration-color: #808000\"> VTK requires 3D points, but 2D points given. Appending </span><span style=\"color: #808000; text-decoration-color: #808000; font-weight: bold\">0</span><span style=\"color: #808000; text-decoration-color: #808000\"> third component.</span>\n",
       "</pre>\n"
      ],
      "text/plain": [
       "\u001b[1;33mWarning:\u001b[0m\u001b[33m VTK requires 3D points, but 2D points given. Appending \u001b[0m\u001b[1;33m0\u001b[0m\u001b[33m third component.\u001b[0m\n"
      ]
     },
     "metadata": {},
     "output_type": "display_data"
    },
    {
     "name": "stdout",
     "output_type": "stream",
     "text": [
      "Phase: 444, D max: 3.0, Mean Stiffness: 299.3535598174449\n"
     ]
    },
    {
     "data": {
      "text/html": [
       "<pre style=\"white-space:pre;overflow-x:auto;line-height:normal;font-family:Menlo,'DejaVu Sans Mono',consolas,'Courier New',monospace\"><span style=\"color: #808000; text-decoration-color: #808000; font-weight: bold\">Warning:</span><span style=\"color: #808000; text-decoration-color: #808000\"> VTK requires 3D points, but 2D points given. Appending </span><span style=\"color: #808000; text-decoration-color: #808000; font-weight: bold\">0</span><span style=\"color: #808000; text-decoration-color: #808000\"> third component.</span>\n",
       "</pre>\n"
      ],
      "text/plain": [
       "\u001b[1;33mWarning:\u001b[0m\u001b[33m VTK requires 3D points, but 2D points given. Appending \u001b[0m\u001b[1;33m0\u001b[0m\u001b[33m third component.\u001b[0m\n"
      ]
     },
     "metadata": {},
     "output_type": "display_data"
    },
    {
     "name": "stdout",
     "output_type": "stream",
     "text": [
      "Phase: 446, D max: 3.0, Mean Stiffness: 301.09727163895303\n"
     ]
    },
    {
     "data": {
      "text/html": [
       "<pre style=\"white-space:pre;overflow-x:auto;line-height:normal;font-family:Menlo,'DejaVu Sans Mono',consolas,'Courier New',monospace\"><span style=\"color: #808000; text-decoration-color: #808000; font-weight: bold\">Warning:</span><span style=\"color: #808000; text-decoration-color: #808000\"> VTK requires 3D points, but 2D points given. Appending </span><span style=\"color: #808000; text-decoration-color: #808000; font-weight: bold\">0</span><span style=\"color: #808000; text-decoration-color: #808000\"> third component.</span>\n",
       "</pre>\n"
      ],
      "text/plain": [
       "\u001b[1;33mWarning:\u001b[0m\u001b[33m VTK requires 3D points, but 2D points given. Appending \u001b[0m\u001b[1;33m0\u001b[0m\u001b[33m third component.\u001b[0m\n"
      ]
     },
     "metadata": {},
     "output_type": "display_data"
    },
    {
     "name": "stdout",
     "output_type": "stream",
     "text": [
      "Phase: 448, D max: 3.0, Mean Stiffness: 302.8420454174645\n"
     ]
    },
    {
     "data": {
      "text/html": [
       "<pre style=\"white-space:pre;overflow-x:auto;line-height:normal;font-family:Menlo,'DejaVu Sans Mono',consolas,'Courier New',monospace\"><span style=\"color: #808000; text-decoration-color: #808000; font-weight: bold\">Warning:</span><span style=\"color: #808000; text-decoration-color: #808000\"> VTK requires 3D points, but 2D points given. Appending </span><span style=\"color: #808000; text-decoration-color: #808000; font-weight: bold\">0</span><span style=\"color: #808000; text-decoration-color: #808000\"> third component.</span>\n",
       "</pre>\n"
      ],
      "text/plain": [
       "\u001b[1;33mWarning:\u001b[0m\u001b[33m VTK requires 3D points, but 2D points given. Appending \u001b[0m\u001b[1;33m0\u001b[0m\u001b[33m third component.\u001b[0m\n"
      ]
     },
     "metadata": {},
     "output_type": "display_data"
    },
    {
     "name": "stdout",
     "output_type": "stream",
     "text": [
      "Phase: 450, D max: 3.0, Mean Stiffness: 304.5878685609734\n"
     ]
    },
    {
     "data": {
      "text/html": [
       "<pre style=\"white-space:pre;overflow-x:auto;line-height:normal;font-family:Menlo,'DejaVu Sans Mono',consolas,'Courier New',monospace\"><span style=\"color: #808000; text-decoration-color: #808000; font-weight: bold\">Warning:</span><span style=\"color: #808000; text-decoration-color: #808000\"> VTK requires 3D points, but 2D points given. Appending </span><span style=\"color: #808000; text-decoration-color: #808000; font-weight: bold\">0</span><span style=\"color: #808000; text-decoration-color: #808000\"> third component.</span>\n",
       "</pre>\n"
      ],
      "text/plain": [
       "\u001b[1;33mWarning:\u001b[0m\u001b[33m VTK requires 3D points, but 2D points given. Appending \u001b[0m\u001b[1;33m0\u001b[0m\u001b[33m third component.\u001b[0m\n"
      ]
     },
     "metadata": {},
     "output_type": "display_data"
    },
    {
     "name": "stdout",
     "output_type": "stream",
     "text": [
      "Phase: 452, D max: 3.0, Mean Stiffness: 306.33472863439044\n"
     ]
    },
    {
     "data": {
      "text/html": [
       "<pre style=\"white-space:pre;overflow-x:auto;line-height:normal;font-family:Menlo,'DejaVu Sans Mono',consolas,'Courier New',monospace\"><span style=\"color: #808000; text-decoration-color: #808000; font-weight: bold\">Warning:</span><span style=\"color: #808000; text-decoration-color: #808000\"> VTK requires 3D points, but 2D points given. Appending </span><span style=\"color: #808000; text-decoration-color: #808000; font-weight: bold\">0</span><span style=\"color: #808000; text-decoration-color: #808000\"> third component.</span>\n",
       "</pre>\n"
      ],
      "text/plain": [
       "\u001b[1;33mWarning:\u001b[0m\u001b[33m VTK requires 3D points, but 2D points given. Appending \u001b[0m\u001b[1;33m0\u001b[0m\u001b[33m third component.\u001b[0m\n"
      ]
     },
     "metadata": {},
     "output_type": "display_data"
    },
    {
     "name": "stdout",
     "output_type": "stream",
     "text": [
      "Phase: 454, D max: 3.0, Mean Stiffness: 308.08261336043705\n"
     ]
    },
    {
     "data": {
      "text/html": [
       "<pre style=\"white-space:pre;overflow-x:auto;line-height:normal;font-family:Menlo,'DejaVu Sans Mono',consolas,'Courier New',monospace\"><span style=\"color: #808000; text-decoration-color: #808000; font-weight: bold\">Warning:</span><span style=\"color: #808000; text-decoration-color: #808000\"> VTK requires 3D points, but 2D points given. Appending </span><span style=\"color: #808000; text-decoration-color: #808000; font-weight: bold\">0</span><span style=\"color: #808000; text-decoration-color: #808000\"> third component.</span>\n",
       "</pre>\n"
      ],
      "text/plain": [
       "\u001b[1;33mWarning:\u001b[0m\u001b[33m VTK requires 3D points, but 2D points given. Appending \u001b[0m\u001b[1;33m0\u001b[0m\u001b[33m third component.\u001b[0m\n"
      ]
     },
     "metadata": {},
     "output_type": "display_data"
    },
    {
     "name": "stdout",
     "output_type": "stream",
     "text": [
      "Phase: 456, D max: 3.0, Mean Stiffness: 309.831510620678\n"
     ]
    },
    {
     "data": {
      "text/html": [
       "<pre style=\"white-space:pre;overflow-x:auto;line-height:normal;font-family:Menlo,'DejaVu Sans Mono',consolas,'Courier New',monospace\"><span style=\"color: #808000; text-decoration-color: #808000; font-weight: bold\">Warning:</span><span style=\"color: #808000; text-decoration-color: #808000\"> VTK requires 3D points, but 2D points given. Appending </span><span style=\"color: #808000; text-decoration-color: #808000; font-weight: bold\">0</span><span style=\"color: #808000; text-decoration-color: #808000\"> third component.</span>\n",
       "</pre>\n"
      ],
      "text/plain": [
       "\u001b[1;33mWarning:\u001b[0m\u001b[33m VTK requires 3D points, but 2D points given. Appending \u001b[0m\u001b[1;33m0\u001b[0m\u001b[33m third component.\u001b[0m\n"
      ]
     },
     "metadata": {},
     "output_type": "display_data"
    },
    {
     "name": "stdout",
     "output_type": "stream",
     "text": [
      "Phase: 458, D max: 3.0, Mean Stiffness: 311.58140845669885\n"
     ]
    },
    {
     "data": {
      "text/html": [
       "<pre style=\"white-space:pre;overflow-x:auto;line-height:normal;font-family:Menlo,'DejaVu Sans Mono',consolas,'Courier New',monospace\"><span style=\"color: #808000; text-decoration-color: #808000; font-weight: bold\">Warning:</span><span style=\"color: #808000; text-decoration-color: #808000\"> VTK requires 3D points, but 2D points given. Appending </span><span style=\"color: #808000; text-decoration-color: #808000; font-weight: bold\">0</span><span style=\"color: #808000; text-decoration-color: #808000\"> third component.</span>\n",
       "</pre>\n"
      ],
      "text/plain": [
       "\u001b[1;33mWarning:\u001b[0m\u001b[33m VTK requires 3D points, but 2D points given. Appending \u001b[0m\u001b[1;33m0\u001b[0m\u001b[33m third component.\u001b[0m\n"
      ]
     },
     "metadata": {},
     "output_type": "display_data"
    },
    {
     "name": "stdout",
     "output_type": "stream",
     "text": [
      "Phase: 460, D max: 3.0, Mean Stiffness: 313.33229507144057\n"
     ]
    },
    {
     "data": {
      "text/html": [
       "<pre style=\"white-space:pre;overflow-x:auto;line-height:normal;font-family:Menlo,'DejaVu Sans Mono',consolas,'Courier New',monospace\"><span style=\"color: #808000; text-decoration-color: #808000; font-weight: bold\">Warning:</span><span style=\"color: #808000; text-decoration-color: #808000\"> VTK requires 3D points, but 2D points given. Appending </span><span style=\"color: #808000; text-decoration-color: #808000; font-weight: bold\">0</span><span style=\"color: #808000; text-decoration-color: #808000\"> third component.</span>\n",
       "</pre>\n"
      ],
      "text/plain": [
       "\u001b[1;33mWarning:\u001b[0m\u001b[33m VTK requires 3D points, but 2D points given. Appending \u001b[0m\u001b[1;33m0\u001b[0m\u001b[33m third component.\u001b[0m\n"
      ]
     },
     "metadata": {},
     "output_type": "display_data"
    },
    {
     "name": "stdout",
     "output_type": "stream",
     "text": [
      "Phase: 462, D max: 3.0, Mean Stiffness: 315.084158830702\n"
     ]
    },
    {
     "data": {
      "text/html": [
       "<pre style=\"white-space:pre;overflow-x:auto;line-height:normal;font-family:Menlo,'DejaVu Sans Mono',consolas,'Courier New',monospace\"><span style=\"color: #808000; text-decoration-color: #808000; font-weight: bold\">Warning:</span><span style=\"color: #808000; text-decoration-color: #808000\"> VTK requires 3D points, but 2D points given. Appending </span><span style=\"color: #808000; text-decoration-color: #808000; font-weight: bold\">0</span><span style=\"color: #808000; text-decoration-color: #808000\"> third component.</span>\n",
       "</pre>\n"
      ],
      "text/plain": [
       "\u001b[1;33mWarning:\u001b[0m\u001b[33m VTK requires 3D points, but 2D points given. Appending \u001b[0m\u001b[1;33m0\u001b[0m\u001b[33m third component.\u001b[0m\n"
      ]
     },
     "metadata": {},
     "output_type": "display_data"
    },
    {
     "name": "stdout",
     "output_type": "stream",
     "text": [
      "Phase: 464, D max: 3.0, Mean Stiffness: 316.83698826482214\n"
     ]
    },
    {
     "data": {
      "text/html": [
       "<pre style=\"white-space:pre;overflow-x:auto;line-height:normal;font-family:Menlo,'DejaVu Sans Mono',consolas,'Courier New',monospace\"><span style=\"color: #808000; text-decoration-color: #808000; font-weight: bold\">Warning:</span><span style=\"color: #808000; text-decoration-color: #808000\"> VTK requires 3D points, but 2D points given. Appending </span><span style=\"color: #808000; text-decoration-color: #808000; font-weight: bold\">0</span><span style=\"color: #808000; text-decoration-color: #808000\"> third component.</span>\n",
       "</pre>\n"
      ],
      "text/plain": [
       "\u001b[1;33mWarning:\u001b[0m\u001b[33m VTK requires 3D points, but 2D points given. Appending \u001b[0m\u001b[1;33m0\u001b[0m\u001b[33m third component.\u001b[0m\n"
      ]
     },
     "metadata": {},
     "output_type": "display_data"
    },
    {
     "name": "stdout",
     "output_type": "stream",
     "text": [
      "Phase: 466, D max: 3.0, Mean Stiffness: 318.590772070556\n"
     ]
    },
    {
     "data": {
      "text/html": [
       "<pre style=\"white-space:pre;overflow-x:auto;line-height:normal;font-family:Menlo,'DejaVu Sans Mono',consolas,'Courier New',monospace\"><span style=\"color: #808000; text-decoration-color: #808000; font-weight: bold\">Warning:</span><span style=\"color: #808000; text-decoration-color: #808000\"> VTK requires 3D points, but 2D points given. Appending </span><span style=\"color: #808000; text-decoration-color: #808000; font-weight: bold\">0</span><span style=\"color: #808000; text-decoration-color: #808000\"> third component.</span>\n",
       "</pre>\n"
      ],
      "text/plain": [
       "\u001b[1;33mWarning:\u001b[0m\u001b[33m VTK requires 3D points, but 2D points given. Appending \u001b[0m\u001b[1;33m0\u001b[0m\u001b[33m third component.\u001b[0m\n"
      ]
     },
     "metadata": {},
     "output_type": "display_data"
    },
    {
     "name": "stdout",
     "output_type": "stream",
     "text": [
      "Phase: 468, D max: 3.0, Mean Stiffness: 320.3454991131573\n"
     ]
    },
    {
     "data": {
      "text/html": [
       "<pre style=\"white-space:pre;overflow-x:auto;line-height:normal;font-family:Menlo,'DejaVu Sans Mono',consolas,'Courier New',monospace\"><span style=\"color: #808000; text-decoration-color: #808000; font-weight: bold\">Warning:</span><span style=\"color: #808000; text-decoration-color: #808000\"> VTK requires 3D points, but 2D points given. Appending </span><span style=\"color: #808000; text-decoration-color: #808000; font-weight: bold\">0</span><span style=\"color: #808000; text-decoration-color: #808000\"> third component.</span>\n",
       "</pre>\n"
      ],
      "text/plain": [
       "\u001b[1;33mWarning:\u001b[0m\u001b[33m VTK requires 3D points, but 2D points given. Appending \u001b[0m\u001b[1;33m0\u001b[0m\u001b[33m third component.\u001b[0m\n"
      ]
     },
     "metadata": {},
     "output_type": "display_data"
    },
    {
     "name": "stdout",
     "output_type": "stream",
     "text": [
      "Phase: 470, D max: 3.0, Mean Stiffness: 322.10115842868487\n"
     ]
    },
    {
     "data": {
      "text/html": [
       "<pre style=\"white-space:pre;overflow-x:auto;line-height:normal;font-family:Menlo,'DejaVu Sans Mono',consolas,'Courier New',monospace\"><span style=\"color: #808000; text-decoration-color: #808000; font-weight: bold\">Warning:</span><span style=\"color: #808000; text-decoration-color: #808000\"> VTK requires 3D points, but 2D points given. Appending </span><span style=\"color: #808000; text-decoration-color: #808000; font-weight: bold\">0</span><span style=\"color: #808000; text-decoration-color: #808000\"> third component.</span>\n",
       "</pre>\n"
      ],
      "text/plain": [
       "\u001b[1;33mWarning:\u001b[0m\u001b[33m VTK requires 3D points, but 2D points given. Appending \u001b[0m\u001b[1;33m0\u001b[0m\u001b[33m third component.\u001b[0m\n"
      ]
     },
     "metadata": {},
     "output_type": "display_data"
    },
    {
     "name": "stdout",
     "output_type": "stream",
     "text": [
      "Phase: 472, D max: 3.0, Mean Stiffness: 323.8577392265489\n"
     ]
    },
    {
     "data": {
      "text/html": [
       "<pre style=\"white-space:pre;overflow-x:auto;line-height:normal;font-family:Menlo,'DejaVu Sans Mono',consolas,'Courier New',monospace\"><span style=\"color: #808000; text-decoration-color: #808000; font-weight: bold\">Warning:</span><span style=\"color: #808000; text-decoration-color: #808000\"> VTK requires 3D points, but 2D points given. Appending </span><span style=\"color: #808000; text-decoration-color: #808000; font-weight: bold\">0</span><span style=\"color: #808000; text-decoration-color: #808000\"> third component.</span>\n",
       "</pre>\n"
      ],
      "text/plain": [
       "\u001b[1;33mWarning:\u001b[0m\u001b[33m VTK requires 3D points, but 2D points given. Appending \u001b[0m\u001b[1;33m0\u001b[0m\u001b[33m third component.\u001b[0m\n"
      ]
     },
     "metadata": {},
     "output_type": "display_data"
    },
    {
     "name": "stdout",
     "output_type": "stream",
     "text": [
      "Phase: 474, D max: 3.0, Mean Stiffness: 325.6152308923146\n"
     ]
    },
    {
     "data": {
      "text/html": [
       "<pre style=\"white-space:pre;overflow-x:auto;line-height:normal;font-family:Menlo,'DejaVu Sans Mono',consolas,'Courier New',monospace\"><span style=\"color: #808000; text-decoration-color: #808000; font-weight: bold\">Warning:</span><span style=\"color: #808000; text-decoration-color: #808000\"> VTK requires 3D points, but 2D points given. Appending </span><span style=\"color: #808000; text-decoration-color: #808000; font-weight: bold\">0</span><span style=\"color: #808000; text-decoration-color: #808000\"> third component.</span>\n",
       "</pre>\n"
      ],
      "text/plain": [
       "\u001b[1;33mWarning:\u001b[0m\u001b[33m VTK requires 3D points, but 2D points given. Appending \u001b[0m\u001b[1;33m0\u001b[0m\u001b[33m third component.\u001b[0m\n"
      ]
     },
     "metadata": {},
     "output_type": "display_data"
    },
    {
     "name": "stdout",
     "output_type": "stream",
     "text": [
      "Phase: 476, D max: 3.0, Mean Stiffness: 327.37362299078444\n"
     ]
    },
    {
     "data": {
      "text/html": [
       "<pre style=\"white-space:pre;overflow-x:auto;line-height:normal;font-family:Menlo,'DejaVu Sans Mono',consolas,'Courier New',monospace\"><span style=\"color: #808000; text-decoration-color: #808000; font-weight: bold\">Warning:</span><span style=\"color: #808000; text-decoration-color: #808000\"> VTK requires 3D points, but 2D points given. Appending </span><span style=\"color: #808000; text-decoration-color: #808000; font-weight: bold\">0</span><span style=\"color: #808000; text-decoration-color: #808000\"> third component.</span>\n",
       "</pre>\n"
      ],
      "text/plain": [
       "\u001b[1;33mWarning:\u001b[0m\u001b[33m VTK requires 3D points, but 2D points given. Appending \u001b[0m\u001b[1;33m0\u001b[0m\u001b[33m third component.\u001b[0m\n"
      ]
     },
     "metadata": {},
     "output_type": "display_data"
    },
    {
     "name": "stdout",
     "output_type": "stream",
     "text": [
      "Phase: 478, D max: 3.0, Mean Stiffness: 329.1329052693795\n"
     ]
    },
    {
     "data": {
      "text/html": [
       "<pre style=\"white-space:pre;overflow-x:auto;line-height:normal;font-family:Menlo,'DejaVu Sans Mono',consolas,'Courier New',monospace\"><span style=\"color: #808000; text-decoration-color: #808000; font-weight: bold\">Warning:</span><span style=\"color: #808000; text-decoration-color: #808000\"> VTK requires 3D points, but 2D points given. Appending </span><span style=\"color: #808000; text-decoration-color: #808000; font-weight: bold\">0</span><span style=\"color: #808000; text-decoration-color: #808000\"> third component.</span>\n",
       "</pre>\n"
      ],
      "text/plain": [
       "\u001b[1;33mWarning:\u001b[0m\u001b[33m VTK requires 3D points, but 2D points given. Appending \u001b[0m\u001b[1;33m0\u001b[0m\u001b[33m third component.\u001b[0m\n"
      ]
     },
     "metadata": {},
     "output_type": "display_data"
    },
    {
     "name": "stdout",
     "output_type": "stream",
     "text": [
      "Phase: 480, D max: 3.0, Mean Stiffness: 330.8930676618429\n"
     ]
    },
    {
     "data": {
      "text/html": [
       "<pre style=\"white-space:pre;overflow-x:auto;line-height:normal;font-family:Menlo,'DejaVu Sans Mono',consolas,'Courier New',monospace\"><span style=\"color: #808000; text-decoration-color: #808000; font-weight: bold\">Warning:</span><span style=\"color: #808000; text-decoration-color: #808000\"> VTK requires 3D points, but 2D points given. Appending </span><span style=\"color: #808000; text-decoration-color: #808000; font-weight: bold\">0</span><span style=\"color: #808000; text-decoration-color: #808000\"> third component.</span>\n",
       "</pre>\n"
      ],
      "text/plain": [
       "\u001b[1;33mWarning:\u001b[0m\u001b[33m VTK requires 3D points, but 2D points given. Appending \u001b[0m\u001b[1;33m0\u001b[0m\u001b[33m third component.\u001b[0m\n"
      ]
     },
     "metadata": {},
     "output_type": "display_data"
    },
    {
     "name": "stdout",
     "output_type": "stream",
     "text": [
      "Phase: 482, D max: 3.0, Mean Stiffness: 332.6541002922918\n"
     ]
    },
    {
     "data": {
      "text/html": [
       "<pre style=\"white-space:pre;overflow-x:auto;line-height:normal;font-family:Menlo,'DejaVu Sans Mono',consolas,'Courier New',monospace\"><span style=\"color: #808000; text-decoration-color: #808000; font-weight: bold\">Warning:</span><span style=\"color: #808000; text-decoration-color: #808000\"> VTK requires 3D points, but 2D points given. Appending </span><span style=\"color: #808000; text-decoration-color: #808000; font-weight: bold\">0</span><span style=\"color: #808000; text-decoration-color: #808000\"> third component.</span>\n",
       "</pre>\n"
      ],
      "text/plain": [
       "\u001b[1;33mWarning:\u001b[0m\u001b[33m VTK requires 3D points, but 2D points given. Appending \u001b[0m\u001b[1;33m0\u001b[0m\u001b[33m third component.\u001b[0m\n"
      ]
     },
     "metadata": {},
     "output_type": "display_data"
    },
    {
     "name": "stdout",
     "output_type": "stream",
     "text": [
      "Phase: 484, D max: 3.0, Mean Stiffness: 334.41599347964274\n"
     ]
    },
    {
     "data": {
      "text/html": [
       "<pre style=\"white-space:pre;overflow-x:auto;line-height:normal;font-family:Menlo,'DejaVu Sans Mono',consolas,'Courier New',monospace\"><span style=\"color: #808000; text-decoration-color: #808000; font-weight: bold\">Warning:</span><span style=\"color: #808000; text-decoration-color: #808000\"> VTK requires 3D points, but 2D points given. Appending </span><span style=\"color: #808000; text-decoration-color: #808000; font-weight: bold\">0</span><span style=\"color: #808000; text-decoration-color: #808000\"> third component.</span>\n",
       "</pre>\n"
      ],
      "text/plain": [
       "\u001b[1;33mWarning:\u001b[0m\u001b[33m VTK requires 3D points, but 2D points given. Appending \u001b[0m\u001b[1;33m0\u001b[0m\u001b[33m third component.\u001b[0m\n"
      ]
     },
     "metadata": {},
     "output_type": "display_data"
    },
    {
     "name": "stdout",
     "output_type": "stream",
     "text": [
      "Phase: 486, D max: 3.0, Mean Stiffness: 336.178737742443\n"
     ]
    },
    {
     "data": {
      "text/html": [
       "<pre style=\"white-space:pre;overflow-x:auto;line-height:normal;font-family:Menlo,'DejaVu Sans Mono',consolas,'Courier New',monospace\"><span style=\"color: #808000; text-decoration-color: #808000; font-weight: bold\">Warning:</span><span style=\"color: #808000; text-decoration-color: #808000\"> VTK requires 3D points, but 2D points given. Appending </span><span style=\"color: #808000; text-decoration-color: #808000; font-weight: bold\">0</span><span style=\"color: #808000; text-decoration-color: #808000\"> third component.</span>\n",
       "</pre>\n"
      ],
      "text/plain": [
       "\u001b[1;33mWarning:\u001b[0m\u001b[33m VTK requires 3D points, but 2D points given. Appending \u001b[0m\u001b[1;33m0\u001b[0m\u001b[33m third component.\u001b[0m\n"
      ]
     },
     "metadata": {},
     "output_type": "display_data"
    },
    {
     "name": "stdout",
     "output_type": "stream",
     "text": [
      "Phase: 488, D max: 3.0, Mean Stiffness: 337.9423238041365\n"
     ]
    },
    {
     "data": {
      "text/html": [
       "<pre style=\"white-space:pre;overflow-x:auto;line-height:normal;font-family:Menlo,'DejaVu Sans Mono',consolas,'Courier New',monospace\"><span style=\"color: #808000; text-decoration-color: #808000; font-weight: bold\">Warning:</span><span style=\"color: #808000; text-decoration-color: #808000\"> VTK requires 3D points, but 2D points given. Appending </span><span style=\"color: #808000; text-decoration-color: #808000; font-weight: bold\">0</span><span style=\"color: #808000; text-decoration-color: #808000\"> third component.</span>\n",
       "</pre>\n"
      ],
      "text/plain": [
       "\u001b[1;33mWarning:\u001b[0m\u001b[33m VTK requires 3D points, but 2D points given. Appending \u001b[0m\u001b[1;33m0\u001b[0m\u001b[33m third component.\u001b[0m\n"
      ]
     },
     "metadata": {},
     "output_type": "display_data"
    },
    {
     "name": "stdout",
     "output_type": "stream",
     "text": [
      "Phase: 490, D max: 3.0, Mean Stiffness: 339.70674259880127\n"
     ]
    },
    {
     "data": {
      "text/html": [
       "<pre style=\"white-space:pre;overflow-x:auto;line-height:normal;font-family:Menlo,'DejaVu Sans Mono',consolas,'Courier New',monospace\"><span style=\"color: #808000; text-decoration-color: #808000; font-weight: bold\">Warning:</span><span style=\"color: #808000; text-decoration-color: #808000\"> VTK requires 3D points, but 2D points given. Appending </span><span style=\"color: #808000; text-decoration-color: #808000; font-weight: bold\">0</span><span style=\"color: #808000; text-decoration-color: #808000\"> third component.</span>\n",
       "</pre>\n"
      ],
      "text/plain": [
       "\u001b[1;33mWarning:\u001b[0m\u001b[33m VTK requires 3D points, but 2D points given. Appending \u001b[0m\u001b[1;33m0\u001b[0m\u001b[33m third component.\u001b[0m\n"
      ]
     },
     "metadata": {},
     "output_type": "display_data"
    },
    {
     "name": "stdout",
     "output_type": "stream",
     "text": [
      "Phase: 492, D max: 3.0, Mean Stiffness: 341.47198527739346\n"
     ]
    },
    {
     "data": {
      "text/html": [
       "<pre style=\"white-space:pre;overflow-x:auto;line-height:normal;font-family:Menlo,'DejaVu Sans Mono',consolas,'Courier New',monospace\"><span style=\"color: #808000; text-decoration-color: #808000; font-weight: bold\">Warning:</span><span style=\"color: #808000; text-decoration-color: #808000\"> VTK requires 3D points, but 2D points given. Appending </span><span style=\"color: #808000; text-decoration-color: #808000; font-weight: bold\">0</span><span style=\"color: #808000; text-decoration-color: #808000\"> third component.</span>\n",
       "</pre>\n"
      ],
      "text/plain": [
       "\u001b[1;33mWarning:\u001b[0m\u001b[33m VTK requires 3D points, but 2D points given. Appending \u001b[0m\u001b[1;33m0\u001b[0m\u001b[33m third component.\u001b[0m\n"
      ]
     },
     "metadata": {},
     "output_type": "display_data"
    },
    {
     "name": "stdout",
     "output_type": "stream",
     "text": [
      "Phase: 494, D max: 3.0, Mean Stiffness: 343.23804321453974\n"
     ]
    },
    {
     "data": {
      "text/html": [
       "<pre style=\"white-space:pre;overflow-x:auto;line-height:normal;font-family:Menlo,'DejaVu Sans Mono',consolas,'Courier New',monospace\"><span style=\"color: #808000; text-decoration-color: #808000; font-weight: bold\">Warning:</span><span style=\"color: #808000; text-decoration-color: #808000\"> VTK requires 3D points, but 2D points given. Appending </span><span style=\"color: #808000; text-decoration-color: #808000; font-weight: bold\">0</span><span style=\"color: #808000; text-decoration-color: #808000\"> third component.</span>\n",
       "</pre>\n"
      ],
      "text/plain": [
       "\u001b[1;33mWarning:\u001b[0m\u001b[33m VTK requires 3D points, but 2D points given. Appending \u001b[0m\u001b[1;33m0\u001b[0m\u001b[33m third component.\u001b[0m\n"
      ]
     },
     "metadata": {},
     "output_type": "display_data"
    },
    {
     "name": "stdout",
     "output_type": "stream",
     "text": [
      "Phase: 496, D max: 3.0, Mean Stiffness: 345.00490801592014\n"
     ]
    },
    {
     "data": {
      "text/html": [
       "<pre style=\"white-space:pre;overflow-x:auto;line-height:normal;font-family:Menlo,'DejaVu Sans Mono',consolas,'Courier New',monospace\"><span style=\"color: #808000; text-decoration-color: #808000; font-weight: bold\">Warning:</span><span style=\"color: #808000; text-decoration-color: #808000\"> VTK requires 3D points, but 2D points given. Appending </span><span style=\"color: #808000; text-decoration-color: #808000; font-weight: bold\">0</span><span style=\"color: #808000; text-decoration-color: #808000\"> third component.</span>\n",
       "</pre>\n"
      ],
      "text/plain": [
       "\u001b[1;33mWarning:\u001b[0m\u001b[33m VTK requires 3D points, but 2D points given. Appending \u001b[0m\u001b[1;33m0\u001b[0m\u001b[33m third component.\u001b[0m\n"
      ]
     },
     "metadata": {},
     "output_type": "display_data"
    },
    {
     "name": "stdout",
     "output_type": "stream",
     "text": [
      "Phase: 498, D max: 3.0, Mean Stiffness: 346.7725715262867\n"
     ]
    },
    {
     "data": {
      "text/html": [
       "<pre style=\"white-space:pre;overflow-x:auto;line-height:normal;font-family:Menlo,'DejaVu Sans Mono',consolas,'Courier New',monospace\"><span style=\"color: #808000; text-decoration-color: #808000; font-weight: bold\">Warning:</span><span style=\"color: #808000; text-decoration-color: #808000\"> VTK requires 3D points, but 2D points given. Appending </span><span style=\"color: #808000; text-decoration-color: #808000; font-weight: bold\">0</span><span style=\"color: #808000; text-decoration-color: #808000\"> third component.</span>\n",
       "</pre>\n"
      ],
      "text/plain": [
       "\u001b[1;33mWarning:\u001b[0m\u001b[33m VTK requires 3D points, but 2D points given. Appending \u001b[0m\u001b[1;33m0\u001b[0m\u001b[33m third component.\u001b[0m\n"
      ]
     },
     "metadata": {},
     "output_type": "display_data"
    },
    {
     "name": "stdout",
     "output_type": "stream",
     "text": [
      "Phase: 500, D max: 3.0, Mean Stiffness: 348.5410258381696\n"
     ]
    },
    {
     "data": {
      "text/html": [
       "<pre style=\"white-space:pre;overflow-x:auto;line-height:normal;font-family:Menlo,'DejaVu Sans Mono',consolas,'Courier New',monospace\"><span style=\"color: #808000; text-decoration-color: #808000; font-weight: bold\">Warning:</span><span style=\"color: #808000; text-decoration-color: #808000\"> VTK requires 3D points, but 2D points given. Appending </span><span style=\"color: #808000; text-decoration-color: #808000; font-weight: bold\">0</span><span style=\"color: #808000; text-decoration-color: #808000\"> third component.</span>\n",
       "</pre>\n"
      ],
      "text/plain": [
       "\u001b[1;33mWarning:\u001b[0m\u001b[33m VTK requires 3D points, but 2D points given. Appending \u001b[0m\u001b[1;33m0\u001b[0m\u001b[33m third component.\u001b[0m\n"
      ]
     },
     "metadata": {},
     "output_type": "display_data"
    },
    {
     "name": "stdout",
     "output_type": "stream",
     "text": [
      "Phase: 502, D max: 3.0, Mean Stiffness: 350.31026330132266\n"
     ]
    },
    {
     "data": {
      "text/html": [
       "<pre style=\"white-space:pre;overflow-x:auto;line-height:normal;font-family:Menlo,'DejaVu Sans Mono',consolas,'Courier New',monospace\"><span style=\"color: #808000; text-decoration-color: #808000; font-weight: bold\">Warning:</span><span style=\"color: #808000; text-decoration-color: #808000\"> VTK requires 3D points, but 2D points given. Appending </span><span style=\"color: #808000; text-decoration-color: #808000; font-weight: bold\">0</span><span style=\"color: #808000; text-decoration-color: #808000\"> third component.</span>\n",
       "</pre>\n"
      ],
      "text/plain": [
       "\u001b[1;33mWarning:\u001b[0m\u001b[33m VTK requires 3D points, but 2D points given. Appending \u001b[0m\u001b[1;33m0\u001b[0m\u001b[33m third component.\u001b[0m\n"
      ]
     },
     "metadata": {},
     "output_type": "display_data"
    },
    {
     "name": "stdout",
     "output_type": "stream",
     "text": [
      "Phase: 504, D max: 3.0, Mean Stiffness: 352.0802765329641\n"
     ]
    },
    {
     "data": {
      "text/html": [
       "<pre style=\"white-space:pre;overflow-x:auto;line-height:normal;font-family:Menlo,'DejaVu Sans Mono',consolas,'Courier New',monospace\"><span style=\"color: #808000; text-decoration-color: #808000; font-weight: bold\">Warning:</span><span style=\"color: #808000; text-decoration-color: #808000\"> VTK requires 3D points, but 2D points given. Appending </span><span style=\"color: #808000; text-decoration-color: #808000; font-weight: bold\">0</span><span style=\"color: #808000; text-decoration-color: #808000\"> third component.</span>\n",
       "</pre>\n"
      ],
      "text/plain": [
       "\u001b[1;33mWarning:\u001b[0m\u001b[33m VTK requires 3D points, but 2D points given. Appending \u001b[0m\u001b[1;33m0\u001b[0m\u001b[33m third component.\u001b[0m\n"
      ]
     },
     "metadata": {},
     "output_type": "display_data"
    },
    {
     "name": "stdout",
     "output_type": "stream",
     "text": [
      "Phase: 506, D max: 3.0, Mean Stiffness: 353.8510584288748\n"
     ]
    },
    {
     "data": {
      "text/html": [
       "<pre style=\"white-space:pre;overflow-x:auto;line-height:normal;font-family:Menlo,'DejaVu Sans Mono',consolas,'Courier New',monospace\"><span style=\"color: #808000; text-decoration-color: #808000; font-weight: bold\">Warning:</span><span style=\"color: #808000; text-decoration-color: #808000\"> VTK requires 3D points, but 2D points given. Appending </span><span style=\"color: #808000; text-decoration-color: #808000; font-weight: bold\">0</span><span style=\"color: #808000; text-decoration-color: #808000\"> third component.</span>\n",
       "</pre>\n"
      ],
      "text/plain": [
       "\u001b[1;33mWarning:\u001b[0m\u001b[33m VTK requires 3D points, but 2D points given. Appending \u001b[0m\u001b[1;33m0\u001b[0m\u001b[33m third component.\u001b[0m\n"
      ]
     },
     "metadata": {},
     "output_type": "display_data"
    },
    {
     "name": "stdout",
     "output_type": "stream",
     "text": [
      "Phase: 508, D max: 3.0, Mean Stiffness: 355.6226021754161\n"
     ]
    },
    {
     "data": {
      "text/html": [
       "<pre style=\"white-space:pre;overflow-x:auto;line-height:normal;font-family:Menlo,'DejaVu Sans Mono',consolas,'Courier New',monospace\"><span style=\"color: #808000; text-decoration-color: #808000; font-weight: bold\">Warning:</span><span style=\"color: #808000; text-decoration-color: #808000\"> VTK requires 3D points, but 2D points given. Appending </span><span style=\"color: #808000; text-decoration-color: #808000; font-weight: bold\">0</span><span style=\"color: #808000; text-decoration-color: #808000\"> third component.</span>\n",
       "</pre>\n"
      ],
      "text/plain": [
       "\u001b[1;33mWarning:\u001b[0m\u001b[33m VTK requires 3D points, but 2D points given. Appending \u001b[0m\u001b[1;33m0\u001b[0m\u001b[33m third component.\u001b[0m\n"
      ]
     },
     "metadata": {},
     "output_type": "display_data"
    },
    {
     "name": "stdout",
     "output_type": "stream",
     "text": [
      "Phase: 510, D max: 3.0, Mean Stiffness: 357.3949012625359\n"
     ]
    },
    {
     "data": {
      "text/html": [
       "<pre style=\"white-space:pre;overflow-x:auto;line-height:normal;font-family:Menlo,'DejaVu Sans Mono',consolas,'Courier New',monospace\"><span style=\"color: #808000; text-decoration-color: #808000; font-weight: bold\">Warning:</span><span style=\"color: #808000; text-decoration-color: #808000\"> VTK requires 3D points, but 2D points given. Appending </span><span style=\"color: #808000; text-decoration-color: #808000; font-weight: bold\">0</span><span style=\"color: #808000; text-decoration-color: #808000\"> third component.</span>\n",
       "</pre>\n"
      ],
      "text/plain": [
       "\u001b[1;33mWarning:\u001b[0m\u001b[33m VTK requires 3D points, but 2D points given. Appending \u001b[0m\u001b[1;33m0\u001b[0m\u001b[33m third component.\u001b[0m\n"
      ]
     },
     "metadata": {},
     "output_type": "display_data"
    },
    {
     "name": "stdout",
     "output_type": "stream",
     "text": [
      "Phase: 512, D max: 3.0, Mean Stiffness: 359.16794949783355\n"
     ]
    },
    {
     "data": {
      "text/html": [
       "<pre style=\"white-space:pre;overflow-x:auto;line-height:normal;font-family:Menlo,'DejaVu Sans Mono',consolas,'Courier New',monospace\"><span style=\"color: #808000; text-decoration-color: #808000; font-weight: bold\">Warning:</span><span style=\"color: #808000; text-decoration-color: #808000\"> VTK requires 3D points, but 2D points given. Appending </span><span style=\"color: #808000; text-decoration-color: #808000; font-weight: bold\">0</span><span style=\"color: #808000; text-decoration-color: #808000\"> third component.</span>\n",
       "</pre>\n"
      ],
      "text/plain": [
       "\u001b[1;33mWarning:\u001b[0m\u001b[33m VTK requires 3D points, but 2D points given. Appending \u001b[0m\u001b[1;33m0\u001b[0m\u001b[33m third component.\u001b[0m\n"
      ]
     },
     "metadata": {},
     "output_type": "display_data"
    },
    {
     "name": "stdout",
     "output_type": "stream",
     "text": [
      "Phase: 514, D max: 3.0, Mean Stiffness: 360.941741021757\n"
     ]
    },
    {
     "data": {
      "text/html": [
       "<pre style=\"white-space:pre;overflow-x:auto;line-height:normal;font-family:Menlo,'DejaVu Sans Mono',consolas,'Courier New',monospace\"><span style=\"color: #808000; text-decoration-color: #808000; font-weight: bold\">Warning:</span><span style=\"color: #808000; text-decoration-color: #808000\"> VTK requires 3D points, but 2D points given. Appending </span><span style=\"color: #808000; text-decoration-color: #808000; font-weight: bold\">0</span><span style=\"color: #808000; text-decoration-color: #808000\"> third component.</span>\n",
       "</pre>\n"
      ],
      "text/plain": [
       "\u001b[1;33mWarning:\u001b[0m\u001b[33m VTK requires 3D points, but 2D points given. Appending \u001b[0m\u001b[1;33m0\u001b[0m\u001b[33m third component.\u001b[0m\n"
      ]
     },
     "metadata": {},
     "output_type": "display_data"
    },
    {
     "name": "stdout",
     "output_type": "stream",
     "text": [
      "Phase: 516, D max: 3.0, Mean Stiffness: 362.7162703240113\n"
     ]
    },
    {
     "data": {
      "text/html": [
       "<pre style=\"white-space:pre;overflow-x:auto;line-height:normal;font-family:Menlo,'DejaVu Sans Mono',consolas,'Courier New',monospace\"><span style=\"color: #808000; text-decoration-color: #808000; font-weight: bold\">Warning:</span><span style=\"color: #808000; text-decoration-color: #808000\"> VTK requires 3D points, but 2D points given. Appending </span><span style=\"color: #808000; text-decoration-color: #808000; font-weight: bold\">0</span><span style=\"color: #808000; text-decoration-color: #808000\"> third component.</span>\n",
       "</pre>\n"
      ],
      "text/plain": [
       "\u001b[1;33mWarning:\u001b[0m\u001b[33m VTK requires 3D points, but 2D points given. Appending \u001b[0m\u001b[1;33m0\u001b[0m\u001b[33m third component.\u001b[0m\n"
      ]
     },
     "metadata": {},
     "output_type": "display_data"
    },
    {
     "name": "stdout",
     "output_type": "stream",
     "text": [
      "Phase: 518, D max: 3.0, Mean Stiffness: 364.4915322612531\n"
     ]
    },
    {
     "data": {
      "text/html": [
       "<pre style=\"white-space:pre;overflow-x:auto;line-height:normal;font-family:Menlo,'DejaVu Sans Mono',consolas,'Courier New',monospace\"><span style=\"color: #808000; text-decoration-color: #808000; font-weight: bold\">Warning:</span><span style=\"color: #808000; text-decoration-color: #808000\"> VTK requires 3D points, but 2D points given. Appending </span><span style=\"color: #808000; text-decoration-color: #808000; font-weight: bold\">0</span><span style=\"color: #808000; text-decoration-color: #808000\"> third component.</span>\n",
       "</pre>\n"
      ],
      "text/plain": [
       "\u001b[1;33mWarning:\u001b[0m\u001b[33m VTK requires 3D points, but 2D points given. Appending \u001b[0m\u001b[1;33m0\u001b[0m\u001b[33m third component.\u001b[0m\n"
      ]
     },
     "metadata": {},
     "output_type": "display_data"
    },
    {
     "name": "stdout",
     "output_type": "stream",
     "text": [
      "Phase: 520, D max: 3.0, Mean Stiffness: 366.26752207615715\n"
     ]
    },
    {
     "data": {
      "text/html": [
       "<pre style=\"white-space:pre;overflow-x:auto;line-height:normal;font-family:Menlo,'DejaVu Sans Mono',consolas,'Courier New',monospace\"><span style=\"color: #808000; text-decoration-color: #808000; font-weight: bold\">Warning:</span><span style=\"color: #808000; text-decoration-color: #808000\"> VTK requires 3D points, but 2D points given. Appending </span><span style=\"color: #808000; text-decoration-color: #808000; font-weight: bold\">0</span><span style=\"color: #808000; text-decoration-color: #808000\"> third component.</span>\n",
       "</pre>\n"
      ],
      "text/plain": [
       "\u001b[1;33mWarning:\u001b[0m\u001b[33m VTK requires 3D points, but 2D points given. Appending \u001b[0m\u001b[1;33m0\u001b[0m\u001b[33m third component.\u001b[0m\n"
      ]
     },
     "metadata": {},
     "output_type": "display_data"
    },
    {
     "name": "stdout",
     "output_type": "stream",
     "text": [
      "Phase: 522, D max: 3.0, Mean Stiffness: 368.0442354179305\n"
     ]
    },
    {
     "data": {
      "text/html": [
       "<pre style=\"white-space:pre;overflow-x:auto;line-height:normal;font-family:Menlo,'DejaVu Sans Mono',consolas,'Courier New',monospace\"><span style=\"color: #808000; text-decoration-color: #808000; font-weight: bold\">Warning:</span><span style=\"color: #808000; text-decoration-color: #808000\"> VTK requires 3D points, but 2D points given. Appending </span><span style=\"color: #808000; text-decoration-color: #808000; font-weight: bold\">0</span><span style=\"color: #808000; text-decoration-color: #808000\"> third component.</span>\n",
       "</pre>\n"
      ],
      "text/plain": [
       "\u001b[1;33mWarning:\u001b[0m\u001b[33m VTK requires 3D points, but 2D points given. Appending \u001b[0m\u001b[1;33m0\u001b[0m\u001b[33m third component.\u001b[0m\n"
      ]
     },
     "metadata": {},
     "output_type": "display_data"
    },
    {
     "name": "stdout",
     "output_type": "stream",
     "text": [
      "Phase: 524, D max: 3.0, Mean Stiffness: 369.8216683643571\n"
     ]
    },
    {
     "data": {
      "text/html": [
       "<pre style=\"white-space:pre;overflow-x:auto;line-height:normal;font-family:Menlo,'DejaVu Sans Mono',consolas,'Courier New',monospace\"><span style=\"color: #808000; text-decoration-color: #808000; font-weight: bold\">Warning:</span><span style=\"color: #808000; text-decoration-color: #808000\"> VTK requires 3D points, but 2D points given. Appending </span><span style=\"color: #808000; text-decoration-color: #808000; font-weight: bold\">0</span><span style=\"color: #808000; text-decoration-color: #808000\"> third component.</span>\n",
       "</pre>\n"
      ],
      "text/plain": [
       "\u001b[1;33mWarning:\u001b[0m\u001b[33m VTK requires 3D points, but 2D points given. Appending \u001b[0m\u001b[1;33m0\u001b[0m\u001b[33m third component.\u001b[0m\n"
      ]
     },
     "metadata": {},
     "output_type": "display_data"
    },
    {
     "name": "stdout",
     "output_type": "stream",
     "text": [
      "Phase: 526, D max: 3.0, Mean Stiffness: 371.59981744544865\n"
     ]
    },
    {
     "data": {
      "text/html": [
       "<pre style=\"white-space:pre;overflow-x:auto;line-height:normal;font-family:Menlo,'DejaVu Sans Mono',consolas,'Courier New',monospace\"><span style=\"color: #808000; text-decoration-color: #808000; font-weight: bold\">Warning:</span><span style=\"color: #808000; text-decoration-color: #808000\"> VTK requires 3D points, but 2D points given. Appending </span><span style=\"color: #808000; text-decoration-color: #808000; font-weight: bold\">0</span><span style=\"color: #808000; text-decoration-color: #808000\"> third component.</span>\n",
       "</pre>\n"
      ],
      "text/plain": [
       "\u001b[1;33mWarning:\u001b[0m\u001b[33m VTK requires 3D points, but 2D points given. Appending \u001b[0m\u001b[1;33m0\u001b[0m\u001b[33m third component.\u001b[0m\n"
      ]
     },
     "metadata": {},
     "output_type": "display_data"
    },
    {
     "name": "stdout",
     "output_type": "stream",
     "text": [
      "Phase: 528, D max: 3.0, Mean Stiffness: 373.3786796687731\n"
     ]
    },
    {
     "data": {
      "text/html": [
       "<pre style=\"white-space:pre;overflow-x:auto;line-height:normal;font-family:Menlo,'DejaVu Sans Mono',consolas,'Courier New',monospace\"><span style=\"color: #808000; text-decoration-color: #808000; font-weight: bold\">Warning:</span><span style=\"color: #808000; text-decoration-color: #808000\"> VTK requires 3D points, but 2D points given. Appending </span><span style=\"color: #808000; text-decoration-color: #808000; font-weight: bold\">0</span><span style=\"color: #808000; text-decoration-color: #808000\"> third component.</span>\n",
       "</pre>\n"
      ],
      "text/plain": [
       "\u001b[1;33mWarning:\u001b[0m\u001b[33m VTK requires 3D points, but 2D points given. Appending \u001b[0m\u001b[1;33m0\u001b[0m\u001b[33m third component.\u001b[0m\n"
      ]
     },
     "metadata": {},
     "output_type": "display_data"
    },
    {
     "name": "stdout",
     "output_type": "stream",
     "text": [
      "Phase: 530, D max: 3.0, Mean Stiffness: 375.15825254652816\n"
     ]
    },
    {
     "data": {
      "text/html": [
       "<pre style=\"white-space:pre;overflow-x:auto;line-height:normal;font-family:Menlo,'DejaVu Sans Mono',consolas,'Courier New',monospace\"><span style=\"color: #808000; text-decoration-color: #808000; font-weight: bold\">Warning:</span><span style=\"color: #808000; text-decoration-color: #808000\"> VTK requires 3D points, but 2D points given. Appending </span><span style=\"color: #808000; text-decoration-color: #808000; font-weight: bold\">0</span><span style=\"color: #808000; text-decoration-color: #808000\"> third component.</span>\n",
       "</pre>\n"
      ],
      "text/plain": [
       "\u001b[1;33mWarning:\u001b[0m\u001b[33m VTK requires 3D points, but 2D points given. Appending \u001b[0m\u001b[1;33m0\u001b[0m\u001b[33m third component.\u001b[0m\n"
      ]
     },
     "metadata": {},
     "output_type": "display_data"
    },
    {
     "name": "stdout",
     "output_type": "stream",
     "text": [
      "Phase: 532, D max: 3.0, Mean Stiffness: 376.9385341244091\n"
     ]
    },
    {
     "data": {
      "text/html": [
       "<pre style=\"white-space:pre;overflow-x:auto;line-height:normal;font-family:Menlo,'DejaVu Sans Mono',consolas,'Courier New',monospace\"><span style=\"color: #808000; text-decoration-color: #808000; font-weight: bold\">Warning:</span><span style=\"color: #808000; text-decoration-color: #808000\"> VTK requires 3D points, but 2D points given. Appending </span><span style=\"color: #808000; text-decoration-color: #808000; font-weight: bold\">0</span><span style=\"color: #808000; text-decoration-color: #808000\"> third component.</span>\n",
       "</pre>\n"
      ],
      "text/plain": [
       "\u001b[1;33mWarning:\u001b[0m\u001b[33m VTK requires 3D points, but 2D points given. Appending \u001b[0m\u001b[1;33m0\u001b[0m\u001b[33m third component.\u001b[0m\n"
      ]
     },
     "metadata": {},
     "output_type": "display_data"
    },
    {
     "name": "stdout",
     "output_type": "stream",
     "text": [
      "Phase: 534, D max: 3.0, Mean Stiffness: 378.71952301231573\n"
     ]
    },
    {
     "data": {
      "text/html": [
       "<pre style=\"white-space:pre;overflow-x:auto;line-height:normal;font-family:Menlo,'DejaVu Sans Mono',consolas,'Courier New',monospace\"><span style=\"color: #808000; text-decoration-color: #808000; font-weight: bold\">Warning:</span><span style=\"color: #808000; text-decoration-color: #808000\"> VTK requires 3D points, but 2D points given. Appending </span><span style=\"color: #808000; text-decoration-color: #808000; font-weight: bold\">0</span><span style=\"color: #808000; text-decoration-color: #808000\"> third component.</span>\n",
       "</pre>\n"
      ],
      "text/plain": [
       "\u001b[1;33mWarning:\u001b[0m\u001b[33m VTK requires 3D points, but 2D points given. Appending \u001b[0m\u001b[1;33m0\u001b[0m\u001b[33m third component.\u001b[0m\n"
      ]
     },
     "metadata": {},
     "output_type": "display_data"
    },
    {
     "name": "stdout",
     "output_type": "stream",
     "text": [
      "Phase: 536, D max: 3.0, Mean Stiffness: 380.50121841691436\n"
     ]
    },
    {
     "data": {
      "text/html": [
       "<pre style=\"white-space:pre;overflow-x:auto;line-height:normal;font-family:Menlo,'DejaVu Sans Mono',consolas,'Courier New',monospace\"><span style=\"color: #808000; text-decoration-color: #808000; font-weight: bold\">Warning:</span><span style=\"color: #808000; text-decoration-color: #808000\"> VTK requires 3D points, but 2D points given. Appending </span><span style=\"color: #808000; text-decoration-color: #808000; font-weight: bold\">0</span><span style=\"color: #808000; text-decoration-color: #808000\"> third component.</span>\n",
       "</pre>\n"
      ],
      "text/plain": [
       "\u001b[1;33mWarning:\u001b[0m\u001b[33m VTK requires 3D points, but 2D points given. Appending \u001b[0m\u001b[1;33m0\u001b[0m\u001b[33m third component.\u001b[0m\n"
      ]
     },
     "metadata": {},
     "output_type": "display_data"
    },
    {
     "name": "stdout",
     "output_type": "stream",
     "text": [
      "Phase: 538, D max: 3.0, Mean Stiffness: 382.2836201760557\n"
     ]
    },
    {
     "data": {
      "text/html": [
       "<pre style=\"white-space:pre;overflow-x:auto;line-height:normal;font-family:Menlo,'DejaVu Sans Mono',consolas,'Courier New',monospace\"><span style=\"color: #808000; text-decoration-color: #808000; font-weight: bold\">Warning:</span><span style=\"color: #808000; text-decoration-color: #808000\"> VTK requires 3D points, but 2D points given. Appending </span><span style=\"color: #808000; text-decoration-color: #808000; font-weight: bold\">0</span><span style=\"color: #808000; text-decoration-color: #808000\"> third component.</span>\n",
       "</pre>\n"
      ],
      "text/plain": [
       "\u001b[1;33mWarning:\u001b[0m\u001b[33m VTK requires 3D points, but 2D points given. Appending \u001b[0m\u001b[1;33m0\u001b[0m\u001b[33m third component.\u001b[0m\n"
      ]
     },
     "metadata": {},
     "output_type": "display_data"
    },
    {
     "name": "stdout",
     "output_type": "stream",
     "text": [
      "Phase: 540, D max: 3.0, Mean Stiffness: 384.0667287950126\n"
     ]
    },
    {
     "data": {
      "text/html": [
       "<pre style=\"white-space:pre;overflow-x:auto;line-height:normal;font-family:Menlo,'DejaVu Sans Mono',consolas,'Courier New',monospace\"><span style=\"color: #808000; text-decoration-color: #808000; font-weight: bold\">Warning:</span><span style=\"color: #808000; text-decoration-color: #808000\"> VTK requires 3D points, but 2D points given. Appending </span><span style=\"color: #808000; text-decoration-color: #808000; font-weight: bold\">0</span><span style=\"color: #808000; text-decoration-color: #808000\"> third component.</span>\n",
       "</pre>\n"
      ],
      "text/plain": [
       "\u001b[1;33mWarning:\u001b[0m\u001b[33m VTK requires 3D points, but 2D points given. Appending \u001b[0m\u001b[1;33m0\u001b[0m\u001b[33m third component.\u001b[0m\n"
      ]
     },
     "metadata": {},
     "output_type": "display_data"
    },
    {
     "name": "stdout",
     "output_type": "stream",
     "text": [
      "Phase: 542, D max: 3.0, Mean Stiffness: 385.8505454844693\n"
     ]
    },
    {
     "data": {
      "text/html": [
       "<pre style=\"white-space:pre;overflow-x:auto;line-height:normal;font-family:Menlo,'DejaVu Sans Mono',consolas,'Courier New',monospace\"><span style=\"color: #808000; text-decoration-color: #808000; font-weight: bold\">Warning:</span><span style=\"color: #808000; text-decoration-color: #808000\"> VTK requires 3D points, but 2D points given. Appending </span><span style=\"color: #808000; text-decoration-color: #808000; font-weight: bold\">0</span><span style=\"color: #808000; text-decoration-color: #808000\"> third component.</span>\n",
       "</pre>\n"
      ],
      "text/plain": [
       "\u001b[1;33mWarning:\u001b[0m\u001b[33m VTK requires 3D points, but 2D points given. Appending \u001b[0m\u001b[1;33m0\u001b[0m\u001b[33m third component.\u001b[0m\n"
      ]
     },
     "metadata": {},
     "output_type": "display_data"
    },
    {
     "name": "stdout",
     "output_type": "stream",
     "text": [
      "Phase: 544, D max: 3.0, Mean Stiffness: 387.63507220014947\n"
     ]
    },
    {
     "data": {
      "text/html": [
       "<pre style=\"white-space:pre;overflow-x:auto;line-height:normal;font-family:Menlo,'DejaVu Sans Mono',consolas,'Courier New',monospace\"><span style=\"color: #808000; text-decoration-color: #808000; font-weight: bold\">Warning:</span><span style=\"color: #808000; text-decoration-color: #808000\"> VTK requires 3D points, but 2D points given. Appending </span><span style=\"color: #808000; text-decoration-color: #808000; font-weight: bold\">0</span><span style=\"color: #808000; text-decoration-color: #808000\"> third component.</span>\n",
       "</pre>\n"
      ],
      "text/plain": [
       "\u001b[1;33mWarning:\u001b[0m\u001b[33m VTK requires 3D points, but 2D points given. Appending \u001b[0m\u001b[1;33m0\u001b[0m\u001b[33m third component.\u001b[0m\n"
      ]
     },
     "metadata": {},
     "output_type": "display_data"
    },
    {
     "name": "stdout",
     "output_type": "stream",
     "text": [
      "Phase: 546, D max: 3.0, Mean Stiffness: 389.4203116839177\n"
     ]
    },
    {
     "data": {
      "text/html": [
       "<pre style=\"white-space:pre;overflow-x:auto;line-height:normal;font-family:Menlo,'DejaVu Sans Mono',consolas,'Courier New',monospace\"><span style=\"color: #808000; text-decoration-color: #808000; font-weight: bold\">Warning:</span><span style=\"color: #808000; text-decoration-color: #808000\"> VTK requires 3D points, but 2D points given. Appending </span><span style=\"color: #808000; text-decoration-color: #808000; font-weight: bold\">0</span><span style=\"color: #808000; text-decoration-color: #808000\"> third component.</span>\n",
       "</pre>\n"
      ],
      "text/plain": [
       "\u001b[1;33mWarning:\u001b[0m\u001b[33m VTK requires 3D points, but 2D points given. Appending \u001b[0m\u001b[1;33m0\u001b[0m\u001b[33m third component.\u001b[0m\n"
      ]
     },
     "metadata": {},
     "output_type": "display_data"
    },
    {
     "name": "stdout",
     "output_type": "stream",
     "text": [
      "Phase: 548, D max: 3.0, Mean Stiffness: 391.20626750613104\n"
     ]
    },
    {
     "data": {
      "text/html": [
       "<pre style=\"white-space:pre;overflow-x:auto;line-height:normal;font-family:Menlo,'DejaVu Sans Mono',consolas,'Courier New',monospace\"><span style=\"color: #808000; text-decoration-color: #808000; font-weight: bold\">Warning:</span><span style=\"color: #808000; text-decoration-color: #808000\"> VTK requires 3D points, but 2D points given. Appending </span><span style=\"color: #808000; text-decoration-color: #808000; font-weight: bold\">0</span><span style=\"color: #808000; text-decoration-color: #808000\"> third component.</span>\n",
       "</pre>\n"
      ],
      "text/plain": [
       "\u001b[1;33mWarning:\u001b[0m\u001b[33m VTK requires 3D points, but 2D points given. Appending \u001b[0m\u001b[1;33m0\u001b[0m\u001b[33m third component.\u001b[0m\n"
      ]
     },
     "metadata": {},
     "output_type": "display_data"
    },
    {
     "name": "stdout",
     "output_type": "stream",
     "text": [
      "Phase: 550, D max: 3.0, Mean Stiffness: 392.9929441089493\n"
     ]
    },
    {
     "data": {
      "text/html": [
       "<pre style=\"white-space:pre;overflow-x:auto;line-height:normal;font-family:Menlo,'DejaVu Sans Mono',consolas,'Courier New',monospace\"><span style=\"color: #808000; text-decoration-color: #808000; font-weight: bold\">Warning:</span><span style=\"color: #808000; text-decoration-color: #808000\"> VTK requires 3D points, but 2D points given. Appending </span><span style=\"color: #808000; text-decoration-color: #808000; font-weight: bold\">0</span><span style=\"color: #808000; text-decoration-color: #808000\"> third component.</span>\n",
       "</pre>\n"
      ],
      "text/plain": [
       "\u001b[1;33mWarning:\u001b[0m\u001b[33m VTK requires 3D points, but 2D points given. Appending \u001b[0m\u001b[1;33m0\u001b[0m\u001b[33m third component.\u001b[0m\n"
      ]
     },
     "metadata": {},
     "output_type": "display_data"
    },
    {
     "name": "stdout",
     "output_type": "stream",
     "text": [
      "Phase: 552, D max: 3.0, Mean Stiffness: 394.7803468502366\n"
     ]
    },
    {
     "data": {
      "text/html": [
       "<pre style=\"white-space:pre;overflow-x:auto;line-height:normal;font-family:Menlo,'DejaVu Sans Mono',consolas,'Courier New',monospace\"><span style=\"color: #808000; text-decoration-color: #808000; font-weight: bold\">Warning:</span><span style=\"color: #808000; text-decoration-color: #808000\"> VTK requires 3D points, but 2D points given. Appending </span><span style=\"color: #808000; text-decoration-color: #808000; font-weight: bold\">0</span><span style=\"color: #808000; text-decoration-color: #808000\"> third component.</span>\n",
       "</pre>\n"
      ],
      "text/plain": [
       "\u001b[1;33mWarning:\u001b[0m\u001b[33m VTK requires 3D points, but 2D points given. Appending \u001b[0m\u001b[1;33m0\u001b[0m\u001b[33m third component.\u001b[0m\n"
      ]
     },
     "metadata": {},
     "output_type": "display_data"
    },
    {
     "name": "stdout",
     "output_type": "stream",
     "text": [
      "Phase: 554, D max: 3.0, Mean Stiffness: 396.56848204760706\n"
     ]
    },
    {
     "data": {
      "text/html": [
       "<pre style=\"white-space:pre;overflow-x:auto;line-height:normal;font-family:Menlo,'DejaVu Sans Mono',consolas,'Courier New',monospace\"><span style=\"color: #808000; text-decoration-color: #808000; font-weight: bold\">Warning:</span><span style=\"color: #808000; text-decoration-color: #808000\"> VTK requires 3D points, but 2D points given. Appending </span><span style=\"color: #808000; text-decoration-color: #808000; font-weight: bold\">0</span><span style=\"color: #808000; text-decoration-color: #808000\"> third component.</span>\n",
       "</pre>\n"
      ],
      "text/plain": [
       "\u001b[1;33mWarning:\u001b[0m\u001b[33m VTK requires 3D points, but 2D points given. Appending \u001b[0m\u001b[1;33m0\u001b[0m\u001b[33m third component.\u001b[0m\n"
      ]
     },
     "metadata": {},
     "output_type": "display_data"
    },
    {
     "name": "stdout",
     "output_type": "stream",
     "text": [
      "Phase: 556, D max: 3.0, Mean Stiffness: 398.3573570220786\n"
     ]
    },
    {
     "data": {
      "text/html": [
       "<pre style=\"white-space:pre;overflow-x:auto;line-height:normal;font-family:Menlo,'DejaVu Sans Mono',consolas,'Courier New',monospace\"><span style=\"color: #808000; text-decoration-color: #808000; font-weight: bold\">Warning:</span><span style=\"color: #808000; text-decoration-color: #808000\"> VTK requires 3D points, but 2D points given. Appending </span><span style=\"color: #808000; text-decoration-color: #808000; font-weight: bold\">0</span><span style=\"color: #808000; text-decoration-color: #808000\"> third component.</span>\n",
       "</pre>\n"
      ],
      "text/plain": [
       "\u001b[1;33mWarning:\u001b[0m\u001b[33m VTK requires 3D points, but 2D points given. Appending \u001b[0m\u001b[1;33m0\u001b[0m\u001b[33m third component.\u001b[0m\n"
      ]
     },
     "metadata": {},
     "output_type": "display_data"
    },
    {
     "name": "stdout",
     "output_type": "stream",
     "text": [
      "Phase: 558, D max: 3.0, Mean Stiffness: 400.14698014071075\n"
     ]
    },
    {
     "data": {
      "text/html": [
       "<pre style=\"white-space:pre;overflow-x:auto;line-height:normal;font-family:Menlo,'DejaVu Sans Mono',consolas,'Courier New',monospace\"><span style=\"color: #808000; text-decoration-color: #808000; font-weight: bold\">Warning:</span><span style=\"color: #808000; text-decoration-color: #808000\"> VTK requires 3D points, but 2D points given. Appending </span><span style=\"color: #808000; text-decoration-color: #808000; font-weight: bold\">0</span><span style=\"color: #808000; text-decoration-color: #808000\"> third component.</span>\n",
       "</pre>\n"
      ],
      "text/plain": [
       "\u001b[1;33mWarning:\u001b[0m\u001b[33m VTK requires 3D points, but 2D points given. Appending \u001b[0m\u001b[1;33m0\u001b[0m\u001b[33m third component.\u001b[0m\n"
      ]
     },
     "metadata": {},
     "output_type": "display_data"
    },
    {
     "name": "stdout",
     "output_type": "stream",
     "text": [
      "Phase: 560, D max: 3.0, Mean Stiffness: 401.9373608575135\n"
     ]
    },
    {
     "data": {
      "text/html": [
       "<pre style=\"white-space:pre;overflow-x:auto;line-height:normal;font-family:Menlo,'DejaVu Sans Mono',consolas,'Courier New',monospace\"><span style=\"color: #808000; text-decoration-color: #808000; font-weight: bold\">Warning:</span><span style=\"color: #808000; text-decoration-color: #808000\"> VTK requires 3D points, but 2D points given. Appending </span><span style=\"color: #808000; text-decoration-color: #808000; font-weight: bold\">0</span><span style=\"color: #808000; text-decoration-color: #808000\"> third component.</span>\n",
       "</pre>\n"
      ],
      "text/plain": [
       "\u001b[1;33mWarning:\u001b[0m\u001b[33m VTK requires 3D points, but 2D points given. Appending \u001b[0m\u001b[1;33m0\u001b[0m\u001b[33m third component.\u001b[0m\n"
      ]
     },
     "metadata": {},
     "output_type": "display_data"
    },
    {
     "name": "stdout",
     "output_type": "stream",
     "text": [
      "Phase: 562, D max: 3.0, Mean Stiffness: 403.728509751834\n"
     ]
    },
    {
     "data": {
      "text/html": [
       "<pre style=\"white-space:pre;overflow-x:auto;line-height:normal;font-family:Menlo,'DejaVu Sans Mono',consolas,'Courier New',monospace\"><span style=\"color: #808000; text-decoration-color: #808000; font-weight: bold\">Warning:</span><span style=\"color: #808000; text-decoration-color: #808000\"> VTK requires 3D points, but 2D points given. Appending </span><span style=\"color: #808000; text-decoration-color: #808000; font-weight: bold\">0</span><span style=\"color: #808000; text-decoration-color: #808000\"> third component.</span>\n",
       "</pre>\n"
      ],
      "text/plain": [
       "\u001b[1;33mWarning:\u001b[0m\u001b[33m VTK requires 3D points, but 2D points given. Appending \u001b[0m\u001b[1;33m0\u001b[0m\u001b[33m third component.\u001b[0m\n"
      ]
     },
     "metadata": {},
     "output_type": "display_data"
    },
    {
     "name": "stdout",
     "output_type": "stream",
     "text": [
      "Phase: 564, D max: 3.0, Mean Stiffness: 405.52043856335246\n"
     ]
    },
    {
     "data": {
      "text/html": [
       "<pre style=\"white-space:pre;overflow-x:auto;line-height:normal;font-family:Menlo,'DejaVu Sans Mono',consolas,'Courier New',monospace\"><span style=\"color: #808000; text-decoration-color: #808000; font-weight: bold\">Warning:</span><span style=\"color: #808000; text-decoration-color: #808000\"> VTK requires 3D points, but 2D points given. Appending </span><span style=\"color: #808000; text-decoration-color: #808000; font-weight: bold\">0</span><span style=\"color: #808000; text-decoration-color: #808000\"> third component.</span>\n",
       "</pre>\n"
      ],
      "text/plain": [
       "\u001b[1;33mWarning:\u001b[0m\u001b[33m VTK requires 3D points, but 2D points given. Appending \u001b[0m\u001b[1;33m0\u001b[0m\u001b[33m third component.\u001b[0m\n"
      ]
     },
     "metadata": {},
     "output_type": "display_data"
    },
    {
     "name": "stdout",
     "output_type": "stream",
     "text": [
      "Phase: 566, D max: 3.0, Mean Stiffness: 407.3131602227714\n"
     ]
    },
    {
     "data": {
      "text/html": [
       "<pre style=\"white-space:pre;overflow-x:auto;line-height:normal;font-family:Menlo,'DejaVu Sans Mono',consolas,'Courier New',monospace\"><span style=\"color: #808000; text-decoration-color: #808000; font-weight: bold\">Warning:</span><span style=\"color: #808000; text-decoration-color: #808000\"> VTK requires 3D points, but 2D points given. Appending </span><span style=\"color: #808000; text-decoration-color: #808000; font-weight: bold\">0</span><span style=\"color: #808000; text-decoration-color: #808000\"> third component.</span>\n",
       "</pre>\n"
      ],
      "text/plain": [
       "\u001b[1;33mWarning:\u001b[0m\u001b[33m VTK requires 3D points, but 2D points given. Appending \u001b[0m\u001b[1;33m0\u001b[0m\u001b[33m third component.\u001b[0m\n"
      ]
     },
     "metadata": {},
     "output_type": "display_data"
    },
    {
     "name": "stdout",
     "output_type": "stream",
     "text": [
      "Phase: 568, D max: 3.0, Mean Stiffness: 409.10684482373597\n"
     ]
    },
    {
     "data": {
      "text/html": [
       "<pre style=\"white-space:pre;overflow-x:auto;line-height:normal;font-family:Menlo,'DejaVu Sans Mono',consolas,'Courier New',monospace\"><span style=\"color: #808000; text-decoration-color: #808000; font-weight: bold\">Warning:</span><span style=\"color: #808000; text-decoration-color: #808000\"> VTK requires 3D points, but 2D points given. Appending </span><span style=\"color: #808000; text-decoration-color: #808000; font-weight: bold\">0</span><span style=\"color: #808000; text-decoration-color: #808000\"> third component.</span>\n",
       "</pre>\n"
      ],
      "text/plain": [
       "\u001b[1;33mWarning:\u001b[0m\u001b[33m VTK requires 3D points, but 2D points given. Appending \u001b[0m\u001b[1;33m0\u001b[0m\u001b[33m third component.\u001b[0m\n"
      ]
     },
     "metadata": {},
     "output_type": "display_data"
    },
    {
     "name": "stdout",
     "output_type": "stream",
     "text": [
      "Phase: 570, D max: 3.0, Mean Stiffness: 410.90153436913744\n"
     ]
    },
    {
     "data": {
      "text/html": [
       "<pre style=\"white-space:pre;overflow-x:auto;line-height:normal;font-family:Menlo,'DejaVu Sans Mono',consolas,'Courier New',monospace\"><span style=\"color: #808000; text-decoration-color: #808000; font-weight: bold\">Warning:</span><span style=\"color: #808000; text-decoration-color: #808000\"> VTK requires 3D points, but 2D points given. Appending </span><span style=\"color: #808000; text-decoration-color: #808000; font-weight: bold\">0</span><span style=\"color: #808000; text-decoration-color: #808000\"> third component.</span>\n",
       "</pre>\n"
      ],
      "text/plain": [
       "\u001b[1;33mWarning:\u001b[0m\u001b[33m VTK requires 3D points, but 2D points given. Appending \u001b[0m\u001b[1;33m0\u001b[0m\u001b[33m third component.\u001b[0m\n"
      ]
     },
     "metadata": {},
     "output_type": "display_data"
    },
    {
     "name": "stdout",
     "output_type": "stream",
     "text": [
      "Phase: 572, D max: 3.0, Mean Stiffness: 412.69710178269247\n"
     ]
    },
    {
     "data": {
      "text/html": [
       "<pre style=\"white-space:pre;overflow-x:auto;line-height:normal;font-family:Menlo,'DejaVu Sans Mono',consolas,'Courier New',monospace\"><span style=\"color: #808000; text-decoration-color: #808000; font-weight: bold\">Warning:</span><span style=\"color: #808000; text-decoration-color: #808000\"> VTK requires 3D points, but 2D points given. Appending </span><span style=\"color: #808000; text-decoration-color: #808000; font-weight: bold\">0</span><span style=\"color: #808000; text-decoration-color: #808000\"> third component.</span>\n",
       "</pre>\n"
      ],
      "text/plain": [
       "\u001b[1;33mWarning:\u001b[0m\u001b[33m VTK requires 3D points, but 2D points given. Appending \u001b[0m\u001b[1;33m0\u001b[0m\u001b[33m third component.\u001b[0m\n"
      ]
     },
     "metadata": {},
     "output_type": "display_data"
    },
    {
     "name": "stdout",
     "output_type": "stream",
     "text": [
      "Phase: 574, D max: 3.0, Mean Stiffness: 414.4935693435423\n"
     ]
    },
    {
     "data": {
      "text/html": [
       "<pre style=\"white-space:pre;overflow-x:auto;line-height:normal;font-family:Menlo,'DejaVu Sans Mono',consolas,'Courier New',monospace\"><span style=\"color: #808000; text-decoration-color: #808000; font-weight: bold\">Warning:</span><span style=\"color: #808000; text-decoration-color: #808000\"> VTK requires 3D points, but 2D points given. Appending </span><span style=\"color: #808000; text-decoration-color: #808000; font-weight: bold\">0</span><span style=\"color: #808000; text-decoration-color: #808000\"> third component.</span>\n",
       "</pre>\n"
      ],
      "text/plain": [
       "\u001b[1;33mWarning:\u001b[0m\u001b[33m VTK requires 3D points, but 2D points given. Appending \u001b[0m\u001b[1;33m0\u001b[0m\u001b[33m third component.\u001b[0m\n"
      ]
     },
     "metadata": {},
     "output_type": "display_data"
    },
    {
     "name": "stdout",
     "output_type": "stream",
     "text": [
      "Phase: 576, D max: 3.0, Mean Stiffness: 416.29096101596303\n"
     ]
    },
    {
     "data": {
      "text/html": [
       "<pre style=\"white-space:pre;overflow-x:auto;line-height:normal;font-family:Menlo,'DejaVu Sans Mono',consolas,'Courier New',monospace\"><span style=\"color: #808000; text-decoration-color: #808000; font-weight: bold\">Warning:</span><span style=\"color: #808000; text-decoration-color: #808000\"> VTK requires 3D points, but 2D points given. Appending </span><span style=\"color: #808000; text-decoration-color: #808000; font-weight: bold\">0</span><span style=\"color: #808000; text-decoration-color: #808000\"> third component.</span>\n",
       "</pre>\n"
      ],
      "text/plain": [
       "\u001b[1;33mWarning:\u001b[0m\u001b[33m VTK requires 3D points, but 2D points given. Appending \u001b[0m\u001b[1;33m0\u001b[0m\u001b[33m third component.\u001b[0m\n"
      ]
     },
     "metadata": {},
     "output_type": "display_data"
    },
    {
     "name": "stdout",
     "output_type": "stream",
     "text": [
      "Phase: 578, D max: 3.0, Mean Stiffness: 418.08930247026586\n"
     ]
    },
    {
     "data": {
      "text/html": [
       "<pre style=\"white-space:pre;overflow-x:auto;line-height:normal;font-family:Menlo,'DejaVu Sans Mono',consolas,'Courier New',monospace\"><span style=\"color: #808000; text-decoration-color: #808000; font-weight: bold\">Warning:</span><span style=\"color: #808000; text-decoration-color: #808000\"> VTK requires 3D points, but 2D points given. Appending </span><span style=\"color: #808000; text-decoration-color: #808000; font-weight: bold\">0</span><span style=\"color: #808000; text-decoration-color: #808000\"> third component.</span>\n",
       "</pre>\n"
      ],
      "text/plain": [
       "\u001b[1;33mWarning:\u001b[0m\u001b[33m VTK requires 3D points, but 2D points given. Appending \u001b[0m\u001b[1;33m0\u001b[0m\u001b[33m third component.\u001b[0m\n"
      ]
     },
     "metadata": {},
     "output_type": "display_data"
    },
    {
     "name": "stdout",
     "output_type": "stream",
     "text": [
      "Phase: 580, D max: 3.0, Mean Stiffness: 419.8886210963576\n"
     ]
    },
    {
     "data": {
      "text/html": [
       "<pre style=\"white-space:pre;overflow-x:auto;line-height:normal;font-family:Menlo,'DejaVu Sans Mono',consolas,'Courier New',monospace\"><span style=\"color: #808000; text-decoration-color: #808000; font-weight: bold\">Warning:</span><span style=\"color: #808000; text-decoration-color: #808000\"> VTK requires 3D points, but 2D points given. Appending </span><span style=\"color: #808000; text-decoration-color: #808000; font-weight: bold\">0</span><span style=\"color: #808000; text-decoration-color: #808000\"> third component.</span>\n",
       "</pre>\n"
      ],
      "text/plain": [
       "\u001b[1;33mWarning:\u001b[0m\u001b[33m VTK requires 3D points, but 2D points given. Appending \u001b[0m\u001b[1;33m0\u001b[0m\u001b[33m third component.\u001b[0m\n"
      ]
     },
     "metadata": {},
     "output_type": "display_data"
    },
    {
     "name": "stdout",
     "output_type": "stream",
     "text": [
      "Phase: 582, D max: 3.0, Mean Stiffness: 421.6889460103213\n"
     ]
    },
    {
     "data": {
      "text/html": [
       "<pre style=\"white-space:pre;overflow-x:auto;line-height:normal;font-family:Menlo,'DejaVu Sans Mono',consolas,'Courier New',monospace\"><span style=\"color: #808000; text-decoration-color: #808000; font-weight: bold\">Warning:</span><span style=\"color: #808000; text-decoration-color: #808000\"> VTK requires 3D points, but 2D points given. Appending </span><span style=\"color: #808000; text-decoration-color: #808000; font-weight: bold\">0</span><span style=\"color: #808000; text-decoration-color: #808000\"> third component.</span>\n",
       "</pre>\n"
      ],
      "text/plain": [
       "\u001b[1;33mWarning:\u001b[0m\u001b[33m VTK requires 3D points, but 2D points given. Appending \u001b[0m\u001b[1;33m0\u001b[0m\u001b[33m third component.\u001b[0m\n"
      ]
     },
     "metadata": {},
     "output_type": "display_data"
    },
    {
     "name": "stdout",
     "output_type": "stream",
     "text": [
      "Phase: 584, D max: 3.0, Mean Stiffness: 423.49030805479083\n"
     ]
    },
    {
     "data": {
      "text/html": [
       "<pre style=\"white-space:pre;overflow-x:auto;line-height:normal;font-family:Menlo,'DejaVu Sans Mono',consolas,'Courier New',monospace\"><span style=\"color: #808000; text-decoration-color: #808000; font-weight: bold\">Warning:</span><span style=\"color: #808000; text-decoration-color: #808000\"> VTK requires 3D points, but 2D points given. Appending </span><span style=\"color: #808000; text-decoration-color: #808000; font-weight: bold\">0</span><span style=\"color: #808000; text-decoration-color: #808000\"> third component.</span>\n",
       "</pre>\n"
      ],
      "text/plain": [
       "\u001b[1;33mWarning:\u001b[0m\u001b[33m VTK requires 3D points, but 2D points given. Appending \u001b[0m\u001b[1;33m0\u001b[0m\u001b[33m third component.\u001b[0m\n"
      ]
     },
     "metadata": {},
     "output_type": "display_data"
    },
    {
     "name": "stdout",
     "output_type": "stream",
     "text": [
      "Phase: 586, D max: 3.0, Mean Stiffness: 425.2927397943338\n"
     ]
    },
    {
     "data": {
      "text/html": [
       "<pre style=\"white-space:pre;overflow-x:auto;line-height:normal;font-family:Menlo,'DejaVu Sans Mono',consolas,'Courier New',monospace\"><span style=\"color: #808000; text-decoration-color: #808000; font-weight: bold\">Warning:</span><span style=\"color: #808000; text-decoration-color: #808000\"> VTK requires 3D points, but 2D points given. Appending </span><span style=\"color: #808000; text-decoration-color: #808000; font-weight: bold\">0</span><span style=\"color: #808000; text-decoration-color: #808000\"> third component.</span>\n",
       "</pre>\n"
      ],
      "text/plain": [
       "\u001b[1;33mWarning:\u001b[0m\u001b[33m VTK requires 3D points, but 2D points given. Appending \u001b[0m\u001b[1;33m0\u001b[0m\u001b[33m third component.\u001b[0m\n"
      ]
     },
     "metadata": {},
     "output_type": "display_data"
    },
    {
     "name": "stdout",
     "output_type": "stream",
     "text": [
      "Phase: 588, D max: 3.0, Mean Stiffness: 427.09627550746853\n"
     ]
    },
    {
     "data": {
      "text/html": [
       "<pre style=\"white-space:pre;overflow-x:auto;line-height:normal;font-family:Menlo,'DejaVu Sans Mono',consolas,'Courier New',monospace\"><span style=\"color: #808000; text-decoration-color: #808000; font-weight: bold\">Warning:</span><span style=\"color: #808000; text-decoration-color: #808000\"> VTK requires 3D points, but 2D points given. Appending </span><span style=\"color: #808000; text-decoration-color: #808000; font-weight: bold\">0</span><span style=\"color: #808000; text-decoration-color: #808000\"> third component.</span>\n",
       "</pre>\n"
      ],
      "text/plain": [
       "\u001b[1;33mWarning:\u001b[0m\u001b[33m VTK requires 3D points, but 2D points given. Appending \u001b[0m\u001b[1;33m0\u001b[0m\u001b[33m third component.\u001b[0m\n"
      ]
     },
     "metadata": {},
     "output_type": "display_data"
    },
    {
     "name": "stdout",
     "output_type": "stream",
     "text": [
      "Phase: 590, D max: 3.0, Mean Stiffness: 428.90095117732386\n"
     ]
    },
    {
     "data": {
      "text/html": [
       "<pre style=\"white-space:pre;overflow-x:auto;line-height:normal;font-family:Menlo,'DejaVu Sans Mono',consolas,'Courier New',monospace\"><span style=\"color: #808000; text-decoration-color: #808000; font-weight: bold\">Warning:</span><span style=\"color: #808000; text-decoration-color: #808000\"> VTK requires 3D points, but 2D points given. Appending </span><span style=\"color: #808000; text-decoration-color: #808000; font-weight: bold\">0</span><span style=\"color: #808000; text-decoration-color: #808000\"> third component.</span>\n",
       "</pre>\n"
      ],
      "text/plain": [
       "\u001b[1;33mWarning:\u001b[0m\u001b[33m VTK requires 3D points, but 2D points given. Appending \u001b[0m\u001b[1;33m0\u001b[0m\u001b[33m third component.\u001b[0m\n"
      ]
     },
     "metadata": {},
     "output_type": "display_data"
    },
    {
     "name": "stdout",
     "output_type": "stream",
     "text": [
      "Phase: 592, D max: 3.0, Mean Stiffness: 430.70680448323634\n"
     ]
    },
    {
     "data": {
      "text/html": [
       "<pre style=\"white-space:pre;overflow-x:auto;line-height:normal;font-family:Menlo,'DejaVu Sans Mono',consolas,'Courier New',monospace\"><span style=\"color: #808000; text-decoration-color: #808000; font-weight: bold\">Warning:</span><span style=\"color: #808000; text-decoration-color: #808000\"> VTK requires 3D points, but 2D points given. Appending </span><span style=\"color: #808000; text-decoration-color: #808000; font-weight: bold\">0</span><span style=\"color: #808000; text-decoration-color: #808000\"> third component.</span>\n",
       "</pre>\n"
      ],
      "text/plain": [
       "\u001b[1;33mWarning:\u001b[0m\u001b[33m VTK requires 3D points, but 2D points given. Appending \u001b[0m\u001b[1;33m0\u001b[0m\u001b[33m third component.\u001b[0m\n"
      ]
     },
     "metadata": {},
     "output_type": "display_data"
    },
    {
     "name": "stdout",
     "output_type": "stream",
     "text": [
      "Phase: 594, D max: 3.0, Mean Stiffness: 432.51387479577136\n"
     ]
    },
    {
     "data": {
      "text/html": [
       "<pre style=\"white-space:pre;overflow-x:auto;line-height:normal;font-family:Menlo,'DejaVu Sans Mono',consolas,'Courier New',monospace\"><span style=\"color: #808000; text-decoration-color: #808000; font-weight: bold\">Warning:</span><span style=\"color: #808000; text-decoration-color: #808000\"> VTK requires 3D points, but 2D points given. Appending </span><span style=\"color: #808000; text-decoration-color: #808000; font-weight: bold\">0</span><span style=\"color: #808000; text-decoration-color: #808000\"> third component.</span>\n",
       "</pre>\n"
      ],
      "text/plain": [
       "\u001b[1;33mWarning:\u001b[0m\u001b[33m VTK requires 3D points, but 2D points given. Appending \u001b[0m\u001b[1;33m0\u001b[0m\u001b[33m third component.\u001b[0m\n"
      ]
     },
     "metadata": {},
     "output_type": "display_data"
    },
    {
     "name": "stdout",
     "output_type": "stream",
     "text": [
      "Phase: 596, D max: 3.0, Mean Stiffness: 434.3222031777111\n"
     ]
    },
    {
     "data": {
      "text/html": [
       "<pre style=\"white-space:pre;overflow-x:auto;line-height:normal;font-family:Menlo,'DejaVu Sans Mono',consolas,'Courier New',monospace\"><span style=\"color: #808000; text-decoration-color: #808000; font-weight: bold\">Warning:</span><span style=\"color: #808000; text-decoration-color: #808000\"> VTK requires 3D points, but 2D points given. Appending </span><span style=\"color: #808000; text-decoration-color: #808000; font-weight: bold\">0</span><span style=\"color: #808000; text-decoration-color: #808000\"> third component.</span>\n",
       "</pre>\n"
      ],
      "text/plain": [
       "\u001b[1;33mWarning:\u001b[0m\u001b[33m VTK requires 3D points, but 2D points given. Appending \u001b[0m\u001b[1;33m0\u001b[0m\u001b[33m third component.\u001b[0m\n"
      ]
     },
     "metadata": {},
     "output_type": "display_data"
    },
    {
     "name": "stdout",
     "output_type": "stream",
     "text": [
      "Phase: 598, D max: 3.0, Mean Stiffness: 436.13183239346176\n"
     ]
    },
    {
     "data": {
      "text/html": [
       "<pre style=\"white-space:pre;overflow-x:auto;line-height:normal;font-family:Menlo,'DejaVu Sans Mono',consolas,'Courier New',monospace\"><span style=\"color: #808000; text-decoration-color: #808000; font-weight: bold\">Warning:</span><span style=\"color: #808000; text-decoration-color: #808000\"> VTK requires 3D points, but 2D points given. Appending </span><span style=\"color: #808000; text-decoration-color: #808000; font-weight: bold\">0</span><span style=\"color: #808000; text-decoration-color: #808000\"> third component.</span>\n",
       "</pre>\n"
      ],
      "text/plain": [
       "\u001b[1;33mWarning:\u001b[0m\u001b[33m VTK requires 3D points, but 2D points given. Appending \u001b[0m\u001b[1;33m0\u001b[0m\u001b[33m third component.\u001b[0m\n"
      ]
     },
     "metadata": {},
     "output_type": "display_data"
    },
    {
     "data": {
      "text/html": [
       "<pre style=\"white-space:pre;overflow-x:auto;line-height:normal;font-family:Menlo,'DejaVu Sans Mono',consolas,'Courier New',monospace\"><span style=\"color: #808000; text-decoration-color: #808000; font-weight: bold\">Warning:</span><span style=\"color: #808000; text-decoration-color: #808000\"> VTK requires 3D points, but 2D points given. Appending </span><span style=\"color: #808000; text-decoration-color: #808000; font-weight: bold\">0</span><span style=\"color: #808000; text-decoration-color: #808000\"> third component.</span>\n",
       "</pre>\n"
      ],
      "text/plain": [
       "\u001b[1;33mWarning:\u001b[0m\u001b[33m VTK requires 3D points, but 2D points given. Appending \u001b[0m\u001b[1;33m0\u001b[0m\u001b[33m third component.\u001b[0m\n"
      ]
     },
     "metadata": {},
     "output_type": "display_data"
    }
   ],
   "source": [
    "# Simulation with agent\n",
    "# Specify the output folder and filename\n",
    "output_folder = \"simulation_results\"\n",
    "filename = os.path.join(output_folder, \"hexagonal_mesh_final_result_EDGE_init.vtk\")\n",
    "\n",
    "# Load the mesh from the initial file\n",
    "mesh = meshio.read(filename)\n",
    "points = mesh.points[:, :2]  # Extract x, y coordinates for 2D\n",
    "edges = mesh.cells_dict[\"line\"]  # Extract edges from the loaded mesh\n",
    "\n",
    "# Extract any initial spring constants, if available; otherwise, initialize\n",
    "try:\n",
    "    spring_constants = mesh.cell_data[\"Stiffness\"][0]\n",
    "except KeyError:\n",
    "    k_normal = 1.0  # Default spring constant\n",
    "    spring_constants = np.full(len(edges), k_normal)\n",
    "\n",
    "\n",
    "\n",
    "# Simulation with agent\n",
    "print(\"Agent-based simulation\")\n",
    "agent_update_interval = 1500\n",
    "agent_total_iterations = 600  # Total iterations in agent-driven phase\n",
    "activation_history = []\n",
    "agent_density_history = []\n",
    "stiffness_history = []\n",
    "epsilon_history = []\n",
    "stress_history = []\n",
    "E_history = []\n",
    "\n",
    "one_time_triggered = np.zeros(len(spring_constants), dtype=bool)\n",
    "\n",
    "for phase in range(0, agent_total_iterations):\n",
    "    \n",
    "    # Update the agent density and activation here based on the new state of the system\n",
    "    #epsilon = (A0*epsilon_s)/spring_constants # + epsilon (I'm not sure about this)\n",
    "    epsilon, stress = compute_strain_and_stress(points, edges, l0, spring_constants)\n",
    "\n",
    "    a_K = calc_aK(spring_constants, At, beta)\n",
    "    a_epsilon = calc_aepsilon(epsilon, epsilon_s, gamma)\n",
    "    a = update_activation(a, a_epsilon, a_K, w1, w2, c, r)\n",
    "\n",
    "    #inside_region, edge_region = identify_regions(spring_constants, k_fibrosis, k_normal)\n",
    "    A, young_modulus = update_modulus_and_area(\n",
    "        young_modulus, A, spring_constants, a, D, P_modulus, P, soften_triggered, soften_duration, recovery_rate, E_baseline,one_time_triggered\n",
    "    )\n",
    "\n",
    "    #spring_constants = update_spring_constant(spring_constants, a, D, P, phase)\n",
    "    spring_constants = calculate_spring_constants(A, young_modulus, l0)\n",
    "\n",
    "    D = update_agent_density(D, a, p1, len(points), len(edges), D_0, Dmax, w2)\n",
    "    D = np.clip(D, D_0, Dmax)  # Bound the agent density\n",
    "\n",
    "    # Track the mean activation and agent density for plotting\n",
    "    activation_history.append(np.mean(a))\n",
    "    agent_density_history.append(np.mean(D))\n",
    "    stiffness_history.append(np.mean(spring_constants))\n",
    "    epsilon_history.append(np.mean(epsilon))\n",
    "    stress_history.append(np.mean(stress))\n",
    "    E_history.append(np.mean(young_modulus))\n",
    "    \n",
    "    # Run the simulation for the interval period\n",
    "    points = np.asarray(points, dtype=np.float64)\n",
    "    edges = np.asarray(edges, dtype=np.int32)\n",
    "    spring_constants = np.asarray(spring_constants, dtype=np.float64)\n",
    "    final_positions, edges, spring_constants = simulate(\n",
    "        points, edges, l0, spring_constants, mu, T, tolerance, agent_update_interval, free_nodes, False, False, False)\n",
    "    \n",
    "    strain, stress = compute_strain_and_stress(final_positions, edges, l0, spring_constants)\n",
    "    # Update points based on new positions\n",
    "    points = final_positions\n",
    "\n",
    "    # Save output every second phase\n",
    "    if phase % 2 == 0:\n",
    "        print(f\"Phase: {phase}, D max: {np.max(D)}, Mean Stiffness: {np.mean(spring_constants)}\")\n",
    "        filename = os.path.join(output_folder, f\"hexagonal_mesh_final_result_EDGE_agent_{str(phase).zfill(4)}.vtk\")\n",
    "        meshio.write(\n",
    "            filename,\n",
    "            meshio.Mesh(\n",
    "                final_positions,\n",
    "                cells=[(\"line\", final_edges)],\n",
    "                cell_data={\n",
    "                    \"Stiffness\": [spring_constants],\n",
    "                    \"Strain\": [strain],\n",
    "                    \"Stress\": [stress],\n",
    "                    \"E\": [young_modulus],\n",
    "                    \"A\": [A]\n",
    "                }\n",
    "            )\n",
    "        )\n",
    "\n",
    "# Final mesh output\n",
    "filename = os.path.join(output_folder, \"hexagonal_mesh_final_result_EDGE.vtk\")\n",
    "meshio.write(\n",
    "    filename,\n",
    "    meshio.Mesh(\n",
    "        final_positions,\n",
    "        cells=[(\"line\", final_edges)],\n",
    "        cell_data={\n",
    "            \"Stiffness\": [spring_constants],\n",
    "            \"Strain\": [strain],\n",
    "            \"Stress\": [stress]\n",
    "        }\n",
    "    )\n",
    ")\n"
   ]
  },
  {
   "cell_type": "code",
   "execution_count": 16,
   "id": "5a1e71b8",
   "metadata": {},
   "outputs": [
    {
     "data": {
      "image/png": "[encoded data removed]",
      "text/plain": [
       "<Figure size 640x480 with 1 Axes>"
      ]
     },
     "metadata": {},
     "output_type": "display_data"
    },
    {
     "data": {
      "image/png": "[encoded data removed]",
      "text/plain": [
       "<Figure size 640x480 with 1 Axes>"
      ]
     },
     "metadata": {},
     "output_type": "display_data"
    },
    {
     "data": {
      "image/png": "[encoded data removed]",
      "text/plain": [
       "<Figure size 640x480 with 1 Axes>"
      ]
     },
     "metadata": {},
     "output_type": "display_data"
    },
    {
     "data": {
      "image/png": "[encoded data removed]",
      "text/plain": [
       "<Figure size 640x480 with 1 Axes>"
      ]
     },
     "metadata": {},
     "output_type": "display_data"
    },
    {
     "data": {
      "image/png": "[encoded data removed]",
      "text/plain": [
       "<Figure size 640x480 with 1 Axes>"
      ]
     },
     "metadata": {},
     "output_type": "display_data"
    }
   ],
   "source": [
    "# Plotting the results after both phases\n",
    "plt.figure()\n",
    "plt.plot(activation_history, label='Mean Activation Level')\n",
    "plt.xlabel('Iteration')\n",
    "plt.ylabel('Mean Value')\n",
    "plt.legend()\n",
    "plt.show()\n",
    "\n",
    "plt.figure()\n",
    "plt.plot(agent_density_history, label='Mean Agent Density')\n",
    "plt.xlabel('Iteration')\n",
    "plt.ylabel('Mean Value')\n",
    "plt.legend()\n",
    "plt.show()\n",
    "\n",
    "# Plotting the results after both phases\n",
    "plt.figure()\n",
    "plt.plot(stiffness_history, label='Mean Spring Stiffness')\n",
    "plt.xlabel('Iteration')\n",
    "plt.ylabel('Mean Value')\n",
    "plt.legend()\n",
    "plt.show()\n",
    "\n",
    "# Plotting the results after both phases\n",
    "plt.figure()\n",
    "plt.plot(epsilon_history, label='Mean Spring Strain')\n",
    "plt.xlabel('Iteration')\n",
    "plt.ylabel('Mean Value')\n",
    "plt.legend()\n",
    "plt.show()\n",
    "\n",
    "plt.figure()\n",
    "plt.plot(stress_history, label='Mean Spring Stress')\n",
    "plt.xlabel('Iteration')\n",
    "plt.ylabel('Mean Value')\n",
    "plt.legend()\n",
    "plt.show()\n",
    "\n"
   ]
  },
  {
   "cell_type": "code",
   "execution_count": 17,
   "id": "139ded09",
   "metadata": {},
   "outputs": [
    {
     "data": {
      "image/png": "[encoded data removed]",
      "text/plain": [
       "<Figure size 640x480 with 1 Axes>"
      ]
     },
     "metadata": {},
     "output_type": "display_data"
    },
    {
     "data": {
      "text/html": [
       "<pre style=\"white-space:pre;overflow-x:auto;line-height:normal;font-family:Menlo,'DejaVu Sans Mono',consolas,'Courier New',monospace\"><span style=\"color: #808000; text-decoration-color: #808000; font-weight: bold\">Warning:</span><span style=\"color: #808000; text-decoration-color: #808000\"> VTK requires 3D points, but 2D points given. Appending </span><span style=\"color: #808000; text-decoration-color: #808000; font-weight: bold\">0</span><span style=\"color: #808000; text-decoration-color: #808000\"> third component.</span>\n",
       "</pre>\n"
      ],
      "text/plain": [
       "\u001b[1;33mWarning:\u001b[0m\u001b[33m VTK requires 3D points, but 2D points given. Appending \u001b[0m\u001b[1;33m0\u001b[0m\u001b[33m third component.\u001b[0m\n"
      ]
     },
     "metadata": {},
     "output_type": "display_data"
    },
    {
     "data": {
      "image/png": "[encoded data removed]",
      "text/plain": [
       "<Figure size 640x480 with 1 Axes>"
      ]
     },
     "metadata": {},
     "output_type": "display_data"
    },
    {
     "data": {
      "text/html": [
       "<pre style=\"white-space:pre;overflow-x:auto;line-height:normal;font-family:Menlo,'DejaVu Sans Mono',consolas,'Courier New',monospace\"><span style=\"color: #808000; text-decoration-color: #808000; font-weight: bold\">Warning:</span><span style=\"color: #808000; text-decoration-color: #808000\"> VTK requires 3D points, but 2D points given. Appending </span><span style=\"color: #808000; text-decoration-color: #808000; font-weight: bold\">0</span><span style=\"color: #808000; text-decoration-color: #808000\"> third component.</span>\n",
       "</pre>\n"
      ],
      "text/plain": [
       "\u001b[1;33mWarning:\u001b[0m\u001b[33m VTK requires 3D points, but 2D points given. Appending \u001b[0m\u001b[1;33m0\u001b[0m\u001b[33m third component.\u001b[0m\n"
      ]
     },
     "metadata": {},
     "output_type": "display_data"
    },
    {
     "name": "stdout",
     "output_type": "stream",
     "text": [
      "Breathing cycle simulation completed.\n",
      "Results from the last cycle step: {'cycle': 1, 'step': 2, 'strain': array([1.17391467, 1.17391203, 1.17391279, ..., 1.17391279, 1.17391203,\n",
      "       1.17391279]), 'stress': array([ 22.04748307,  22.04656501,  22.04682907, ..., 522.63815709,\n",
      "       522.63776546,  22.04682907])}\n"
     ]
    },
    {
     "data": {
      "text/plain": [
       "<Figure size 640x480 with 0 Axes>"
      ]
     },
     "metadata": {},
     "output_type": "display_data"
    }
   ],
   "source": [
    "# Initialize l0 for the resting length\n",
    "l0_initial = 0.4 * (2 / np.sqrt(3) * dx / 2)\n",
    "expansion_rate = 0.15                 # 15% expansion during inhalation\n",
    "cycle_iterations = 0               # Iterations per cycle (inhalation or exhalation)\n",
    "breathing_cycles = 1                  # Number of full breathing cycles\n",
    "steps_per_cycle = 1                  # Steps within each inhalation/exhalation phase\n",
    "output_folder = \"simulation_results\"   # Folder to store results\n",
    "\n",
    "os.makedirs(output_folder, exist_ok=True)\n",
    "\n",
    "# Simulate breathing cycle by modifying resting length\n",
    "def simulate_breathing_cycle(points, edges, spring_constants, mu, T, tolerance, free_nodes, breathing_cycles=2, steps_per_cycle=10):\n",
    "    cycle_data = []                    # Store strain and stress data\n",
    "    current_points = points.copy()     # Start with the initial points and update after each step\n",
    "    \n",
    "    for cycle in range(breathing_cycles):\n",
    "        # Inhalation phase: gradually increase resting length\n",
    "        for step in range(steps_per_cycle):\n",
    "            # Adjust l0 incrementally for inhalation\n",
    "            l0_expanded = l0_initial * (1 + expansion_rate * (step / steps_per_cycle))\n",
    "\n",
    "            # Run simulation with the current points\n",
    "            final_positions, final_edges, final_spring_constants = simulate(\n",
    "                current_points, edges, l0_expanded, spring_constants, mu, T, tolerance, cycle_iterations, free_nodes, plot_bar=False, print_results=False\n",
    "            )\n",
    "\n",
    "            # Calculate strain and stress for visualization\n",
    "            strain, stress = compute_strain_and_stress(final_positions, edges, l0_expanded, final_spring_constants)\n",
    "\n",
    "            # Scale points for visualization\n",
    "            visualization_scale = 1 + expansion_rate * (step / steps_per_cycle)\n",
    "            scaled_points = final_positions * visualization_scale\n",
    "\n",
    "            # Export the scaled mesh for visualization\n",
    "            filename = os.path.join(output_folder, f\"hexagonal_mesh_cycle_{cycle+1}_step_{step+1}.vtk\")\n",
    "            meshio.write(\n",
    "                filename,\n",
    "                meshio.Mesh(\n",
    "                    scaled_points,\n",
    "                    cells=[(\"line\", final_edges)],\n",
    "                    cell_data={\n",
    "                        \"Stiffness\": [final_spring_constants],\n",
    "                        \"Strain\": [strain],\n",
    "                        \"Stress\": [stress]\n",
    "                    }\n",
    "                )\n",
    "            )\n",
    "            cycle_data.append({\"cycle\": cycle + 1, \"step\": step + 1, \"strain\": strain, \"stress\": stress})\n",
    "\n",
    "            # Update current_points for the next step\n",
    "            current_points = final_positions\n",
    "\n",
    "        # Exhalation phase: gradually return resting length to initial\n",
    "        for step in range(steps_per_cycle):\n",
    "            # Adjust l0 for exhalation\n",
    "            l0_contracted = l0_initial * (1 + expansion_rate * (1 - step / steps_per_cycle))\n",
    "\n",
    "            # Run simulation with the updated current_points\n",
    "            final_positions, final_edges, final_spring_constants = simulate(\n",
    "                current_points, edges, l0_contracted, spring_constants, mu, T, tolerance, cycle_iterations, free_nodes, plot_bar=False, print_results=False\n",
    "            )\n",
    "\n",
    "            # Calculate strain and stress for visualization\n",
    "            strain, stress = compute_strain_and_stress(final_positions, edges, l0_contracted, final_spring_constants)\n",
    "\n",
    "            # Scale points for visualization\n",
    "            visualization_scale = 1 + expansion_rate * (1 - step / steps_per_cycle)\n",
    "            scaled_points = final_positions * visualization_scale\n",
    "\n",
    "            # Export the scaled mesh for visualization\n",
    "            filename = os.path.join(output_folder, f\"hexagonal_mesh_cycle_{cycle+1}_step_{step+1 + steps_per_cycle}.vtk\")\n",
    "            meshio.write(\n",
    "                filename,\n",
    "                meshio.Mesh(\n",
    "                    scaled_points,\n",
    "                    cells=[(\"line\", final_edges)],\n",
    "                    cell_data={\n",
    "                        \"Stiffness\": [final_spring_constants],\n",
    "                        \"Strain\": [strain],\n",
    "                        \"Stress\": [stress]\n",
    "                    }\n",
    "                )\n",
    "            )\n",
    "            cycle_data.append({\"cycle\": cycle + 1, \"step\": step + 1 + steps_per_cycle, \"strain\": strain, \"stress\": stress})\n",
    "\n",
    "            # Update current_points for the next step\n",
    "            current_points = final_positions\n",
    "\n",
    "    return cycle_data\n",
    "\n",
    "# Run the breathing cycle simulation\n",
    "cycle_data = simulate_breathing_cycle(\n",
    "    points=points,\n",
    "    edges=edges,\n",
    "    spring_constants=spring_constants,\n",
    "    mu=mu,\n",
    "    T=T,\n",
    "    tolerance=tolerance,\n",
    "    free_nodes=np.where(boundary_id == 0)[0],\n",
    "    breathing_cycles=breathing_cycles,\n",
    "    steps_per_cycle=steps_per_cycle\n",
    ")\n",
    "\n",
    "print(\"Breathing cycle simulation completed.\")\n",
    "print(\"Results from the last cycle step:\", cycle_data[-1])"
   ]
  }
 ],
 "metadata": {
  "kernelspec": {
   "display_name": "base",
   "language": "python",
   "name": "python3"
  },
  "language_info": {
   "codemirror_mode": {
    "name": "ipython",
    "version": 3
   },
   "file_extension": ".py",
   "mimetype": "text/x-python",
   "name": "python",
   "nbconvert_exporter": "python",
   "pygments_lexer": "ipython3",
   "version": "3.12.4"
  }
 },
 "nbformat": 4,
 "nbformat_minor": 5
}
